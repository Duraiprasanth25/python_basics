{
 "cells": [
  {
   "cell_type": "markdown",
   "id": "c2d2db47-97e3-4f0d-a023-7aed647ba33c",
   "metadata": {},
   "source": [
    "__string intro & index operator__"
   ]
  },
  {
   "cell_type": "code",
   "execution_count": 1,
   "id": "f5fed6b1-8b11-4ae2-ae92-41766219947b",
   "metadata": {},
   "outputs": [],
   "source": [
    "first = \"Sachin\"\n",
    "last = \"Tendulkar\""
   ]
  },
  {
   "cell_type": "code",
   "execution_count": 150,
   "id": "17af0964-47e3-45ed-95d2-5d2cc9fdfc11",
   "metadata": {},
   "outputs": [
    {
     "data": {
      "text/plain": [
       "str"
      ]
     },
     "execution_count": 150,
     "metadata": {},
     "output_type": "execute_result"
    }
   ],
   "source": [
    "type(first)"
   ]
  },
  {
   "cell_type": "code",
   "execution_count": 3,
   "id": "7dd127cc-906f-4da0-a983-4e9af300efee",
   "metadata": {},
   "outputs": [
    {
     "data": {
      "text/plain": [
       "'Sachin Tendulkar'"
      ]
     },
     "execution_count": 3,
     "metadata": {},
     "output_type": "execute_result"
    }
   ],
   "source": [
    "name = first + \" \" + last\n",
    "name"
   ]
  },
  {
   "cell_type": "code",
   "execution_count": 17,
   "id": "b1ca4cb7-1cd8-4aab-913a-1e917e0003af",
   "metadata": {},
   "outputs": [
    {
     "data": {
      "text/plain": [
       "'Sachin Tendulkar'"
      ]
     },
     "execution_count": 17,
     "metadata": {},
     "output_type": "execute_result"
    }
   ],
   "source": [
    "name = f'{first} {last}'\n",
    "name"
   ]
  },
  {
   "cell_type": "code",
   "execution_count": 20,
   "id": "f36c91c0-65b4-4564-bf3c-f7cb6ddb647a",
   "metadata": {},
   "outputs": [
    {
     "data": {
      "text/plain": [
       "('S', 'n', 'T', 'r')"
      ]
     },
     "execution_count": 20,
     "metadata": {},
     "output_type": "execute_result"
    }
   ],
   "source": [
    "name[0],name[5],name[7],name[15]"
   ]
  },
  {
   "cell_type": "code",
   "execution_count": 22,
   "id": "6d9bd058-6c04-4944-b270-ee34fcc5adda",
   "metadata": {},
   "outputs": [
    {
     "data": {
      "text/plain": [
       "'Sachin'"
      ]
     },
     "execution_count": 22,
     "metadata": {},
     "output_type": "execute_result"
    }
   ],
   "source": [
    "name[0:6]"
   ]
  },
  {
   "cell_type": "code",
   "execution_count": 26,
   "id": "1be664c6-f95d-4e45-ac93-49e31cb468b2",
   "metadata": {},
   "outputs": [
    {
     "data": {
      "text/plain": [
       "'Tendulkar'"
      ]
     },
     "execution_count": 26,
     "metadata": {},
     "output_type": "execute_result"
    }
   ],
   "source": [
    "name[7:]"
   ]
  },
  {
   "cell_type": "code",
   "execution_count": 27,
   "id": "0b031c4a-fe93-4d61-b4b2-5762468d1e2a",
   "metadata": {},
   "outputs": [
    {
     "data": {
      "text/plain": [
       "'r'"
      ]
     },
     "execution_count": 27,
     "metadata": {},
     "output_type": "execute_result"
    }
   ],
   "source": [
    "name[-1]"
   ]
  },
  {
   "cell_type": "code",
   "execution_count": 29,
   "id": "c7cbe6e8-01cd-4ede-bede-e732b8d623ec",
   "metadata": {},
   "outputs": [
    {
     "data": {
      "text/plain": [
       "' '"
      ]
     },
     "execution_count": 29,
     "metadata": {},
     "output_type": "execute_result"
    }
   ],
   "source": [
    "name[-10]"
   ]
  },
  {
   "cell_type": "code",
   "execution_count": 179,
   "id": "6b936668-0811-4ad3-88ed-ba9d9eb7bcb5",
   "metadata": {},
   "outputs": [
    {
     "data": {
      "text/plain": [
       "' Tendulkar'"
      ]
     },
     "execution_count": 179,
     "metadata": {},
     "output_type": "execute_result"
    }
   ],
   "source": [
    "name[-10:16]"
   ]
  },
  {
   "cell_type": "code",
   "execution_count": 31,
   "id": "3aa17a44-a3b5-4b05-8da2-1b2a2c99c9ce",
   "metadata": {},
   "outputs": [
    {
     "ename": "IndexError",
     "evalue": "string index out of range",
     "output_type": "error",
     "traceback": [
      "\u001b[1;31m---------------------------------------------------------------------------\u001b[0m",
      "\u001b[1;31mIndexError\u001b[0m                                Traceback (most recent call last)",
      "Cell \u001b[1;32mIn[31], line 1\u001b[0m\n\u001b[1;32m----> 1\u001b[0m \u001b[43mname\u001b[49m\u001b[43m[\u001b[49m\u001b[38;5;241;43m16\u001b[39;49m\u001b[43m]\u001b[49m\n",
      "\u001b[1;31mIndexError\u001b[0m: string index out of range"
     ]
    }
   ],
   "source": [
    "name[16]"
   ]
  },
  {
   "cell_type": "code",
   "execution_count": 32,
   "id": "2a35754e-1854-488a-b1e9-f6dd1610e71f",
   "metadata": {},
   "outputs": [
    {
     "data": {
      "text/plain": [
       "16"
      ]
     },
     "execution_count": 32,
     "metadata": {},
     "output_type": "execute_result"
    }
   ],
   "source": [
    "len(name)"
   ]
  },
  {
   "cell_type": "markdown",
   "id": "1321dec4-3f77-4f64-b907-ec9f226c237c",
   "metadata": {},
   "source": [
    "<h3 style=\"colour:Purple\"> index operator</h3>"
   ]
  },
  {
   "cell_type": "code",
   "execution_count": 51,
   "id": "0fb6cdb8-c6ab-4e47-8c85-5c9f030eeb51",
   "metadata": {},
   "outputs": [
    {
     "data": {
      "text/plain": [
       "'shawarma,bao'"
      ]
     },
     "execution_count": 51,
     "metadata": {},
     "output_type": "execute_result"
    }
   ],
   "source": [
    "my_food = \"shawarma,bao\"\n",
    "my_food"
   ]
  },
  {
   "cell_type": "code",
   "execution_count": 53,
   "id": "dcf092d7-a7cd-4d9c-ae42-52b6ee2575c9",
   "metadata": {},
   "outputs": [
    {
     "data": {
      "text/plain": [
       "False"
      ]
     },
     "execution_count": 53,
     "metadata": {},
     "output_type": "execute_result"
    }
   ],
   "source": [
    "'bao' not in my_food"
   ]
  },
  {
   "cell_type": "code",
   "execution_count": 48,
   "id": "ba4eb84b-d3e9-4c3b-b370-dc9f1f5e2e89",
   "metadata": {},
   "outputs": [
    {
     "data": {
      "text/plain": [
       "False"
      ]
     },
     "execution_count": 48,
     "metadata": {},
     "output_type": "execute_result"
    }
   ],
   "source": [
    "'pasta' in my_food"
   ]
  },
  {
   "cell_type": "code",
   "execution_count": 54,
   "id": "3e90f8e4-ea0f-4ff7-8eb3-bb5db598d03c",
   "metadata": {},
   "outputs": [
    {
     "data": {
      "text/plain": [
       "True"
      ]
     },
     "execution_count": 54,
     "metadata": {},
     "output_type": "execute_result"
    }
   ],
   "source": [
    "'shawarma'in my_food"
   ]
  },
  {
   "cell_type": "markdown",
   "id": "2243c29a-07c1-4da1-be63-c8b5208d15d7",
   "metadata": {},
   "source": [
    "<h3 style=\"color:purple\">single vs double vs tripple quotes</h3>"
   ]
  },
  {
   "cell_type": "code",
   "execution_count": 55,
   "id": "2beae054-d4eb-4a79-a39d-6e37fba984b6",
   "metadata": {},
   "outputs": [],
   "source": [
    "my_food = \"shawarma,bao\""
   ]
  },
  {
   "cell_type": "code",
   "execution_count": 61,
   "id": "cb22aceb-9ec0-46fb-9fed-3275169c51f9",
   "metadata": {},
   "outputs": [],
   "source": [
    "food_story = \"durai's favourite food is briyani\"\n",
    "s= 'he said \"oops\"'"
   ]
  },
  {
   "cell_type": "code",
   "execution_count": 68,
   "id": "87f70801-e16c-4daf-9a76-1ff400b3e0a5",
   "metadata": {},
   "outputs": [
    {
     "data": {
      "text/plain": [
       "\"Virat's game has again improved after downfall in his career.\\nHe his known for his centuries but he had an century drought for 3 years in his career! \\nbut he has been back to his reign!! \""
      ]
     },
     "execution_count": 68,
     "metadata": {},
     "output_type": "execute_result"
    }
   ],
   "source": [
    "game_review = '''Virat's game has again improved after downfall in his career.\n",
    "He his known for his centuries but he had an century drought for 3 years in his career! \n",
    "but he has been back to his reign!! '''\n",
    "game_review\n"
   ]
  },
  {
   "cell_type": "code",
   "execution_count": 69,
   "id": "b27f5aae-4c19-4243-a2fe-e947c618a78e",
   "metadata": {},
   "outputs": [
    {
     "name": "stdout",
     "output_type": "stream",
     "text": [
      "Virat's game has again improved after downfall in his career.\n",
      "He his known for his centuries but he had an century drought for 3 years in his career! \n",
      "but he has been back to his reign!! \n"
     ]
    }
   ],
   "source": [
    "print(game_review)"
   ]
  },
  {
   "cell_type": "markdown",
   "id": "8999bc6c-82be-4600-a766-5cee6a0a8c22",
   "metadata": {},
   "source": [
    "<h3 style=\"color:purple\">Some useful functions: replace, upper, lower, str, index, isdigit etc</h3>"
   ]
  },
  {
   "cell_type": "code",
   "execution_count": 100,
   "id": "53b9782c-76b4-4bf6-b292-1261be241f87",
   "metadata": {},
   "outputs": [
    {
     "data": {
      "text/plain": [
       "'patient was charged 100$ for lab test'"
      ]
     },
     "execution_count": 100,
     "metadata": {},
     "output_type": "execute_result"
    }
   ],
   "source": [
    "s= \"patient was charged 100$ for lab test\"\n",
    "s"
   ]
  },
  {
   "cell_type": "code",
   "execution_count": 101,
   "id": "81168ba4-040d-4bf4-8e5b-07793754b799",
   "metadata": {},
   "outputs": [],
   "source": [
    "s = s.replace(\"100$\",\"50$\")"
   ]
  },
  {
   "cell_type": "code",
   "execution_count": 102,
   "id": "09c3468b-dd20-4ee3-9b24-a73de22f71fd",
   "metadata": {},
   "outputs": [
    {
     "data": {
      "text/plain": [
       "'patient was charged 50$ for lab test'"
      ]
     },
     "execution_count": 102,
     "metadata": {},
     "output_type": "execute_result"
    }
   ],
   "source": [
    "s"
   ]
  },
  {
   "cell_type": "code",
   "execution_count": 103,
   "id": "038281b1-0917-4f17-8b8a-c943017698ae",
   "metadata": {},
   "outputs": [
    {
     "data": {
      "text/plain": [
       "['__add__',\n",
       " '__class__',\n",
       " '__contains__',\n",
       " '__delattr__',\n",
       " '__dir__',\n",
       " '__doc__',\n",
       " '__eq__',\n",
       " '__format__',\n",
       " '__ge__',\n",
       " '__getattribute__',\n",
       " '__getitem__',\n",
       " '__getnewargs__',\n",
       " '__gt__',\n",
       " '__hash__',\n",
       " '__init__',\n",
       " '__init_subclass__',\n",
       " '__iter__',\n",
       " '__le__',\n",
       " '__len__',\n",
       " '__lt__',\n",
       " '__mod__',\n",
       " '__mul__',\n",
       " '__ne__',\n",
       " '__new__',\n",
       " '__reduce__',\n",
       " '__reduce_ex__',\n",
       " '__repr__',\n",
       " '__rmod__',\n",
       " '__rmul__',\n",
       " '__setattr__',\n",
       " '__sizeof__',\n",
       " '__str__',\n",
       " '__subclasshook__',\n",
       " 'capitalize',\n",
       " 'casefold',\n",
       " 'center',\n",
       " 'count',\n",
       " 'encode',\n",
       " 'endswith',\n",
       " 'expandtabs',\n",
       " 'find',\n",
       " 'format',\n",
       " 'format_map',\n",
       " 'index',\n",
       " 'isalnum',\n",
       " 'isalpha',\n",
       " 'isascii',\n",
       " 'isdecimal',\n",
       " 'isdigit',\n",
       " 'isidentifier',\n",
       " 'islower',\n",
       " 'isnumeric',\n",
       " 'isprintable',\n",
       " 'isspace',\n",
       " 'istitle',\n",
       " 'isupper',\n",
       " 'join',\n",
       " 'ljust',\n",
       " 'lower',\n",
       " 'lstrip',\n",
       " 'maketrans',\n",
       " 'partition',\n",
       " 'replace',\n",
       " 'rfind',\n",
       " 'rindex',\n",
       " 'rjust',\n",
       " 'rpartition',\n",
       " 'rsplit',\n",
       " 'rstrip',\n",
       " 'split',\n",
       " 'splitlines',\n",
       " 'startswith',\n",
       " 'strip',\n",
       " 'swapcase',\n",
       " 'title',\n",
       " 'translate',\n",
       " 'upper',\n",
       " 'zfill']"
      ]
     },
     "execution_count": 103,
     "metadata": {},
     "output_type": "execute_result"
    }
   ],
   "source": [
    "dir(s)"
   ]
  },
  {
   "cell_type": "code",
   "execution_count": 106,
   "id": "8b5ad119-0176-4c9a-a09e-d7937de8da38",
   "metadata": {},
   "outputs": [
    {
     "data": {
      "text/plain": [
       "'patient was charged 50$ for lab test'"
      ]
     },
     "execution_count": 106,
     "metadata": {},
     "output_type": "execute_result"
    }
   ],
   "source": [
    "s"
   ]
  },
  {
   "cell_type": "code",
   "execution_count": 108,
   "id": "f515b0be-4bc3-46a6-9f56-44c7699a308b",
   "metadata": {},
   "outputs": [
    {
     "data": {
      "text/plain": [
       "'PATIENT WAS CHARGED 50$ FOR LAB TEST'"
      ]
     },
     "execution_count": 108,
     "metadata": {},
     "output_type": "execute_result"
    }
   ],
   "source": [
    "s.upper()"
   ]
  },
  {
   "cell_type": "code",
   "execution_count": 113,
   "id": "10a48f7c-9790-4d7a-96f6-3c6553911682",
   "metadata": {},
   "outputs": [
    {
     "data": {
      "text/plain": [
       "'patient was charged 50$ for lab test'"
      ]
     },
     "execution_count": 113,
     "metadata": {},
     "output_type": "execute_result"
    }
   ],
   "source": [
    "s.lower()"
   ]
  },
  {
   "cell_type": "code",
   "execution_count": 114,
   "id": "109dc368-c20a-4f04-8477-fa2e8d4a6bf9",
   "metadata": {},
   "outputs": [
    {
     "data": {
      "text/plain": [
       "28"
      ]
     },
     "execution_count": 114,
     "metadata": {},
     "output_type": "execute_result"
    }
   ],
   "source": [
    "s.index(\"lab\")"
   ]
  },
  {
   "cell_type": "code",
   "execution_count": 118,
   "id": "04da9e37-4b93-4d69-b67b-ceb640113fe8",
   "metadata": {},
   "outputs": [
    {
     "data": {
      "text/plain": [
       "True"
      ]
     },
     "execution_count": 118,
     "metadata": {},
     "output_type": "execute_result"
    }
   ],
   "source": [
    "\"550\".isdigit()"
   ]
  },
  {
   "cell_type": "code",
   "execution_count": 119,
   "id": "33bf5283-820f-41dc-8d04-1edf34b116ed",
   "metadata": {},
   "outputs": [
    {
     "data": {
      "text/plain": [
       "False"
      ]
     },
     "execution_count": 119,
     "metadata": {},
     "output_type": "execute_result"
    }
   ],
   "source": [
    "'420x'.isdigit()"
   ]
  },
  {
   "cell_type": "code",
   "execution_count": 141,
   "id": "05886fdf-b718-40e7-a1ec-23c4edbf234f",
   "metadata": {},
   "outputs": [],
   "source": [
    "age=25\n",
    "text = \"my age is :\""
   ]
  },
  {
   "cell_type": "code",
   "execution_count": 142,
   "id": "86d778bd-5715-44f5-8754-29eedb989f06",
   "metadata": {},
   "outputs": [
    {
     "ename": "TypeError",
     "evalue": "can only concatenate str (not \"int\") to str",
     "output_type": "error",
     "traceback": [
      "\u001b[1;31m---------------------------------------------------------------------------\u001b[0m",
      "\u001b[1;31mTypeError\u001b[0m                                 Traceback (most recent call last)",
      "Cell \u001b[1;32mIn[142], line 1\u001b[0m\n\u001b[1;32m----> 1\u001b[0m \u001b[43mtext\u001b[49m\u001b[38;5;241;43m+\u001b[39;49m\u001b[43mage\u001b[49m\n",
      "\u001b[1;31mTypeError\u001b[0m: can only concatenate str (not \"int\") to str"
     ]
    }
   ],
   "source": [
    "text+age"
   ]
  },
  {
   "cell_type": "code",
   "execution_count": 143,
   "id": "ee1dff34-0c95-4a16-b522-c4214c37d111",
   "metadata": {},
   "outputs": [
    {
     "data": {
      "text/plain": [
       "25"
      ]
     },
     "execution_count": 143,
     "metadata": {},
     "output_type": "execute_result"
    }
   ],
   "source": [
    "age"
   ]
  },
  {
   "cell_type": "markdown",
   "id": "9ed36900-decb-481c-a25f-53d1c04c4cc6",
   "metadata": {},
   "source": [
    "<h3 style=\"color:purple\">Python format strings: a.k.a f strings and special characters: \\n \\t</h3>"
   ]
  },
  {
   "cell_type": "code",
   "execution_count": 153,
   "id": "298a4ca7-c5d3-409b-8218-f8ebf94767f6",
   "metadata": {},
   "outputs": [],
   "source": [
    "height = 55\n",
    "weight = 75"
   ]
  },
  {
   "cell_type": "code",
   "execution_count": 157,
   "id": "ac00c493-92c8-40ca-98e3-40e3643883fd",
   "metadata": {},
   "outputs": [],
   "source": [
    "patient_information = f\"height: {height} cm, weight: {weight} kg\""
   ]
  },
  {
   "cell_type": "code",
   "execution_count": 158,
   "id": "f2b24c72-70ca-48f7-ab05-51a4b1f1db9d",
   "metadata": {},
   "outputs": [
    {
     "data": {
      "text/plain": [
       "'height: 55 cm, weight: 75 kg'"
      ]
     },
     "execution_count": 158,
     "metadata": {},
     "output_type": "execute_result"
    }
   ],
   "source": [
    "patient_information"
   ]
  },
  {
   "cell_type": "code",
   "execution_count": 162,
   "id": "ca8e9b3d-4455-4620-b403-ead43add1767",
   "metadata": {},
   "outputs": [],
   "source": [
    "patient_information = f\"height: {height} cm\\nweight: {weight} kg\""
   ]
  },
  {
   "cell_type": "code",
   "execution_count": 163,
   "id": "4ae74088-6ee5-444c-9ced-52f26a5c89be",
   "metadata": {},
   "outputs": [
    {
     "data": {
      "text/plain": [
       "'height: 55 cm\\nweight: 75 kg'"
      ]
     },
     "execution_count": 163,
     "metadata": {},
     "output_type": "execute_result"
    }
   ],
   "source": [
    "patient_information "
   ]
  },
  {
   "cell_type": "code",
   "execution_count": 164,
   "id": "e5e6d92b-132c-4a81-a07b-b8681bbbeddc",
   "metadata": {},
   "outputs": [
    {
     "name": "stdout",
     "output_type": "stream",
     "text": [
      "height: 55 cm\n",
      "weight: 75 kg\n"
     ]
    }
   ],
   "source": [
    "print(patient_information)"
   ]
  },
  {
   "cell_type": "code",
   "execution_count": 168,
   "id": "d0424b3d-9d55-470c-ac49-0b9cc6acc287",
   "metadata": {},
   "outputs": [],
   "source": [
    "s=\"hey\\tbro\""
   ]
  },
  {
   "cell_type": "code",
   "execution_count": 169,
   "id": "9325b33f-8553-46fd-bb74-402a4c736c67",
   "metadata": {},
   "outputs": [
    {
     "name": "stdout",
     "output_type": "stream",
     "text": [
      "hey\tbro\n"
     ]
    }
   ],
   "source": [
    "print(s)"
   ]
  },
  {
   "cell_type": "code",
   "execution_count": 170,
   "id": "f961394d-d8fc-431a-a0fc-894e1f86b7f0",
   "metadata": {},
   "outputs": [],
   "source": [
    "t = \"hello python!\""
   ]
  },
  {
   "cell_type": "code",
   "execution_count": 171,
   "id": "ffca5b30-784b-432d-8814-37d30367298b",
   "metadata": {},
   "outputs": [
    {
     "data": {
      "text/plain": [
       "'HELLO PYTHON!'"
      ]
     },
     "execution_count": 171,
     "metadata": {},
     "output_type": "execute_result"
    }
   ],
   "source": [
    "t.upper()"
   ]
  },
  {
   "cell_type": "code",
   "execution_count": 172,
   "id": "85d7bfbe-a7a0-45e2-8bc3-fc5a4db6adea",
   "metadata": {},
   "outputs": [],
   "source": [
    "str = \"CodeBasics\""
   ]
  },
  {
   "cell_type": "code",
   "execution_count": 174,
   "id": "76fc54cb-9ecb-4f4d-a94c-0194fd9ae5ee",
   "metadata": {},
   "outputs": [
    {
     "ename": "SyntaxError",
     "evalue": "unexpected EOF while parsing (2220142850.py, line 1)",
     "output_type": "error",
     "traceback": [
      "\u001b[1;36m  Cell \u001b[1;32mIn[174], line 1\u001b[1;36m\u001b[0m\n\u001b[1;33m    print(str[:4].\u001b[0m\n\u001b[1;37m                  ^\u001b[0m\n\u001b[1;31mSyntaxError\u001b[0m\u001b[1;31m:\u001b[0m unexpected EOF while parsing\n"
     ]
    }
   ],
   "source": [
    "print(str[:4]."
   ]
  },
  {
   "cell_type": "code",
   "execution_count": 175,
   "id": "8d5add5b-c125-4c49-84e0-208a94e9ea7c",
   "metadata": {},
   "outputs": [],
   "source": [
    "string = \"CodeBasics\""
   ]
  },
  {
   "cell_type": "code",
   "execution_count": 176,
   "id": "ef16e555-52c6-438e-80b1-3a8b4008d71d",
   "metadata": {},
   "outputs": [
    {
     "name": "stdout",
     "output_type": "stream",
     "text": [
      "Skill\n"
     ]
    }
   ],
   "source": [
    "print(string[:4].replace(\"Code\", \"Skill\"))"
   ]
  },
  {
   "cell_type": "code",
   "execution_count": null,
   "id": "bac1c8df-61dc-4eac-a3f8-68e3bc700ceb",
   "metadata": {},
   "outputs": [],
   "source": []
  }
 ],
 "metadata": {
  "kernelspec": {
   "display_name": "Python 3 (ipykernel)",
   "language": "python",
   "name": "python3"
  },
  "language_info": {
   "codemirror_mode": {
    "name": "ipython",
    "version": 3
   },
   "file_extension": ".py",
   "mimetype": "text/x-python",
   "name": "python",
   "nbconvert_exporter": "python",
   "pygments_lexer": "ipython3",
   "version": "3.8.10"
  }
 },
 "nbformat": 4,
 "nbformat_minor": 5
}

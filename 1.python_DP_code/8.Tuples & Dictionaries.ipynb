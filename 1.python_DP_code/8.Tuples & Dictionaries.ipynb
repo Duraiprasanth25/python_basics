{
 "cells": [
  {
   "cell_type": "code",
   "execution_count": null,
   "id": "86a256fb-a71c-46a8-8828-7a0f9c0064d3",
   "metadata": {},
   "outputs": [],
   "source": []
  },
  {
   "cell_type": "code",
   "execution_count": 1,
   "id": "fd9b04cb-5f9a-4958-a47a-43fa340dbded",
   "metadata": {},
   "outputs": [],
   "source": [
    "expenses = [234,657,300,500,111]"
   ]
  },
  {
   "cell_type": "code",
   "execution_count": 2,
   "id": "ab7196ea-6290-4ae1-84b1-86b4716fab63",
   "metadata": {},
   "outputs": [],
   "source": [
    "point = [5,6]"
   ]
  },
  {
   "cell_type": "code",
   "execution_count": 4,
   "id": "8d3393c1-b439-4ad4-b4d8-3392a718336b",
   "metadata": {},
   "outputs": [],
   "source": [
    "point[1]=8"
   ]
  },
  {
   "cell_type": "code",
   "execution_count": 5,
   "id": "a17de94f-b747-409d-9f7f-32212f017baf",
   "metadata": {},
   "outputs": [
    {
     "data": {
      "text/plain": [
       "8"
      ]
     },
     "execution_count": 5,
     "metadata": {},
     "output_type": "execute_result"
    }
   ],
   "source": [
    "point[1]"
   ]
  },
  {
   "cell_type": "code",
   "execution_count": 6,
   "id": "5f3acc10-c896-438a-9bdf-ee20881975ba",
   "metadata": {},
   "outputs": [],
   "source": [
    "#if it's tuple\n",
    "point = (5,6) or # 5,6 both are tuples"
   ]
  },
  {
   "cell_type": "code",
   "execution_count": 8,
   "id": "e546bf52-c400-40ad-b2db-e14b710556df",
   "metadata": {},
   "outputs": [
    {
     "ename": "TypeError",
     "evalue": "'tuple' object does not support item assignment",
     "output_type": "error",
     "traceback": [
      "\u001b[1;31m---------------------------------------------------------------------------\u001b[0m",
      "\u001b[1;31mTypeError\u001b[0m                                 Traceback (most recent call last)",
      "Cell \u001b[1;32mIn[8], line 1\u001b[0m\n\u001b[1;32m----> 1\u001b[0m \u001b[43mpoint\u001b[49m\u001b[43m[\u001b[49m\u001b[38;5;241;43m1\u001b[39;49m\u001b[43m]\u001b[49m\u001b[38;5;241m=\u001b[39m\u001b[38;5;241m8\u001b[39m\n",
      "\u001b[1;31mTypeError\u001b[0m: 'tuple' object does not support item assignment"
     ]
    }
   ],
   "source": [
    "point[1]=8"
   ]
  },
  {
   "cell_type": "code",
   "execution_count": 11,
   "id": "0bb2e597-0cf6-4a9d-b918-7c6e0eb53d35",
   "metadata": {},
   "outputs": [
    {
     "data": {
      "text/plain": [
       "(5, 6)"
      ]
     },
     "execution_count": 11,
     "metadata": {},
     "output_type": "execute_result"
    }
   ],
   "source": [
    "#so it's immutable\n",
    "point[0]"
   ]
  },
  {
   "cell_type": "code",
   "execution_count": 15,
   "id": "1d70b305-b51b-4353-bd74-91f6abbe9a5a",
   "metadata": {},
   "outputs": [],
   "source": [
    "point_3d = (4,7,9)\n",
    "#tuples can have any number of values"
   ]
  },
  {
   "cell_type": "code",
   "execution_count": 17,
   "id": "f8943cd2-ba70-4e15-825d-0f6a86cc0d51",
   "metadata": {},
   "outputs": [
    {
     "data": {
      "text/plain": [
       "9"
      ]
     },
     "execution_count": 17,
     "metadata": {},
     "output_type": "execute_result"
    }
   ],
   "source": [
    "point_3d[2] "
   ]
  },
  {
   "cell_type": "markdown",
   "id": "85a3b1f6-20aa-4f23-b3c0-f92f06a270d3",
   "metadata": {},
   "source": [
    "__Tuples are useful when you want to return multiple values from a function__"
   ]
  },
  {
   "cell_type": "code",
   "execution_count": 20,
   "id": "c005d071-2989-4fc0-bb2f-b27d49f7a1b1",
   "metadata": {},
   "outputs": [],
   "source": [
    "def find_pe_and_pb(price,eps,book_value):\n",
    "    pe = price/eps\n",
    "    pb = price/book_value\n",
    "    return pe,pb"
   ]
  },
  {
   "cell_type": "code",
   "execution_count": 25,
   "id": "da89c690-4503-431f-b62e-6f8c8456c93f",
   "metadata": {},
   "outputs": [],
   "source": [
    "pe_ratio,pb_ratio = find_pe_and_pb(500,4,8)"
   ]
  },
  {
   "cell_type": "code",
   "execution_count": 26,
   "id": "1ddd03fb-c675-47ba-a01c-c0b3c60f322d",
   "metadata": {},
   "outputs": [
    {
     "data": {
      "text/plain": [
       "125.0"
      ]
     },
     "execution_count": 26,
     "metadata": {},
     "output_type": "execute_result"
    }
   ],
   "source": [
    "pe_ratio"
   ]
  },
  {
   "cell_type": "code",
   "execution_count": 27,
   "id": "4a118c8b-6ba7-4dd5-bbd2-399f942ce621",
   "metadata": {},
   "outputs": [
    {
     "data": {
      "text/plain": [
       "62.5"
      ]
     },
     "execution_count": 27,
     "metadata": {},
     "output_type": "execute_result"
    }
   ],
   "source": [
    "pb_ratio"
   ]
  },
  {
   "cell_type": "code",
   "execution_count": 28,
   "id": "9d82d628-5692-491f-98ab-6608297c340f",
   "metadata": {},
   "outputs": [
    {
     "data": {
      "text/plain": [
       "(125.0, 62.5)"
      ]
     },
     "execution_count": 28,
     "metadata": {},
     "output_type": "execute_result"
    }
   ],
   "source": [
    "pe_ratio,pb_ratio"
   ]
  },
  {
   "cell_type": "markdown",
   "id": "f8398da1-a3ed-4d57-b974-d33fa643651b",
   "metadata": {},
   "source": [
    "<h3 style='colour:Blue'>Dictionary</h3>"
   ]
  },
  {
   "cell_type": "code",
   "execution_count": 84,
   "id": "0c9c0ff9-1299-4178-91cc-5c2b0f139f0d",
   "metadata": {},
   "outputs": [],
   "source": [
    "contacts = [('bindo',7777777777,),('subi', 8888888888),('anupam', 5555555555),('nive',4444444444)]"
   ]
  },
  {
   "cell_type": "code",
   "execution_count": 85,
   "id": "afd9cb23-e79e-4845-a091-bf66a985e2db",
   "metadata": {},
   "outputs": [
    {
     "name": "stdout",
     "output_type": "stream",
     "text": [
      "5555555555\n"
     ]
    }
   ],
   "source": [
    "for contact in contacts:\n",
    "    if contact[0] == 'anupam':\n",
    "        print (contact[1])"
   ]
  },
  {
   "cell_type": "code",
   "execution_count": 3,
   "id": "465a34ce-d2c8-444c-bc2f-329b4503f020",
   "metadata": {},
   "outputs": [
    {
     "data": {
      "text/plain": [
       "{'bindo': 7777777777,\n",
       " 'subi': 8888888888,\n",
       " 'anupam': 5555555555,\n",
       " 'nive': 4444444444}"
      ]
     },
     "execution_count": 3,
     "metadata": {},
     "output_type": "execute_result"
    }
   ],
   "source": [
    "d= {'bindo':7777777777,\n",
    "    'subi': 8888888888,\n",
    "    'anupam': 5555555555,\n",
    "    'nive':4444444444}\n",
    "d"
   ]
  },
  {
   "cell_type": "code",
   "execution_count": 87,
   "id": "61236058-0b43-41db-9ea5-763bc7d56c05",
   "metadata": {},
   "outputs": [
    {
     "data": {
      "text/plain": [
       "4444444444"
      ]
     },
     "execution_count": 87,
     "metadata": {},
     "output_type": "execute_result"
    }
   ],
   "source": [
    "d['nive']"
   ]
  },
  {
   "cell_type": "code",
   "execution_count": 88,
   "id": "ef62b718-f601-48df-8b1a-043cf10c15ae",
   "metadata": {},
   "outputs": [
    {
     "data": {
      "text/plain": [
       "8888888888"
      ]
     },
     "execution_count": 88,
     "metadata": {},
     "output_type": "execute_result"
    }
   ],
   "source": [
    "d['subi']"
   ]
  },
  {
   "cell_type": "code",
   "execution_count": 89,
   "id": "0cd4d8dc-6379-483e-aa68-bb9ee1ec4dcb",
   "metadata": {},
   "outputs": [
    {
     "data": {
      "text/plain": [
       "7777777777"
      ]
     },
     "execution_count": 89,
     "metadata": {},
     "output_type": "execute_result"
    }
   ],
   "source": [
    "d.get('bindo')"
   ]
  },
  {
   "cell_type": "code",
   "execution_count": 90,
   "id": "2bf7d7d3-2cc2-43d4-baca-b4ad1cf1df1a",
   "metadata": {},
   "outputs": [],
   "source": [
    "d.get('teja')"
   ]
  },
  {
   "cell_type": "code",
   "execution_count": 91,
   "id": "2e960fb4-d67c-4f88-8c26-2c2af92bc19e",
   "metadata": {},
   "outputs": [
    {
     "data": {
      "text/plain": [
       "0"
      ]
     },
     "execution_count": 91,
     "metadata": {},
     "output_type": "execute_result"
    }
   ],
   "source": [
    "d.get('teja',0)"
   ]
  },
  {
   "cell_type": "code",
   "execution_count": 92,
   "id": "48de869d-68f1-499a-80e4-6d3d0ae2516b",
   "metadata": {},
   "outputs": [
    {
     "data": {
      "text/plain": [
       "{'bindo': 7777777777,\n",
       " 'subi': 1111111111,\n",
       " 'anupam': 5555555555,\n",
       " 'nive': 4444444444}"
      ]
     },
     "execution_count": 92,
     "metadata": {},
     "output_type": "execute_result"
    }
   ],
   "source": [
    "d['subi'] = 1111111111\n",
    "d"
   ]
  },
  {
   "cell_type": "code",
   "execution_count": 93,
   "id": "b83c6d1a-de40-4518-83ab-8a74893aa09f",
   "metadata": {},
   "outputs": [
    {
     "data": {
      "text/plain": [
       "1111111111"
      ]
     },
     "execution_count": 93,
     "metadata": {},
     "output_type": "execute_result"
    }
   ],
   "source": [
    "d['subi']"
   ]
  },
  {
   "cell_type": "code",
   "execution_count": 94,
   "id": "2128a586-79fc-47d1-8d4c-973509f27aaf",
   "metadata": {},
   "outputs": [
    {
     "data": {
      "text/plain": [
       "{'bindo': 7777777777,\n",
       " 'subi': 1111111111,\n",
       " 'anupam': 5555555555,\n",
       " 'nive': 4444444444,\n",
       " 'teju': 6666666666}"
      ]
     },
     "execution_count": 94,
     "metadata": {},
     "output_type": "execute_result"
    }
   ],
   "source": [
    "d['teju'] = 6666666666\n",
    "d"
   ]
  },
  {
   "cell_type": "code",
   "execution_count": 95,
   "id": "72703bb5-4355-4cf5-9b35-d32e3e3d9aba",
   "metadata": {},
   "outputs": [
    {
     "data": {
      "text/plain": [
       "{'bindo': 7777777777,\n",
       " 'subi': 1111111111,\n",
       " 'anupam': 5555555555,\n",
       " 'nive': 4444444444}"
      ]
     },
     "execution_count": 95,
     "metadata": {},
     "output_type": "execute_result"
    }
   ],
   "source": [
    "del d['teju']\n",
    "d"
   ]
  },
  {
   "cell_type": "code",
   "execution_count": 96,
   "id": "01e7f410-97af-464f-afd6-f846c5a1761d",
   "metadata": {},
   "outputs": [
    {
     "data": {
      "text/plain": [
       "False"
      ]
     },
     "execution_count": 96,
     "metadata": {},
     "output_type": "execute_result"
    }
   ],
   "source": [
    "'abdul' in d"
   ]
  },
  {
   "cell_type": "code",
   "execution_count": 97,
   "id": "b9113b95-566c-4289-a217-4574b8c682f2",
   "metadata": {},
   "outputs": [
    {
     "data": {
      "text/plain": [
       "True"
      ]
     },
     "execution_count": 97,
     "metadata": {},
     "output_type": "execute_result"
    }
   ],
   "source": [
    "'bindo' in d"
   ]
  },
  {
   "cell_type": "code",
   "execution_count": 98,
   "id": "d6c363e3-cbea-4e32-8800-72e46f5cb62b",
   "metadata": {},
   "outputs": [
    {
     "data": {
      "text/plain": [
       "{'bindo': {'phone': 7777777777, 'address': 'Arizona'},\n",
       " 'subi': {'phone': 1111111111, 'address': 'Chennai'},\n",
       " 'anupam': {'phone': 1111111111, 'address': 'Delhi'},\n",
       " 'nive': {'phone': 4444444444, 'address': 'Telengana'}}"
      ]
     },
     "execution_count": 98,
     "metadata": {},
     "output_type": "execute_result"
    }
   ],
   "source": [
    "contact_d  = { 'bindo': {'phone': 7777777777, 'address': 'Arizona' },\n",
    "        'subi': {'phone':  1111111111, 'address': 'Chennai'},\n",
    "        'anupam':{'phone':  1111111111, 'address': 'Delhi'},\n",
    "        'nive':{'phone': 4444444444 , 'address': 'Telengana'}\n",
    "\n",
    "     }\n",
    "contact_d"
   ]
  },
  {
   "cell_type": "code",
   "execution_count": 99,
   "id": "9aa5f214-7f39-49ec-9501-36645a80629c",
   "metadata": {},
   "outputs": [
    {
     "data": {
      "text/plain": [
       "7777777777"
      ]
     },
     "execution_count": 99,
     "metadata": {},
     "output_type": "execute_result"
    }
   ],
   "source": [
    "contact_d['bindo']['phone']"
   ]
  },
  {
   "cell_type": "code",
   "execution_count": 100,
   "id": "6d53760a-2fcd-4b8b-9a91-f9479395df9e",
   "metadata": {},
   "outputs": [
    {
     "data": {
      "text/plain": [
       "'Telengana'"
      ]
     },
     "execution_count": 100,
     "metadata": {},
     "output_type": "execute_result"
    }
   ],
   "source": [
    "contact_d['nive']['address']"
   ]
  },
  {
   "cell_type": "code",
   "execution_count": 101,
   "id": "ca4799cd-8ad8-4af7-86fa-339a0a1f15b1",
   "metadata": {},
   "outputs": [
    {
     "name": "stdout",
     "output_type": "stream",
     "text": [
      "bindo\n",
      "subi\n",
      "anupam\n",
      "nive\n"
     ]
    }
   ],
   "source": [
    "for name in d:\n",
    "    print(name)"
   ]
  },
  {
   "cell_type": "code",
   "execution_count": 103,
   "id": "a1b28023-7d60-4648-8dd0-34e90f3f92af",
   "metadata": {},
   "outputs": [
    {
     "name": "stdout",
     "output_type": "stream",
     "text": [
      "bindo 7777777777\n",
      "subi 1111111111\n",
      "anupam 5555555555\n",
      "nive 4444444444\n"
     ]
    }
   ],
   "source": [
    "for name in d:\n",
    "    print(name, d[name])"
   ]
  },
  {
   "cell_type": "code",
   "execution_count": 102,
   "id": "8322961d-2ccd-4fe6-a1c5-099b7169ef30",
   "metadata": {},
   "outputs": [
    {
     "name": "stdout",
     "output_type": "stream",
     "text": [
      "bindo 7777777777\n",
      "subi 1111111111\n",
      "anupam 5555555555\n",
      "nive 4444444444\n"
     ]
    }
   ],
   "source": [
    "for name, number in d.items():\n",
    "    print(name,number)"
   ]
  },
  {
   "cell_type": "code",
   "execution_count": 2,
   "id": "39164c1a-c33b-41a1-8ad2-b08a33b6db44",
   "metadata": {},
   "outputs": [
    {
     "ename": "NameError",
     "evalue": "name 'd' is not defined",
     "output_type": "error",
     "traceback": [
      "\u001b[1;31m---------------------------------------------------------------------------\u001b[0m",
      "\u001b[1;31mNameError\u001b[0m                                 Traceback (most recent call last)",
      "Cell \u001b[1;32mIn[2], line 1\u001b[0m\n\u001b[1;32m----> 1\u001b[0m \u001b[38;5;28mdir\u001b[39m(\u001b[43md\u001b[49m)\n",
      "\u001b[1;31mNameError\u001b[0m: name 'd' is not defined"
     ]
    }
   ],
   "source": [
    "dir(d)"
   ]
  },
  {
   "cell_type": "code",
   "execution_count": 4,
   "id": "27a755a1-af98-4926-ac7e-2aae26c4f38e",
   "metadata": {},
   "outputs": [
    {
     "data": {
      "text/plain": [
       "{'bindo': 7777777777,\n",
       " 'subi': 8888888888,\n",
       " 'anupam': 5555555555,\n",
       " 'nive': 4444444444}"
      ]
     },
     "execution_count": 4,
     "metadata": {},
     "output_type": "execute_result"
    }
   ],
   "source": [
    "d"
   ]
  },
  {
   "cell_type": "code",
   "execution_count": 5,
   "id": "8acf8a82-5527-4155-a356-a21ea9cb6165",
   "metadata": {},
   "outputs": [
    {
     "data": {
      "text/plain": [
       "['__class__',\n",
       " '__contains__',\n",
       " '__delattr__',\n",
       " '__delitem__',\n",
       " '__dir__',\n",
       " '__doc__',\n",
       " '__eq__',\n",
       " '__format__',\n",
       " '__ge__',\n",
       " '__getattribute__',\n",
       " '__getitem__',\n",
       " '__gt__',\n",
       " '__hash__',\n",
       " '__init__',\n",
       " '__init_subclass__',\n",
       " '__iter__',\n",
       " '__le__',\n",
       " '__len__',\n",
       " '__lt__',\n",
       " '__ne__',\n",
       " '__new__',\n",
       " '__reduce__',\n",
       " '__reduce_ex__',\n",
       " '__repr__',\n",
       " '__reversed__',\n",
       " '__setattr__',\n",
       " '__setitem__',\n",
       " '__sizeof__',\n",
       " '__str__',\n",
       " '__subclasshook__',\n",
       " 'clear',\n",
       " 'copy',\n",
       " 'fromkeys',\n",
       " 'get',\n",
       " 'items',\n",
       " 'keys',\n",
       " 'pop',\n",
       " 'popitem',\n",
       " 'setdefault',\n",
       " 'update',\n",
       " 'values']"
      ]
     },
     "execution_count": 5,
     "metadata": {},
     "output_type": "execute_result"
    }
   ],
   "source": [
    "dir(d)"
   ]
  },
  {
   "cell_type": "code",
   "execution_count": 6,
   "id": "69814e3e-4c11-438d-ab24-9db32dd4211e",
   "metadata": {},
   "outputs": [
    {
     "data": {
      "text/plain": [
       "dict_keys(['bindo', 'subi', 'anupam', 'nive'])"
      ]
     },
     "execution_count": 6,
     "metadata": {},
     "output_type": "execute_result"
    }
   ],
   "source": [
    "d.keys()"
   ]
  },
  {
   "cell_type": "code",
   "execution_count": 7,
   "id": "4840cd23-58bf-4451-b4f6-5cf116c2b089",
   "metadata": {},
   "outputs": [
    {
     "data": {
      "text/plain": [
       "dict_values([7777777777, 8888888888, 5555555555, 4444444444])"
      ]
     },
     "execution_count": 7,
     "metadata": {},
     "output_type": "execute_result"
    }
   ],
   "source": [
    "d.values()"
   ]
  },
  {
   "cell_type": "code",
   "execution_count": 9,
   "id": "5d64c88e-2c7d-45df-a1a9-bfbce5d2771a",
   "metadata": {},
   "outputs": [
    {
     "data": {
      "text/plain": [
       "dict_items([('bindo', 7777777777), ('subi', 8888888888), ('anupam', 5555555555), ('nive', 4444444444)])"
      ]
     },
     "execution_count": 9,
     "metadata": {},
     "output_type": "execute_result"
    }
   ],
   "source": [
    "d.items()"
   ]
  },
  {
   "cell_type": "code",
   "execution_count": 14,
   "id": "a6e90435-e8cc-4aa8-bea9-3d0675a8784a",
   "metadata": {},
   "outputs": [
    {
     "data": {
      "text/plain": [
       "{'python': {'junior': '100k', 'senior': '600k'},\n",
       " 'php': {'junior': '70k', 'senior': '400k'},\n",
       " 'java': {'junior': '80k', 'senior': '500k'}}"
      ]
     },
     "execution_count": 14,
     "metadata": {},
     "output_type": "execute_result"
    }
   ],
   "source": [
    "salaries = {\n",
    "\t'python': { 'junior': '100k', 'senior': '600k' },\n",
    "\t'php': { 'junior': '70k', 'senior': '400k' },\n",
    "\t'java': { 'junior': '80k', 'senior': '500k' },\n",
    "\t}\n",
    "salaries"
   ]
  },
  {
   "cell_type": "code",
   "execution_count": 15,
   "id": "60f1fb93-819e-4343-97c5-5337b732f4cc",
   "metadata": {},
   "outputs": [
    {
     "ename": "TypeError",
     "evalue": "'dict' object is not callable",
     "output_type": "error",
     "traceback": [
      "\u001b[1;31m---------------------------------------------------------------------------\u001b[0m",
      "\u001b[1;31mTypeError\u001b[0m                                 Traceback (most recent call last)",
      "Cell \u001b[1;32mIn[15], line 1\u001b[0m\n\u001b[1;32m----> 1\u001b[0m \u001b[43msalaries\u001b[49m\u001b[43m(\u001b[49m\u001b[38;5;124;43m'\u001b[39;49m\u001b[38;5;124;43mphp\u001b[39;49m\u001b[38;5;124;43m'\u001b[39;49m\u001b[43m)\u001b[49m(\u001b[38;5;124m'\u001b[39m\u001b[38;5;124msenior\u001b[39m\u001b[38;5;124m'\u001b[39m)\n",
      "\u001b[1;31mTypeError\u001b[0m: 'dict' object is not callable"
     ]
    }
   ],
   "source": [
    "salaries('php')('senior')"
   ]
  },
  {
   "cell_type": "code",
   "execution_count": null,
   "id": "3bf643c9-3d75-4584-90d2-62723963d1a8",
   "metadata": {},
   "outputs": [],
   "source": []
  },
  {
   "cell_type": "code",
   "execution_count": 17,
   "id": "8571c54d-a789-4e5a-9742-4bc6db142f32",
   "metadata": {},
   "outputs": [
    {
     "data": {
      "text/plain": [
       "'400k'"
      ]
     },
     "execution_count": 17,
     "metadata": {},
     "output_type": "execute_result"
    }
   ],
   "source": [
    "salaries['php']['senior']"
   ]
  },
  {
   "cell_type": "code",
   "execution_count": null,
   "id": "461546c5-0e4b-47ba-9d81-febd73b00d50",
   "metadata": {},
   "outputs": [],
   "source": []
  }
 ],
 "metadata": {
  "kernelspec": {
   "display_name": "Python 3 (ipykernel)",
   "language": "python",
   "name": "python3"
  },
  "language_info": {
   "codemirror_mode": {
    "name": "ipython",
    "version": 3
   },
   "file_extension": ".py",
   "mimetype": "text/x-python",
   "name": "python",
   "nbconvert_exporter": "python",
   "pygments_lexer": "ipython3",
   "version": "3.8.10"
  }
 },
 "nbformat": 4,
 "nbformat_minor": 5
}

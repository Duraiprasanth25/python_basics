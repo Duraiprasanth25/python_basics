{
 "cells": [
  {
   "cell_type": "code",
   "execution_count": 46,
   "id": "707aec4d-3b82-493b-880a-eb9edb9708bd",
   "metadata": {},
   "outputs": [
    {
     "data": {
      "text/plain": [
       "42.0"
      ]
     },
     "execution_count": 46,
     "metadata": {},
     "output_type": "execute_result"
    }
   ],
   "source": [
    "base = 12\n",
    "height = 7\n",
    "area = (1/2) * base * height\n",
    "area"
   ]
  },
  {
   "cell_type": "code",
   "execution_count": 2,
   "id": "9a91c05e-6b85-476d-a75f-d9db1e1a330b",
   "metadata": {},
   "outputs": [
    {
     "data": {
      "text/plain": [
       "float"
      ]
     },
     "execution_count": 2,
     "metadata": {},
     "output_type": "execute_result"
    }
   ],
   "source": [
    "weight = 105.7\n",
    "type(weight)"
   ]
  },
  {
   "cell_type": "code",
   "execution_count": 3,
   "id": "4bb4f353-10be-4f6c-b80f-c369d562820e",
   "metadata": {},
   "outputs": [
    {
     "data": {
      "text/plain": [
       "int"
      ]
     },
     "execution_count": 3,
     "metadata": {},
     "output_type": "execute_result"
    }
   ],
   "source": [
    "family_members = 7\n",
    "type(family_members)"
   ]
  },
  {
   "cell_type": "code",
   "execution_count": 5,
   "id": "02d50a3a-52f1-4b55-9d73-a2cdc2368213",
   "metadata": {},
   "outputs": [
    {
     "data": {
      "text/plain": [
       "15"
      ]
     },
     "execution_count": 5,
     "metadata": {},
     "output_type": "execute_result"
    }
   ],
   "source": [
    "10+5"
   ]
  },
  {
   "cell_type": "code",
   "execution_count": 6,
   "id": "76bbf0b3-0242-4f7a-877c-c5ec337f44f1",
   "metadata": {},
   "outputs": [
    {
     "data": {
      "text/plain": [
       "7"
      ]
     },
     "execution_count": 6,
     "metadata": {},
     "output_type": "execute_result"
    }
   ],
   "source": [
    "12-5"
   ]
  },
  {
   "cell_type": "code",
   "execution_count": 7,
   "id": "8afa282a-2748-4129-aee1-7506962d7151",
   "metadata": {},
   "outputs": [
    {
     "data": {
      "text/plain": [
       "625"
      ]
     },
     "execution_count": 7,
     "metadata": {},
     "output_type": "execute_result"
    }
   ],
   "source": [
    "25*25"
   ]
  },
  {
   "cell_type": "code",
   "execution_count": 8,
   "id": "cdbe6576-15ca-4700-bff0-03aa79536f5e",
   "metadata": {},
   "outputs": [
    {
     "data": {
      "text/plain": [
       "3.3333333333333335"
      ]
     },
     "execution_count": 8,
     "metadata": {},
     "output_type": "execute_result"
    }
   ],
   "source": [
    "10/3"
   ]
  },
  {
   "cell_type": "code",
   "execution_count": 9,
   "id": "67a851ed-1657-4e76-8baf-76a3c7fb4cad",
   "metadata": {},
   "outputs": [
    {
     "data": {
      "text/plain": [
       "3"
      ]
     },
     "execution_count": 9,
     "metadata": {},
     "output_type": "execute_result"
    }
   ],
   "source": [
    "10//3"
   ]
  },
  {
   "cell_type": "code",
   "execution_count": 10,
   "id": "6486fb32-49d5-4e01-bdee-84c531ce9987",
   "metadata": {},
   "outputs": [
    {
     "data": {
      "text/plain": [
       "2"
      ]
     },
     "execution_count": 10,
     "metadata": {},
     "output_type": "execute_result"
    }
   ],
   "source": [
    "27%5"
   ]
  },
  {
   "cell_type": "code",
   "execution_count": 11,
   "id": "097f0418-1369-4f67-8138-6f36e4ac24e5",
   "metadata": {},
   "outputs": [
    {
     "data": {
      "text/plain": [
       "16"
      ]
     },
     "execution_count": 11,
     "metadata": {},
     "output_type": "execute_result"
    }
   ],
   "source": [
    "4**2"
   ]
  },
  {
   "cell_type": "code",
   "execution_count": 12,
   "id": "b821a4ec-406d-4ebc-91d1-befd0f7182ed",
   "metadata": {},
   "outputs": [
    {
     "data": {
      "text/plain": [
       "2097152"
      ]
     },
     "execution_count": 12,
     "metadata": {},
     "output_type": "execute_result"
    }
   ],
   "source": [
    "8**7"
   ]
  },
  {
   "cell_type": "code",
   "execution_count": 13,
   "id": "7f574118-debc-44a9-b83a-72bdd9b0b9c8",
   "metadata": {},
   "outputs": [
    {
     "data": {
      "text/plain": [
       "2097152"
      ]
     },
     "execution_count": 13,
     "metadata": {},
     "output_type": "execute_result"
    }
   ],
   "source": [
    "8*8*8*8*8*8*8"
   ]
  },
  {
   "cell_type": "code",
   "execution_count": 14,
   "id": "fc5fc577-4735-495e-8f2f-eecc466c4101",
   "metadata": {},
   "outputs": [
    {
     "data": {
      "text/plain": [
       "47"
      ]
     },
     "execution_count": 14,
     "metadata": {},
     "output_type": "execute_result"
    }
   ],
   "source": [
    "15+4*8"
   ]
  },
  {
   "cell_type": "code",
   "execution_count": 15,
   "id": "bb0986c8-7743-4cf9-a80a-3fe03506e428",
   "metadata": {},
   "outputs": [
    {
     "data": {
      "text/plain": [
       "152"
      ]
     },
     "execution_count": 15,
     "metadata": {},
     "output_type": "execute_result"
    }
   ],
   "source": [
    "(15+4)*8"
   ]
  },
  {
   "cell_type": "code",
   "execution_count": 16,
   "id": "1b1833b9-bb06-4d08-b7a3-9d95bf61daee",
   "metadata": {},
   "outputs": [
    {
     "data": {
      "text/plain": [
       "int"
      ]
     },
     "execution_count": 16,
     "metadata": {},
     "output_type": "execute_result"
    }
   ],
   "source": [
    "type(7)"
   ]
  },
  {
   "cell_type": "code",
   "execution_count": 17,
   "id": "3a172df5-b9d8-4f43-af1f-036d7f0ee6df",
   "metadata": {},
   "outputs": [
    {
     "data": {
      "text/plain": [
       "float"
      ]
     },
     "execution_count": 17,
     "metadata": {},
     "output_type": "execute_result"
    }
   ],
   "source": [
    "type(3/8)"
   ]
  },
  {
   "cell_type": "code",
   "execution_count": 20,
   "id": "0b31c200-43c8-430f-b3b1-b348542de988",
   "metadata": {},
   "outputs": [
    {
     "data": {
      "text/plain": [
       "27000.0"
      ]
     },
     "execution_count": 20,
     "metadata": {},
     "output_type": "execute_result"
    }
   ],
   "source": [
    "foo = 2.7e4\n",
    "foo"
   ]
  },
  {
   "cell_type": "code",
   "execution_count": 25,
   "id": "bd03204f-64f6-484c-93d9-e647e973593f",
   "metadata": {},
   "outputs": [
    {
     "data": {
      "text/plain": [
       "0.00043"
      ]
     },
     "execution_count": 25,
     "metadata": {},
     "output_type": "execute_result"
    }
   ],
   "source": [
    "boo = 4.3e-4\n",
    "boo"
   ]
  },
  {
   "cell_type": "code",
   "execution_count": 27,
   "id": "e7bcb352-13e8-409a-82c6-748cc2b6a07d",
   "metadata": {},
   "outputs": [
    {
     "data": {
      "text/plain": [
       "4.3e-05"
      ]
     },
     "execution_count": 27,
     "metadata": {},
     "output_type": "execute_result"
    }
   ],
   "source": [
    "bot = 4.3e-5\n",
    "bot"
   ]
  },
  {
   "cell_type": "code",
   "execution_count": 34,
   "id": "c47109c1-dfa7-4bf7-ab56-113635be8fc8",
   "metadata": {},
   "outputs": [],
   "source": [
    "food = 3900.4\n",
    "rent = 6000.8\n",
    "utilities = 800.7"
   ]
  },
  {
   "cell_type": "code",
   "execution_count": 35,
   "id": "b452e657-10db-4ea5-bd20-1d7392aabbde",
   "metadata": {},
   "outputs": [
    {
     "data": {
      "text/plain": [
       "10701.900000000001"
      ]
     },
     "execution_count": 35,
     "metadata": {},
     "output_type": "execute_result"
    }
   ],
   "source": [
    "total_expense = food + rent + utilities\n",
    "total_expense"
   ]
  },
  {
   "cell_type": "code",
   "execution_count": 36,
   "id": "e3456eb7-3717-47bb-b61f-1ef4fc6a4ce8",
   "metadata": {},
   "outputs": [
    {
     "data": {
      "text/plain": [
       "10702"
      ]
     },
     "execution_count": 36,
     "metadata": {},
     "output_type": "execute_result"
    }
   ],
   "source": [
    "round(total_expense)"
   ]
  },
  {
   "cell_type": "code",
   "execution_count": 40,
   "id": "b5043f44-dba4-48bc-9c06-324b6e7c01f3",
   "metadata": {},
   "outputs": [
    {
     "data": {
      "text/plain": [
       "'738.451500.00'"
      ]
     },
     "execution_count": 40,
     "metadata": {},
     "output_type": "execute_result"
    }
   ],
   "source": [
    "wifi = \"738.45\"\n",
    "petrol = \"1500.00\"\n",
    "total = wifi + petrol\n",
    "total"
   ]
  },
  {
   "cell_type": "code",
   "execution_count": 41,
   "id": "ab0351b4-c937-4c4f-9cc4-af7107481ba7",
   "metadata": {},
   "outputs": [
    {
     "data": {
      "text/plain": [
       "str"
      ]
     },
     "execution_count": 41,
     "metadata": {},
     "output_type": "execute_result"
    }
   ],
   "source": [
    "type(total)"
   ]
  },
  {
   "cell_type": "code",
   "execution_count": 42,
   "id": "e9011cdc-fd4a-4702-be2f-372082361c90",
   "metadata": {},
   "outputs": [
    {
     "data": {
      "text/plain": [
       "float"
      ]
     },
     "execution_count": 42,
     "metadata": {},
     "output_type": "execute_result"
    }
   ],
   "source": [
    "type(total_expense)"
   ]
  },
  {
   "cell_type": "code",
   "execution_count": null,
   "id": "e7e3d0ab-501e-41e9-95ac-728723c84115",
   "metadata": {},
   "outputs": [],
   "source": [
    "#Binary Representation Of Integers"
   ]
  },
  {
   "cell_type": "code",
   "execution_count": 43,
   "id": "53dd2d57-72b9-4780-891b-896fcec7eafd",
   "metadata": {},
   "outputs": [
    {
     "data": {
      "text/plain": [
       "'101'"
      ]
     },
     "execution_count": 43,
     "metadata": {},
     "output_type": "execute_result"
    }
   ],
   "source": [
    "format(5,'b')"
   ]
  },
  {
   "cell_type": "markdown",
   "id": "1b30c64a-6453-4be5-812d-58ea10ea0197",
   "metadata": {},
   "source": [
    "<img src=\"5_binary.jpg\" />"
   ]
  },
  {
   "cell_type": "code",
   "execution_count": null,
   "id": "d6679a33-40a4-4fa8-9977-4e5e3d679499",
   "metadata": {},
   "outputs": [],
   "source": []
  }
 ],
 "metadata": {
  "kernelspec": {
   "display_name": "Python 3 (ipykernel)",
   "language": "python",
   "name": "python3"
  },
  "language_info": {
   "codemirror_mode": {
    "name": "ipython",
    "version": 3
   },
   "file_extension": ".py",
   "mimetype": "text/x-python",
   "name": "python",
   "nbconvert_exporter": "python",
   "pygments_lexer": "ipython3",
   "version": "3.8.10"
  }
 },
 "nbformat": 4,
 "nbformat_minor": 5
}

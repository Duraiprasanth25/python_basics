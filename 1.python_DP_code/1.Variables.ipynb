{
 "cells": [
  {
   "cell_type": "markdown",
   "id": "31f2fd0c-dd62-4fa8-b715-1d9a429e4842",
   "metadata": {},
   "source": [
    "<img src=\"soda_can.jpg\" height=100 width=100/>"
   ]
  },
  {
   "cell_type": "code",
   "execution_count": 1,
   "id": "a53cc139-cc0e-4716-bb41-f11e33bcbdf9",
   "metadata": {},
   "outputs": [],
   "source": [
    "can = \"soda\""
   ]
  },
  {
   "cell_type": "code",
   "execution_count": 4,
   "id": "9e399641-538c-4797-b771-b6d0b14f7932",
   "metadata": {},
   "outputs": [],
   "source": [
    "can = \"beans\""
   ]
  },
  {
   "cell_type": "code",
   "execution_count": 5,
   "id": "1a119b42-f190-40da-af5d-29f7e714e0ac",
   "metadata": {},
   "outputs": [
    {
     "data": {
      "text/plain": [
       "'beans'"
      ]
     },
     "execution_count": 5,
     "metadata": {},
     "output_type": "execute_result"
    }
   ],
   "source": [
    "can "
   ]
  },
  {
   "cell_type": "code",
   "execution_count": 6,
   "id": "b653060e-03c4-402e-bbb3-41fc1660ebcf",
   "metadata": {},
   "outputs": [],
   "source": [
    "first_name = \"Durai\"\n",
    "second_name = \"prasanth\""
   ]
  },
  {
   "cell_type": "code",
   "execution_count": 7,
   "id": "e33d1851-efcd-435b-b99b-f7f609df8b89",
   "metadata": {},
   "outputs": [
    {
     "data": {
      "text/plain": [
       "str"
      ]
     },
     "execution_count": 7,
     "metadata": {},
     "output_type": "execute_result"
    }
   ],
   "source": [
    "type(first_name)"
   ]
  },
  {
   "cell_type": "code",
   "execution_count": 10,
   "id": "c9025403-22fa-4eeb-8928-dbaef55f5361",
   "metadata": {},
   "outputs": [
    {
     "data": {
      "text/plain": [
       "100"
      ]
     },
     "execution_count": 10,
     "metadata": {},
     "output_type": "execute_result"
    }
   ],
   "source": [
    "pizza = 100\n",
    "pizza"
   ]
  },
  {
   "cell_type": "code",
   "execution_count": 11,
   "id": "64b5ec7b-884d-4a2c-8977-46da7c416396",
   "metadata": {},
   "outputs": [
    {
     "data": {
      "text/plain": [
       "20.5"
      ]
     },
     "execution_count": 11,
     "metadata": {},
     "output_type": "execute_result"
    }
   ],
   "source": [
    "samosa = 20.5\n",
    "samosa"
   ]
  },
  {
   "cell_type": "code",
   "execution_count": 13,
   "id": "998ca0d2-ed2e-426b-b3bd-6ce95b69d80f",
   "metadata": {},
   "outputs": [
    {
     "data": {
      "text/plain": [
       "float"
      ]
     },
     "execution_count": 13,
     "metadata": {},
     "output_type": "execute_result"
    }
   ],
   "source": [
    "\n",
    "type(samosa)"
   ]
  },
  {
   "cell_type": "code",
   "execution_count": 14,
   "id": "c45627c2-8f17-410a-97c9-64bbe0a10847",
   "metadata": {},
   "outputs": [
    {
     "data": {
      "text/plain": [
       "int"
      ]
     },
     "execution_count": 14,
     "metadata": {},
     "output_type": "execute_result"
    }
   ],
   "source": [
    "type(pizza)"
   ]
  },
  {
   "cell_type": "code",
   "execution_count": 22,
   "id": "56cf087d-2490-4305-b3f1-464ed0992779",
   "metadata": {},
   "outputs": [
    {
     "data": {
      "text/plain": [
       "160.5"
      ]
     },
     "execution_count": 22,
     "metadata": {},
     "output_type": "execute_result"
    }
   ],
   "source": [
    "ice_cream = 40\n",
    "\n",
    "total=pizza+samosa+ice_cream\n",
    "total"
   ]
  },
  {
   "cell_type": "code",
   "execution_count": 47,
   "id": "de655f27-c59b-4b06-b562-cfa28543a376",
   "metadata": {},
   "outputs": [],
   "source": [
    "learn_python=True\n",
    "learn_fortran=False"
   ]
  },
  {
   "cell_type": "markdown",
   "id": "458164dd-1308-4ef2-93b0-79788d165199",
   "metadata": {},
   "source": [
    "<img src=\"python_source_code/1_variables/fortran_suspicion.jpg\" />"
   ]
  },
  {
   "cell_type": "code",
   "execution_count": 28,
   "id": "387c152b-82a6-4827-b194-5233e4eb6eba",
   "metadata": {},
   "outputs": [
    {
     "data": {
      "text/plain": [
       "'jalebi'"
      ]
     },
     "execution_count": 28,
     "metadata": {},
     "output_type": "execute_result"
    }
   ],
   "source": [
    "foo=\"jalebi\"\n",
    "foo"
   ]
  },
  {
   "cell_type": "code",
   "execution_count": 29,
   "id": "a82ced27-8f08-44b3-9fca-ae765b9c5fc1",
   "metadata": {},
   "outputs": [
    {
     "data": {
      "text/plain": [
       "'jalebi'"
      ]
     },
     "execution_count": 29,
     "metadata": {},
     "output_type": "execute_result"
    }
   ],
   "source": [
    "bar=foo\n",
    "bar"
   ]
  },
  {
   "cell_type": "code",
   "execution_count": 30,
   "id": "acc4c459-b1a1-4903-813c-bdf68a66c416",
   "metadata": {},
   "outputs": [
    {
     "data": {
      "text/plain": [
       "2243348881648"
      ]
     },
     "execution_count": 30,
     "metadata": {},
     "output_type": "execute_result"
    }
   ],
   "source": [
    "id(foo)"
   ]
  },
  {
   "cell_type": "code",
   "execution_count": 31,
   "id": "f4286eae-429e-487d-985a-fa24bab3ed70",
   "metadata": {},
   "outputs": [
    {
     "data": {
      "text/plain": [
       "2243348881648"
      ]
     },
     "execution_count": 31,
     "metadata": {},
     "output_type": "execute_result"
    }
   ],
   "source": [
    "id(bar)"
   ]
  },
  {
   "cell_type": "code",
   "execution_count": 33,
   "id": "7bd45971-a076-4a60-96b5-7155e8faefa1",
   "metadata": {},
   "outputs": [
    {
     "data": {
      "text/plain": [
       "'chizza'"
      ]
     },
     "execution_count": 33,
     "metadata": {},
     "output_type": "execute_result"
    }
   ],
   "source": [
    "bar=\"chizza\"\n",
    "bar"
   ]
  },
  {
   "cell_type": "code",
   "execution_count": 34,
   "id": "8ffc5a4d-eac5-4aae-b280-07286fcfa894",
   "metadata": {},
   "outputs": [
    {
     "data": {
      "text/plain": [
       "'jalebi'"
      ]
     },
     "execution_count": 34,
     "metadata": {},
     "output_type": "execute_result"
    }
   ],
   "source": [
    "foo"
   ]
  },
  {
   "cell_type": "code",
   "execution_count": 35,
   "id": "3bf55838-7519-42b4-ab15-d57af32bb27e",
   "metadata": {},
   "outputs": [
    {
     "data": {
      "text/plain": [
       "2243349268720"
      ]
     },
     "execution_count": 35,
     "metadata": {},
     "output_type": "execute_result"
    }
   ],
   "source": [
    "id(bar)"
   ]
  },
  {
   "cell_type": "code",
   "execution_count": 44,
   "id": "301c1f0a-3d40-44fa-8a88-63a88adb3a5f",
   "metadata": {},
   "outputs": [
    {
     "data": {
      "text/plain": [
       "'pokemon'"
      ]
     },
     "execution_count": 44,
     "metadata": {},
     "output_type": "execute_result"
    }
   ],
   "source": [
    "firstVariable=\"pokemon\"\n",
    "firstVariable"
   ]
  }
 ],
 "metadata": {
  "kernelspec": {
   "display_name": "Python 3 (ipykernel)",
   "language": "python",
   "name": "python3"
  },
  "language_info": {
   "codemirror_mode": {
    "name": "ipython",
    "version": 3
   },
   "file_extension": ".py",
   "mimetype": "text/x-python",
   "name": "python",
   "nbconvert_exporter": "python",
   "pygments_lexer": "ipython3",
   "version": "3.8.10"
  }
 },
 "nbformat": 4,
 "nbformat_minor": 5
}

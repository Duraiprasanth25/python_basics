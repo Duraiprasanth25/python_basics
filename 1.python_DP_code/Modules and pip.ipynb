{
 "cells": [
  {
   "cell_type": "code",
   "execution_count": 1,
   "id": "43a4fa2b-8693-487d-802c-3c91c96b7b8b",
   "metadata": {},
   "outputs": [
    {
     "ename": "SyntaxError",
     "evalue": "invalid syntax (1342580297.py, line 1)",
     "output_type": "error",
     "traceback": [
      "\u001b[1;36m  Cell \u001b[1;32mIn[1], line 1\u001b[1;36m\u001b[0m\n\u001b[1;33m    import tetris - c\u001b[0m\n\u001b[1;37m                  ^\u001b[0m\n\u001b[1;31mSyntaxError\u001b[0m\u001b[1;31m:\u001b[0m invalid syntax\n"
     ]
    }
   ],
   "source": [
    "import tetris - c\n"
   ]
  },
  {
   "cell_type": "code",
   "execution_count": 2,
   "id": "a2d12e48-4581-4cd3-90ac-4fec5c7974d6",
   "metadata": {},
   "outputs": [
    {
     "ename": "ModuleNotFoundError",
     "evalue": "No module named 'pyterics'",
     "output_type": "error",
     "traceback": [
      "\u001b[1;31m---------------------------------------------------------------------------\u001b[0m",
      "\u001b[1;31mModuleNotFoundError\u001b[0m                       Traceback (most recent call last)",
      "Cell \u001b[1;32mIn[2], line 1\u001b[0m\n\u001b[1;32m----> 1\u001b[0m \u001b[38;5;28;01mimport\u001b[39;00m \u001b[38;5;21;01mpyterics\u001b[39;00m\n",
      "\u001b[1;31mModuleNotFoundError\u001b[0m: No module named 'pyterics'"
     ]
    }
   ],
   "source": [
    "import pyterics"
   ]
  },
  {
   "cell_type": "code",
   "execution_count": 4,
   "id": "8effc8ad-dc3a-4522-83f8-d52466bfd5c4",
   "metadata": {},
   "outputs": [],
   "source": [
    "import pytetris"
   ]
  },
  {
   "cell_type": "code",
   "execution_count": 5,
   "id": "b9be7b5c-6662-407f-b367-bb54e3bbb6d6",
   "metadata": {},
   "outputs": [
    {
     "data": {
      "text/plain": [
       "['__doc__',\n",
       " '__file__',\n",
       " '__loader__',\n",
       " '__name__',\n",
       " '__package__',\n",
       " '__path__',\n",
       " '__spec__']"
      ]
     },
     "execution_count": 5,
     "metadata": {},
     "output_type": "execute_result"
    }
   ],
   "source": [
    "dir (pytetris)"
   ]
  },
  {
   "cell_type": "code",
   "execution_count": 6,
   "id": "9b3c4305-3658-4d3a-93b8-f09972e6b583",
   "metadata": {},
   "outputs": [
    {
     "ename": "SyntaxError",
     "evalue": "invalid syntax (2080544318.py, line 1)",
     "output_type": "error",
     "traceback": [
      "\u001b[1;36m  Cell \u001b[1;32mIn[6], line 1\u001b[1;36m\u001b[0m\n\u001b[1;33m    poetry run game\u001b[0m\n\u001b[1;37m           ^\u001b[0m\n\u001b[1;31mSyntaxError\u001b[0m\u001b[1;31m:\u001b[0m invalid syntax\n"
     ]
    }
   ],
   "source": [
    "poetry run game"
   ]
  },
  {
   "cell_type": "code",
   "execution_count": 7,
   "id": "b245471a-a87e-4856-b9aa-3191cbc447a2",
   "metadata": {},
   "outputs": [
    {
     "ename": "AttributeError",
     "evalue": "module 'pytetris' has no attribute 'launch'",
     "output_type": "error",
     "traceback": [
      "\u001b[1;31m---------------------------------------------------------------------------\u001b[0m",
      "\u001b[1;31mAttributeError\u001b[0m                            Traceback (most recent call last)",
      "Cell \u001b[1;32mIn[7], line 1\u001b[0m\n\u001b[1;32m----> 1\u001b[0m \u001b[43mpytetris\u001b[49m\u001b[38;5;241;43m.\u001b[39;49m\u001b[43mlaunch\u001b[49m\n",
      "\u001b[1;31mAttributeError\u001b[0m: module 'pytetris' has no attribute 'launch'"
     ]
    }
   ],
   "source": [
    "pytetris.launch"
   ]
  },
  {
   "cell_type": "code",
   "execution_count": 10,
   "id": "0c7f9a98-acf6-46be-86ea-fa0d7259f7ef",
   "metadata": {},
   "outputs": [],
   "source": [
    "import pyroids"
   ]
  },
  {
   "cell_type": "code",
   "execution_count": 11,
   "id": "91b7d6fe-3c33-4348-9313-0df36a31beb3",
   "metadata": {},
   "outputs": [
    {
     "data": {
      "text/plain": [
       "['CONFIG_PATH',\n",
       " 'List',\n",
       " 'Optional',\n",
       " 'Path',\n",
       " '__author__',\n",
       " '__builtins__',\n",
       " '__cached__',\n",
       " '__doc__',\n",
       " '__email__',\n",
       " '__file__',\n",
       " '__loader__',\n",
       " '__name__',\n",
       " '__package__',\n",
       " '__path__',\n",
       " '__spec__',\n",
       " '_config_import',\n",
       " '_set_config_path',\n",
       " 'dir_path',\n",
       " 'importlib',\n",
       " 'launch',\n",
       " 'os',\n",
       " 'pyglet']"
      ]
     },
     "execution_count": 11,
     "metadata": {},
     "output_type": "execute_result"
    }
   ],
   "source": [
    "dir(pyroids)"
   ]
  },
  {
   "cell_type": "code",
   "execution_count": 13,
   "id": "e46351e7-937c-4814-8cdb-ce79e9827a4d",
   "metadata": {},
   "outputs": [
    {
     "name": "stderr",
     "output_type": "stream",
     "text": [
      "C:\\Users\\Admin\\AppData\\Local\\Programs\\Python\\Python38\\lib\\site-packages\\pyroids\\labels.py:395: SyntaxWarning: \"is\" with a literal. Did you mean \"==\"?\n",
      "  sep = '' if i is 0 else ', '\n",
      "C:\\Users\\Admin\\AppData\\Local\\Programs\\Python\\Python38\\lib\\site-packages\\pyroids\\labels.py:683: SyntaxWarning: \"is\" with a literal. Did you mean \"==\"?\n",
      "  if stock is 0:\n",
      "C:\\Users\\Admin\\AppData\\Local\\Programs\\Python\\Python38\\lib\\site-packages\\pyroids\\labels.py:774: SyntaxWarning: \"is not\" with a literal. Did you mean \"!=\"?\n",
      "  if sep is not 0:\n",
      "C:\\Users\\Admin\\AppData\\Local\\Programs\\Python\\Python38\\lib\\site-packages\\pyroids\\labels.py:395: SyntaxWarning: \"is\" with a literal. Did you mean \"==\"?\n",
      "  sep = '' if i is 0 else ', '\n",
      "C:\\Users\\Admin\\AppData\\Local\\Programs\\Python\\Python38\\lib\\site-packages\\pyroids\\labels.py:683: SyntaxWarning: \"is\" with a literal. Did you mean \"==\"?\n",
      "  if stock is 0:\n",
      "C:\\Users\\Admin\\AppData\\Local\\Programs\\Python\\Python38\\lib\\site-packages\\pyroids\\labels.py:774: SyntaxWarning: \"is not\" with a literal. Did you mean \"!=\"?\n",
      "  if sep is not 0:\n",
      "C:\\Users\\Admin\\AppData\\Local\\Programs\\Python\\Python38\\lib\\site-packages\\pyroids\\labels.py:395: SyntaxWarning: \"is\" with a literal. Did you mean \"==\"?\n",
      "  sep = '' if i is 0 else ', '\n",
      "C:\\Users\\Admin\\AppData\\Local\\Programs\\Python\\Python38\\lib\\site-packages\\pyroids\\labels.py:683: SyntaxWarning: \"is\" with a literal. Did you mean \"==\"?\n",
      "  if stock is 0:\n",
      "C:\\Users\\Admin\\AppData\\Local\\Programs\\Python\\Python38\\lib\\site-packages\\pyroids\\labels.py:774: SyntaxWarning: \"is not\" with a literal. Did you mean \"!=\"?\n",
      "  if sep is not 0:\n"
     ]
    },
    {
     "ename": "AttributeError",
     "evalue": "module 'pyglet.graphics' has no attribute 'OrderedGroup'",
     "output_type": "error",
     "traceback": [
      "\u001b[1;31m---------------------------------------------------------------------------\u001b[0m",
      "\u001b[1;31mAttributeError\u001b[0m                            Traceback (most recent call last)",
      "Cell \u001b[1;32mIn[13], line 1\u001b[0m\n\u001b[1;32m----> 1\u001b[0m \u001b[43mpyroids\u001b[49m\u001b[38;5;241;43m.\u001b[39;49m\u001b[43mlaunch\u001b[49m\u001b[43m(\u001b[49m\u001b[43m)\u001b[49m\n",
      "File \u001b[1;32m~\\AppData\\Local\\Programs\\Python\\Python38\\lib\\site-packages\\pyroids\\__init__.py:95\u001b[0m, in \u001b[0;36mlaunch\u001b[1;34m(config_file)\u001b[0m\n\u001b[0;32m     84\u001b[0m \u001b[38;5;250m\u001b[39m\u001b[38;5;124;03m\"\"\"Launch application.\u001b[39;00m\n\u001b[0;32m     85\u001b[0m \u001b[38;5;124;03m\u001b[39;00m\n\u001b[0;32m     86\u001b[0m \u001b[38;5;124;03m+config_file+  Name of configuration file to apply (configuration file \u001b[39;00m\n\u001b[1;32m   (...)\u001b[0m\n\u001b[0;32m     92\u001b[0m \u001b[38;5;124;03mfiles.\u001b[39;00m\n\u001b[0;32m     93\u001b[0m \u001b[38;5;124;03m\"\"\"\u001b[39;00m\n\u001b[0;32m     94\u001b[0m _set_config_path(config_file)\n\u001b[1;32m---> 95\u001b[0m \u001b[38;5;28;01mfrom\u001b[39;00m \u001b[38;5;21;01mpyroids\u001b[39;00m \u001b[38;5;28;01mimport\u001b[39;00m game\n\u001b[0;32m     96\u001b[0m game_window \u001b[38;5;241m=\u001b[39m game\u001b[38;5;241m.\u001b[39mGame()\n\u001b[0;32m     97\u001b[0m \u001b[38;5;28;01mreturn\u001b[39;00m pyglet\u001b[38;5;241m.\u001b[39mapp\u001b[38;5;241m.\u001b[39mrun()\n",
      "File \u001b[1;32m~\\AppData\\Local\\Programs\\Python\\Python38\\lib\\site-packages\\pyroids\\game.py:48\u001b[0m\n\u001b[0;32m     45\u001b[0m \u001b[38;5;28;01mfrom\u001b[39;00m \u001b[38;5;21;01m.\u001b[39;00m\u001b[38;5;21;01mlib\u001b[39;00m\u001b[38;5;21;01m.\u001b[39;00m\u001b[38;5;21;01mpyglet_lib\u001b[39;00m\u001b[38;5;21;01m.\u001b[39;00m\u001b[38;5;21;01msprite_ext\u001b[39;00m \u001b[38;5;28;01mimport\u001b[39;00m (PhysicalSprite, SpriteAdv, \n\u001b[0;32m     46\u001b[0m                                         AvoidRect, InRect, load_image)\n\u001b[0;32m     47\u001b[0m \u001b[38;5;28;01mfrom\u001b[39;00m \u001b[38;5;21;01m.\u001b[39;00m\u001b[38;5;21;01mlib\u001b[39;00m\u001b[38;5;21;01m.\u001b[39;00m\u001b[38;5;21;01mpyglet_lib\u001b[39;00m\u001b[38;5;21;01m.\u001b[39;00m\u001b[38;5;21;01mdrawing\u001b[39;00m \u001b[38;5;28;01mimport\u001b[39;00m AngledGrid, Rectangle, DrawingBase\n\u001b[1;32m---> 48\u001b[0m \u001b[38;5;28;01mfrom\u001b[39;00m \u001b[38;5;21;01m.\u001b[39;00m\u001b[38;5;21;01mgame_objects\u001b[39;00m \u001b[38;5;28;01mimport\u001b[39;00m (Ship, ShipRed, ControlSystem, Asteroid, \n\u001b[0;32m     49\u001b[0m                            AmmoClasses, Bullet, Mine, Starburst, \n\u001b[0;32m     50\u001b[0m                            PickUp, PickUpRed)\n\u001b[0;32m     51\u001b[0m \u001b[38;5;28;01mfrom\u001b[39;00m \u001b[38;5;21;01m.\u001b[39;00m\u001b[38;5;21;01mlabels\u001b[39;00m \u001b[38;5;28;01mimport\u001b[39;00m (StartLabels, NextLevelLabel, LevelLabel, EndLabels,\n\u001b[0;32m     52\u001b[0m                      InstructionLabels, StockLabel, InfoRow)\n\u001b[0;32m     53\u001b[0m \u001b[38;5;28;01mfrom\u001b[39;00m \u001b[38;5;21;01m.\u001b[39;00m\u001b[38;5;21;01mlib\u001b[39;00m\u001b[38;5;21;01m.\u001b[39;00m\u001b[38;5;21;01miter_util\u001b[39;00m \u001b[38;5;28;01mimport\u001b[39;00m (increment_last, factor_last, \n\u001b[0;32m     54\u001b[0m                             repeat_sequence, repeat_last)\n",
      "File \u001b[1;32m~\\AppData\\Local\\Programs\\Python\\Python38\\lib\\site-packages\\pyroids\\game_objects.py:105\u001b[0m\n\u001b[0;32m    102\u001b[0m \u001b[38;5;28;01mfrom\u001b[39;00m \u001b[38;5;21;01mpyglet\u001b[39;00m\u001b[38;5;21;01m.\u001b[39;00m\u001b[38;5;21;01mimage\u001b[39;00m \u001b[38;5;28;01mimport\u001b[39;00m Animation, Texture\n\u001b[0;32m    103\u001b[0m \u001b[38;5;28;01mfrom\u001b[39;00m \u001b[38;5;21;01mpyglet\u001b[39;00m\u001b[38;5;21;01m.\u001b[39;00m\u001b[38;5;21;01mmedia\u001b[39;00m \u001b[38;5;28;01mimport\u001b[39;00m StaticSource\n\u001b[1;32m--> 105\u001b[0m \u001b[38;5;28;01mfrom\u001b[39;00m \u001b[38;5;21;01m.\u001b[39;00m\u001b[38;5;21;01mlabels\u001b[39;00m \u001b[38;5;28;01mimport\u001b[39;00m StockLabel\n\u001b[0;32m    106\u001b[0m \u001b[38;5;28;01mfrom\u001b[39;00m \u001b[38;5;21;01m.\u001b[39;00m\u001b[38;5;21;01mlib\u001b[39;00m\u001b[38;5;21;01m.\u001b[39;00m\u001b[38;5;21;01mpyglet_lib\u001b[39;00m\u001b[38;5;21;01m.\u001b[39;00m\u001b[38;5;21;01msprite_ext\u001b[39;00m \u001b[38;5;28;01mimport\u001b[39;00m (PhysicalSprite, \n\u001b[0;32m    107\u001b[0m                                         PhysicalSpriteInteractive,\n\u001b[0;32m    108\u001b[0m                                         OneShotAnimatedSprite, \n\u001b[0;32m    109\u001b[0m                                         load_image, load_image_sequence,\n\u001b[0;32m    110\u001b[0m                                         anim, vector_anchor_to_rotated_point, \n\u001b[0;32m    111\u001b[0m                                         InRect)\n\u001b[0;32m    112\u001b[0m \u001b[38;5;28;01mfrom\u001b[39;00m \u001b[38;5;21;01m.\u001b[39;00m\u001b[38;5;21;01mlib\u001b[39;00m\u001b[38;5;21;01m.\u001b[39;00m\u001b[38;5;21;01mpyglet_lib\u001b[39;00m\u001b[38;5;21;01m.\u001b[39;00m\u001b[38;5;21;01maudio_ext\u001b[39;00m \u001b[38;5;28;01mimport\u001b[39;00m (StaticSourceMixin, \n\u001b[0;32m    113\u001b[0m                                        StaticSourceClassMixin, \n\u001b[0;32m    114\u001b[0m                                        load_static_sound)\n",
      "File \u001b[1;32m~\\AppData\\Local\\Programs\\Python\\Python38\\lib\\site-packages\\pyroids\\labels.py:314\u001b[0m\n\u001b[0;32m    311\u001b[0m         \u001b[38;5;28mself\u001b[39m\u001b[38;5;241m.\u001b[39m_set_sub2(completed)\n\u001b[0;32m    312\u001b[0m         \u001b[38;5;28mself\u001b[39m\u001b[38;5;241m.\u001b[39m_set_winner_label(winner)\n\u001b[1;32m--> 314\u001b[0m \u001b[38;5;28;01mclass\u001b[39;00m \u001b[38;5;21;01mInstructionLabels\u001b[39;00m(WindowLabels):\n\u001b[0;32m    315\u001b[0m \u001b[38;5;250m    \u001b[39m\u001b[38;5;124;03m\"\"\"Labels that collectively offer instructions including key controls.\u001b[39;00m\n\u001b[0;32m    316\u001b[0m \n\u001b[0;32m    317\u001b[0m \u001b[38;5;124;03m    General arrangement:\u001b[39;00m\n\u001b[1;32m   (...)\u001b[0m\n\u001b[0;32m    330\u001b[0m \u001b[38;5;124;03m    --set_labels()-- Set label for either paused or main menu mode.\u001b[39;00m\n\u001b[0;32m    331\u001b[0m \u001b[38;5;124;03m    \"\"\"\u001b[39;00m\n\u001b[0;32m    333\u001b[0m     \u001b[38;5;28;01mclass\u001b[39;00m \u001b[38;5;21;01mBGGroup\u001b[39;00m(pyglet\u001b[38;5;241m.\u001b[39mgraphics\u001b[38;5;241m.\u001b[39mOrderedGroup):\n",
      "File \u001b[1;32m~\\AppData\\Local\\Programs\\Python\\Python38\\lib\\site-packages\\pyroids\\labels.py:333\u001b[0m, in \u001b[0;36mInstructionLabels\u001b[1;34m()\u001b[0m\n\u001b[0;32m    314\u001b[0m \u001b[38;5;28;01mclass\u001b[39;00m \u001b[38;5;21;01mInstructionLabels\u001b[39;00m(WindowLabels):\n\u001b[0;32m    315\u001b[0m \u001b[38;5;250m    \u001b[39m\u001b[38;5;124;03m\"\"\"Labels that collectively offer instructions including key controls.\u001b[39;00m\n\u001b[0;32m    316\u001b[0m \n\u001b[0;32m    317\u001b[0m \u001b[38;5;124;03m    General arrangement:\u001b[39;00m\n\u001b[1;32m   (...)\u001b[0m\n\u001b[0;32m    330\u001b[0m \u001b[38;5;124;03m    --set_labels()-- Set label for either paused or main menu mode.\u001b[39;00m\n\u001b[0;32m    331\u001b[0m \u001b[38;5;124;03m    \"\"\"\u001b[39;00m\n\u001b[1;32m--> 333\u001b[0m     \u001b[38;5;28;01mclass\u001b[39;00m \u001b[38;5;21;01mBGGroup\u001b[39;00m(\u001b[43mpyglet\u001b[49m\u001b[38;5;241;43m.\u001b[39;49m\u001b[43mgraphics\u001b[49m\u001b[38;5;241;43m.\u001b[39;49m\u001b[43mOrderedGroup\u001b[49m):\n\u001b[0;32m    334\u001b[0m         \u001b[38;5;28;01mdef\u001b[39;00m \u001b[38;5;21m__init__\u001b[39m(\u001b[38;5;28mself\u001b[39m):\n\u001b[0;32m    335\u001b[0m             \u001b[38;5;28msuper\u001b[39m()\u001b[38;5;241m.\u001b[39m\u001b[38;5;21m__init__\u001b[39m(\u001b[38;5;241m0\u001b[39m)\n",
      "\u001b[1;31mAttributeError\u001b[0m: module 'pyglet.graphics' has no attribute 'OrderedGroup'"
     ]
    }
   ],
   "source": [
    "pyroids.launch()"
   ]
  }
 ],
 "metadata": {
  "kernelspec": {
   "display_name": "Python 3 (ipykernel)",
   "language": "python",
   "name": "python3"
  },
  "language_info": {
   "codemirror_mode": {
    "name": "ipython",
    "version": 3
   },
   "file_extension": ".py",
   "mimetype": "text/x-python",
   "name": "python",
   "nbconvert_exporter": "python",
   "pygments_lexer": "ipython3",
   "version": "3.8.10"
  }
 },
 "nbformat": 4,
 "nbformat_minor": 5
}

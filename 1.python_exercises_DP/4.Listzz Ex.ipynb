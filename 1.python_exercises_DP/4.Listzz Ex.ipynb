{
 "cells": [
  {
   "cell_type": "code",
   "execution_count": 1,
   "id": "8c60d66d-73cd-429e-af2a-ef5f13841ef9",
   "metadata": {},
   "outputs": [],
   "source": [
    "avengers = [\"Iron Man\", \"Captain America\",\"Black Widow\",\"Hulk\",\"Thor\",\"Hawkeye\"]"
   ]
  },
  {
   "cell_type": "code",
   "execution_count": 2,
   "id": "7e3f93c8-4e53-4cc1-b8e1-0b8cd8ac9ee7",
   "metadata": {},
   "outputs": [
    {
     "data": {
      "text/plain": [
       "['Iron Man', 'Captain America', 'Black Widow', 'Hulk', 'Thor', 'Hawkeye']"
      ]
     },
     "execution_count": 2,
     "metadata": {},
     "output_type": "execute_result"
    }
   ],
   "source": [
    "avengers"
   ]
  },
  {
   "cell_type": "code",
   "execution_count": 3,
   "id": "0cad8854-d9f2-4515-b7a1-f2e2fd7c3b00",
   "metadata": {},
   "outputs": [
    {
     "data": {
      "text/plain": [
       "6"
      ]
     },
     "execution_count": 3,
     "metadata": {},
     "output_type": "execute_result"
    }
   ],
   "source": [
    "len(avengers)"
   ]
  },
  {
   "cell_type": "code",
   "execution_count": 5,
   "id": "c5c340e2-4988-49b1-8cb9-2d4c4ee72fdb",
   "metadata": {},
   "outputs": [
    {
     "data": {
      "text/plain": [
       "['Iron Man',\n",
       " 'Captain America',\n",
       " 'Black Widow',\n",
       " 'Hulk',\n",
       " 'Thor',\n",
       " 'Hawkeye',\n",
       " 'Spider-Man',\n",
       " 'Spider-Man']"
      ]
     },
     "execution_count": 5,
     "metadata": {},
     "output_type": "execute_result"
    }
   ],
   "source": [
    "avengers.append(\"Spider-Man\")\n",
    "avengers"
   ]
  },
  {
   "cell_type": "code",
   "execution_count": 7,
   "id": "7daebbc3-5a2e-4a1d-85cb-02afa6bfd44f",
   "metadata": {},
   "outputs": [],
   "source": [
    "avengers.remove(\"Spider-Man\")"
   ]
  },
  {
   "cell_type": "code",
   "execution_count": 8,
   "id": "c1db7447-e4dc-4144-9026-dd98c168666d",
   "metadata": {},
   "outputs": [
    {
     "data": {
      "text/plain": [
       "['Iron Man',\n",
       " 'Captain America',\n",
       " 'Black Widow',\n",
       " 'Hulk',\n",
       " 'Thor',\n",
       " 'Hawkeye',\n",
       " 'Spider-Man']"
      ]
     },
     "execution_count": 8,
     "metadata": {},
     "output_type": "execute_result"
    }
   ],
   "source": [
    "avengers"
   ]
  },
  {
   "cell_type": "code",
   "execution_count": 9,
   "id": "9ab8ce5e-e9fb-470b-b394-6dd0dd07f54b",
   "metadata": {},
   "outputs": [
    {
     "data": {
      "text/plain": [
       "'Captain America'"
      ]
     },
     "execution_count": 9,
     "metadata": {},
     "output_type": "execute_result"
    }
   ],
   "source": [
    "captain_america = avengers.pop(1)\n",
    "captain_america"
   ]
  },
  {
   "cell_type": "code",
   "execution_count": 10,
   "id": "0cd504ef-0729-4662-9ba0-7ad826d94e00",
   "metadata": {},
   "outputs": [
    {
     "data": {
      "text/plain": [
       "['Iron Man', 'Black Widow', 'Hulk', 'Thor', 'Hawkeye', 'Spider-Man']"
      ]
     },
     "execution_count": 10,
     "metadata": {},
     "output_type": "execute_result"
    }
   ],
   "source": [
    "avengers"
   ]
  },
  {
   "cell_type": "code",
   "execution_count": 11,
   "id": "f6959fba-877c-435d-a68b-5019297c130a",
   "metadata": {},
   "outputs": [
    {
     "data": {
      "text/plain": [
       "['Captain America',\n",
       " 'Iron Man',\n",
       " 'Black Widow',\n",
       " 'Hulk',\n",
       " 'Thor',\n",
       " 'Hawkeye',\n",
       " 'Spider-Man']"
      ]
     },
     "execution_count": 11,
     "metadata": {},
     "output_type": "execute_result"
    }
   ],
   "source": [
    "avengers.insert(0, captain_america)\n",
    "avengers"
   ]
  },
  {
   "cell_type": "code",
   "execution_count": 17,
   "id": "6f60469f-3037-48ff-8727-6a32cb53c41a",
   "metadata": {},
   "outputs": [
    {
     "data": {
      "text/plain": [
       "['Captain America', 'Iron Man', 'Thor', 'Hawkeye']"
      ]
     },
     "execution_count": 17,
     "metadata": {},
     "output_type": "execute_result"
    }
   ],
   "source": [
    "avengers"
   ]
  },
  {
   "cell_type": "code",
   "execution_count": 19,
   "id": "c34320cf-1e73-4cf4-81ae-96a2a416159d",
   "metadata": {},
   "outputs": [
    {
     "data": {
      "text/plain": [
       "['Captain America', 'Iron Man', 'Thor', 'Hawkeye', 'Spider-Man', 'Spider-Man']"
      ]
     },
     "execution_count": 19,
     "metadata": {},
     "output_type": "execute_result"
    }
   ],
   "source": [
    "avengers.insert(4,\"Spider-Man\")\n",
    "avengers"
   ]
  },
  {
   "cell_type": "code",
   "execution_count": 20,
   "id": "0daa03a3-c176-471d-8bb7-64cab1578c8f",
   "metadata": {},
   "outputs": [
    {
     "data": {
      "text/plain": [
       "['Captain America', 'Iron Man', 'Thor', 'Hawkeye', 'Spider-Man']"
      ]
     },
     "execution_count": 20,
     "metadata": {},
     "output_type": "execute_result"
    }
   ],
   "source": [
    "avengers.remove(\"Spider-Man\")\n",
    "avengers"
   ]
  },
  {
   "cell_type": "code",
   "execution_count": 22,
   "id": "96ff2545-a095-4cb8-9ac9-79a720f87384",
   "metadata": {},
   "outputs": [],
   "source": [
    "avengers.insert(2,\"Hulk\")"
   ]
  },
  {
   "cell_type": "code",
   "execution_count": 23,
   "id": "3243ae19-79ef-4ede-8fe9-a03779cbc851",
   "metadata": {},
   "outputs": [
    {
     "data": {
      "text/plain": [
       "['Captain America', 'Iron Man', 'Hulk', 'Thor', 'Hawkeye', 'Spider-Man']"
      ]
     },
     "execution_count": 23,
     "metadata": {},
     "output_type": "execute_result"
    }
   ],
   "source": [
    "avengers"
   ]
  },
  {
   "cell_type": "code",
   "execution_count": 25,
   "id": "6020ef0a-7767-49d9-8fb7-3591da6d75bf",
   "metadata": {},
   "outputs": [
    {
     "data": {
      "text/plain": [
       "['Captain America',\n",
       " 'Iron Man',\n",
       " 'Hulk',\n",
       " 'Black Widow',\n",
       " 'Black Widow',\n",
       " 'Thor',\n",
       " 'Hawkeye',\n",
       " 'Spider-Man']"
      ]
     },
     "execution_count": 25,
     "metadata": {},
     "output_type": "execute_result"
    }
   ],
   "source": [
    "avengers.insert(3,\"Black Widow\")\n",
    "avengers"
   ]
  },
  {
   "cell_type": "code",
   "execution_count": 26,
   "id": "7b12c343-bf7f-43b9-afc6-61356d2d583c",
   "metadata": {},
   "outputs": [],
   "source": [
    "avengers.remove(\"Black Widow\")"
   ]
  },
  {
   "cell_type": "code",
   "execution_count": 27,
   "id": "e39bc308-7070-4bb5-a919-9d10c85fe4e7",
   "metadata": {},
   "outputs": [
    {
     "data": {
      "text/plain": [
       "['Captain America',\n",
       " 'Iron Man',\n",
       " 'Hulk',\n",
       " 'Black Widow',\n",
       " 'Thor',\n",
       " 'Hawkeye',\n",
       " 'Spider-Man']"
      ]
     },
     "execution_count": 27,
     "metadata": {},
     "output_type": "execute_result"
    }
   ],
   "source": [
    "avengers"
   ]
  },
  {
   "cell_type": "markdown",
   "id": "b24102c7-0964-4fe3-9c6d-8b394bb18e1e",
   "metadata": {},
   "source": [
    "Removing retired heroes"
   ]
  },
  {
   "cell_type": "code",
   "execution_count": 28,
   "id": "90f176f7-0189-412c-a2a3-3e0a06699bdb",
   "metadata": {},
   "outputs": [
    {
     "data": {
      "text/plain": [
       "['Iron Man', 'Hulk', 'Black Widow', 'Thor', 'Hawkeye', 'Spider-Man']"
      ]
     },
     "execution_count": 28,
     "metadata": {},
     "output_type": "execute_result"
    }
   ],
   "source": [
    "avengers.pop(0)\n",
    "avengers"
   ]
  },
  {
   "cell_type": "code",
   "execution_count": 29,
   "id": "6fd6aa8c-c7c0-4ccb-8f00-b9b0896be8b4",
   "metadata": {},
   "outputs": [
    {
     "data": {
      "text/plain": [
       "['Hulk', 'Black Widow', 'Thor', 'Hawkeye', 'Spider-Man']"
      ]
     },
     "execution_count": 29,
     "metadata": {},
     "output_type": "execute_result"
    }
   ],
   "source": [
    "avengers.pop(0)\n",
    "avengers"
   ]
  },
  {
   "cell_type": "code",
   "execution_count": 30,
   "id": "9f1926a1-df7c-4b6d-a954-f3d725104ca3",
   "metadata": {},
   "outputs": [
    {
     "data": {
      "text/plain": [
       "['Black Widow', 'Thor', 'Hawkeye', 'Spider-Man']"
      ]
     },
     "execution_count": 30,
     "metadata": {},
     "output_type": "execute_result"
    }
   ],
   "source": [
    "avengers.pop(0)\n",
    "avengers"
   ]
  },
  {
   "cell_type": "code",
   "execution_count": 31,
   "id": "ae97f524-a24a-4cb8-a572-6cc55460c307",
   "metadata": {},
   "outputs": [
    {
     "data": {
      "text/plain": [
       "['Thor', 'Hawkeye', 'Spider-Man']"
      ]
     },
     "execution_count": 31,
     "metadata": {},
     "output_type": "execute_result"
    }
   ],
   "source": [
    "avengers.pop(0)\n",
    "avengers"
   ]
  },
  {
   "cell_type": "code",
   "execution_count": 32,
   "id": "493ef017-faf5-40d8-91f8-7c5066700d81",
   "metadata": {},
   "outputs": [
    {
     "data": {
      "text/plain": [
       "['Hawkeye', 'Spider-Man']"
      ]
     },
     "execution_count": 32,
     "metadata": {},
     "output_type": "execute_result"
    }
   ],
   "source": [
    "avengers.pop(0)\n",
    "avengers"
   ]
  },
  {
   "cell_type": "code",
   "execution_count": 33,
   "id": "8a22f4ff-6cd5-4297-a014-e36dc9a848f3",
   "metadata": {},
   "outputs": [
    {
     "data": {
      "text/plain": [
       "['Spider-Man']"
      ]
     },
     "execution_count": 33,
     "metadata": {},
     "output_type": "execute_result"
    }
   ],
   "source": [
    "avengers.pop(0)\n",
    "avengers"
   ]
  },
  {
   "cell_type": "markdown",
   "id": "3492aac7-da39-4b2b-b85e-e85952b99ae4",
   "metadata": {},
   "source": [
    "#Only Spider Man left in the team"
   ]
  },
  {
   "cell_type": "code",
   "execution_count": 34,
   "id": "41f2c921-6a5e-4aca-8731-eb4775d190b0",
   "metadata": {},
   "outputs": [
    {
     "name": "stdout",
     "output_type": "stream",
     "text": [
      "Help on list object:\n",
      "\n",
      "class list(object)\n",
      " |  list(iterable=(), /)\n",
      " |  \n",
      " |  Built-in mutable sequence.\n",
      " |  \n",
      " |  If no argument is given, the constructor creates a new empty list.\n",
      " |  The argument must be an iterable if specified.\n",
      " |  \n",
      " |  Methods defined here:\n",
      " |  \n",
      " |  __add__(self, value, /)\n",
      " |      Return self+value.\n",
      " |  \n",
      " |  __contains__(self, key, /)\n",
      " |      Return key in self.\n",
      " |  \n",
      " |  __delitem__(self, key, /)\n",
      " |      Delete self[key].\n",
      " |  \n",
      " |  __eq__(self, value, /)\n",
      " |      Return self==value.\n",
      " |  \n",
      " |  __ge__(self, value, /)\n",
      " |      Return self>=value.\n",
      " |  \n",
      " |  __getattribute__(self, name, /)\n",
      " |      Return getattr(self, name).\n",
      " |  \n",
      " |  __getitem__(...)\n",
      " |      x.__getitem__(y) <==> x[y]\n",
      " |  \n",
      " |  __gt__(self, value, /)\n",
      " |      Return self>value.\n",
      " |  \n",
      " |  __iadd__(self, value, /)\n",
      " |      Implement self+=value.\n",
      " |  \n",
      " |  __imul__(self, value, /)\n",
      " |      Implement self*=value.\n",
      " |  \n",
      " |  __init__(self, /, *args, **kwargs)\n",
      " |      Initialize self.  See help(type(self)) for accurate signature.\n",
      " |  \n",
      " |  __iter__(self, /)\n",
      " |      Implement iter(self).\n",
      " |  \n",
      " |  __le__(self, value, /)\n",
      " |      Return self<=value.\n",
      " |  \n",
      " |  __len__(self, /)\n",
      " |      Return len(self).\n",
      " |  \n",
      " |  __lt__(self, value, /)\n",
      " |      Return self<value.\n",
      " |  \n",
      " |  __mul__(self, value, /)\n",
      " |      Return self*value.\n",
      " |  \n",
      " |  __ne__(self, value, /)\n",
      " |      Return self!=value.\n",
      " |  \n",
      " |  __repr__(self, /)\n",
      " |      Return repr(self).\n",
      " |  \n",
      " |  __reversed__(self, /)\n",
      " |      Return a reverse iterator over the list.\n",
      " |  \n",
      " |  __rmul__(self, value, /)\n",
      " |      Return value*self.\n",
      " |  \n",
      " |  __setitem__(self, key, value, /)\n",
      " |      Set self[key] to value.\n",
      " |  \n",
      " |  __sizeof__(self, /)\n",
      " |      Return the size of the list in memory, in bytes.\n",
      " |  \n",
      " |  append(self, object, /)\n",
      " |      Append object to the end of the list.\n",
      " |  \n",
      " |  clear(self, /)\n",
      " |      Remove all items from list.\n",
      " |  \n",
      " |  copy(self, /)\n",
      " |      Return a shallow copy of the list.\n",
      " |  \n",
      " |  count(self, value, /)\n",
      " |      Return number of occurrences of value.\n",
      " |  \n",
      " |  extend(self, iterable, /)\n",
      " |      Extend list by appending elements from the iterable.\n",
      " |  \n",
      " |  index(self, value, start=0, stop=9223372036854775807, /)\n",
      " |      Return first index of value.\n",
      " |      \n",
      " |      Raises ValueError if the value is not present.\n",
      " |  \n",
      " |  insert(self, index, object, /)\n",
      " |      Insert object before index.\n",
      " |  \n",
      " |  pop(self, index=-1, /)\n",
      " |      Remove and return item at index (default last).\n",
      " |      \n",
      " |      Raises IndexError if list is empty or index is out of range.\n",
      " |  \n",
      " |  remove(self, value, /)\n",
      " |      Remove first occurrence of value.\n",
      " |      \n",
      " |      Raises ValueError if the value is not present.\n",
      " |  \n",
      " |  reverse(self, /)\n",
      " |      Reverse *IN PLACE*.\n",
      " |  \n",
      " |  sort(self, /, *, key=None, reverse=False)\n",
      " |      Sort the list in ascending order and return None.\n",
      " |      \n",
      " |      The sort is in-place (i.e. the list itself is modified) and stable (i.e. the\n",
      " |      order of two equal elements is maintained).\n",
      " |      \n",
      " |      If a key function is given, apply it once to each list item and sort them,\n",
      " |      ascending or descending, according to their function values.\n",
      " |      \n",
      " |      The reverse flag can be set to sort in descending order.\n",
      " |  \n",
      " |  ----------------------------------------------------------------------\n",
      " |  Static methods defined here:\n",
      " |  \n",
      " |  __new__(*args, **kwargs) from builtins.type\n",
      " |      Create and return a new object.  See help(type) for accurate signature.\n",
      " |  \n",
      " |  ----------------------------------------------------------------------\n",
      " |  Data and other attributes defined here:\n",
      " |  \n",
      " |  __hash__ = None\n",
      "\n"
     ]
    }
   ],
   "source": [
    "help(avengers)"
   ]
  },
  {
   "cell_type": "code",
   "execution_count": 35,
   "id": "29b06927-43e3-41e8-ba7d-6123133e7daa",
   "metadata": {},
   "outputs": [
    {
     "data": {
      "text/plain": [
       "['Doctor Strange', 'Vision', 'Wanda', 'Kate Bishop', 'Ant Man']"
      ]
     },
     "execution_count": 35,
     "metadata": {},
     "output_type": "execute_result"
    }
   ],
   "source": [
    "new_superheroes = ['Doctor Strange', 'Vision', 'Wanda', 'Kate Bishop', 'Ant Man']\n",
    "new_superheroes "
   ]
  },
  {
   "cell_type": "code",
   "execution_count": 36,
   "id": "c11184eb-e4aa-447e-a654-473fa12727e9",
   "metadata": {},
   "outputs": [
    {
     "data": {
      "text/plain": [
       "['Spider-Man', 'Doctor Strange', 'Vision', 'Wanda', 'Kate Bishop', 'Ant Man']"
      ]
     },
     "execution_count": 36,
     "metadata": {},
     "output_type": "execute_result"
    }
   ],
   "source": [
    "avengers.extend(new_superheroes)\n",
    "avengers"
   ]
  },
  {
   "cell_type": "code",
   "execution_count": 37,
   "id": "b8c1fec7-d72b-420f-80c0-42dc3975466a",
   "metadata": {},
   "outputs": [
    {
     "data": {
      "text/plain": [
       "6"
      ]
     },
     "execution_count": 37,
     "metadata": {},
     "output_type": "execute_result"
    }
   ],
   "source": [
    "len(avengers)"
   ]
  },
  {
   "cell_type": "code",
   "execution_count": 38,
   "id": "2b81a691-7a39-48bf-8b14-7ed0ed0a1e67",
   "metadata": {},
   "outputs": [],
   "source": [
    "avengers.sort()"
   ]
  },
  {
   "cell_type": "code",
   "execution_count": 39,
   "id": "9e1351ca-984a-4aa8-b137-a2440200cfae",
   "metadata": {},
   "outputs": [
    {
     "data": {
      "text/plain": [
       "['Ant Man', 'Doctor Strange', 'Kate Bishop', 'Spider-Man', 'Vision', 'Wanda']"
      ]
     },
     "execution_count": 39,
     "metadata": {},
     "output_type": "execute_result"
    }
   ],
   "source": [
    "avengers"
   ]
  },
  {
   "cell_type": "code",
   "execution_count": null,
   "id": "7ba58c4d-83aa-46cb-b117-dfc2a2f1c8fa",
   "metadata": {},
   "outputs": [],
   "source": [
    "# Ant Man is the leader of the avengers currently.!!!!!!!!!!!!!!!!!!!!!!!!!!!!!!!!!!!!!!!!!!!!!!!!!!!!!!"
   ]
  },
  {
   "cell_type": "markdown",
   "id": "31434a50-d48b-4eeb-bcf5-591d425eab9a",
   "metadata": {},
   "source": [
    "<img src=\"avengers.jpeg\" height=100 width=100/>"
   ]
  },
  {
   "cell_type": "code",
   "execution_count": null,
   "id": "d039c8c3-980d-4063-ae31-caa5b59814b3",
   "metadata": {},
   "outputs": [],
   "source": []
  }
 ],
 "metadata": {
  "kernelspec": {
   "display_name": "Python 3 (ipykernel)",
   "language": "python",
   "name": "python3"
  },
  "language_info": {
   "codemirror_mode": {
    "name": "ipython",
    "version": 3
   },
   "file_extension": ".py",
   "mimetype": "text/x-python",
   "name": "python",
   "nbconvert_exporter": "python",
   "pygments_lexer": "ipython3",
   "version": "3.8.10"
  }
 },
 "nbformat": 4,
 "nbformat_minor": 5
}

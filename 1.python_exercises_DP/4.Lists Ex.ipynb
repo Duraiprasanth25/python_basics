{
 "cells": [
  {
   "cell_type": "code",
   "execution_count": 12,
   "id": "1fb3f729-88c6-4eec-863e-5ed20b63a130",
   "metadata": {},
   "outputs": [
    {
     "data": {
      "text/plain": [
       "['Iron Man', 'Captain America', 'Black Widow', 'Hulk', 'Thor', 'Hawkeye']"
      ]
     },
     "execution_count": 12,
     "metadata": {},
     "output_type": "execute_result"
    }
   ],
   "source": [
    "avengers  = [\"Iron Man\", \"Captain America\", \"Black Widow\", \"Hulk\", \"Thor\", \"Hawkeye\"]\n",
    "avengers"
   ]
  },
  {
   "cell_type": "code",
   "execution_count": 13,
   "id": "f09e320a-b3b4-4961-9681-2d55664c8cf2",
   "metadata": {},
   "outputs": [
    {
     "data": {
      "text/plain": [
       "6"
      ]
     },
     "execution_count": 13,
     "metadata": {},
     "output_type": "execute_result"
    }
   ],
   "source": [
    "len(avengers)"
   ]
  },
  {
   "cell_type": "code",
   "execution_count": 14,
   "id": "2daba3d2-f744-443a-a675-7b7423f2da37",
   "metadata": {},
   "outputs": [
    {
     "data": {
      "text/plain": [
       "['Iron Man',\n",
       " 'Captain America',\n",
       " 'Black Widow',\n",
       " 'Hulk',\n",
       " 'Thor',\n",
       " 'Hawkeye',\n",
       " 'Spider Man']"
      ]
     },
     "execution_count": 14,
     "metadata": {},
     "output_type": "execute_result"
    }
   ],
   "source": [
    "avengers.append(\"Spider Man\")\n",
    "avengers"
   ]
  },
  {
   "cell_type": "code",
   "execution_count": 32,
   "id": "7853a2be-2541-4132-ab1c-719ea31f063d",
   "metadata": {},
   "outputs": [
    {
     "data": {
      "text/plain": [
       "'Doctor Strange'"
      ]
     },
     "execution_count": 32,
     "metadata": {},
     "output_type": "execute_result"
    }
   ],
   "source": [
    "captain_america = avengers.pop(1)\n",
    "captain_america"
   ]
  },
  {
   "cell_type": "code",
   "execution_count": 15,
   "id": "fbebf5a1-b28b-4fae-b540-7d8f593f05c1",
   "metadata": {},
   "outputs": [
    {
     "data": {
      "text/plain": [
       "['Iron Man', 'Black Widow', 'Hulk', 'Thor', 'Hawkeye', 'Spider Man']"
      ]
     },
     "execution_count": 15,
     "metadata": {},
     "output_type": "execute_result"
    }
   ],
   "source": [
    "avengers.remove(\"Captain America\")\n",
    "avengers"
   ]
  },
  {
   "cell_type": "code",
   "execution_count": 16,
   "id": "955df800-4b3a-4f68-bbda-208eb394e82c",
   "metadata": {},
   "outputs": [
    {
     "data": {
      "text/plain": [
       "['Captain America',\n",
       " 'Iron Man',\n",
       " 'Black Widow',\n",
       " 'Hulk',\n",
       " 'Thor',\n",
       " 'Hawkeye',\n",
       " 'Spider Man']"
      ]
     },
     "execution_count": 16,
     "metadata": {},
     "output_type": "execute_result"
    }
   ],
   "source": [
    "avengers.insert(0, \"Captain America\")\n",
    "avengers"
   ]
  },
  {
   "cell_type": "code",
   "execution_count": 18,
   "id": "f22586f4-2a8e-431c-b102-beea815e4860",
   "metadata": {},
   "outputs": [
    {
     "data": {
      "text/plain": [
       "['Captain America',\n",
       " 'Iron Man',\n",
       " 'Black Widow',\n",
       " 'Hulk',\n",
       " 'Thor',\n",
       " 'Hawkeye',\n",
       " 'Spider Man']"
      ]
     },
     "execution_count": 18,
     "metadata": {},
     "output_type": "execute_result"
    }
   ],
   "source": [
    "avengers.remove(\"Hawkeye\")\n",
    "avengers"
   ]
  },
  {
   "cell_type": "code",
   "execution_count": 19,
   "id": "005b97c2-c226-40a8-a16e-373de5e32958",
   "metadata": {},
   "outputs": [
    {
     "data": {
      "text/plain": [
       "['Captain America',\n",
       " 'Iron Man',\n",
       " 'Black Widow',\n",
       " 'Hulk',\n",
       " 'Hawkeye',\n",
       " 'Thor',\n",
       " 'Hawkeye',\n",
       " 'Spider Man']"
      ]
     },
     "execution_count": 19,
     "metadata": {},
     "output_type": "execute_result"
    }
   ],
   "source": [
    "avengers.insert(4,\"Hawkeye\")\n",
    "avengers"
   ]
  },
  {
   "cell_type": "code",
   "execution_count": 23,
   "id": "99a98875-0f75-40d6-ab0e-3f4972d5da32",
   "metadata": {},
   "outputs": [],
   "source": [
    "avengers.clear()"
   ]
  },
  {
   "cell_type": "code",
   "execution_count": 29,
   "id": "9502ae78-d93e-41d4-bc3a-60662263c1e8",
   "metadata": {},
   "outputs": [
    {
     "data": {
      "text/plain": [
       "['Doctor Strange', 'Vision', 'Wanda', 'Kate Bishop', 'Ant-Man']"
      ]
     },
     "execution_count": 29,
     "metadata": {},
     "output_type": "execute_result"
    }
   ],
   "source": [
    "avengers = [\"Doctor Strange\", \"Vision\", \"Wanda\",\"Kate Bishop\",\"Ant-Man\"]\n",
    "avengers"
   ]
  },
  {
   "cell_type": "code",
   "execution_count": 31,
   "id": "578b4e86-6326-4312-818b-155c2df9a22d",
   "metadata": {},
   "outputs": [
    {
     "data": {
      "text/plain": [
       "['Ant-Man', 'Doctor Strange', 'Kate Bishop', 'Vision', 'Wanda']"
      ]
     },
     "execution_count": 31,
     "metadata": {},
     "output_type": "execute_result"
    }
   ],
   "source": [
    "avengers.sort()\n",
    "avengers"
   ]
  },
  {
   "cell_type": "code",
   "execution_count": null,
   "id": "489c16bc-2ead-482f-8afb-47c495b99308",
   "metadata": {},
   "outputs": [],
   "source": [
    "# So the current leader of avengers after end game is \"Ant - Man\""
   ]
  }
 ],
 "metadata": {
  "kernelspec": {
   "display_name": "Python 3 (ipykernel)",
   "language": "python",
   "name": "python3"
  },
  "language_info": {
   "codemirror_mode": {
    "name": "ipython",
    "version": 3
   },
   "file_extension": ".py",
   "mimetype": "text/x-python",
   "name": "python",
   "nbconvert_exporter": "python",
   "pygments_lexer": "ipython3",
   "version": "3.8.10"
  }
 },
 "nbformat": 4,
 "nbformat_minor": 5
}

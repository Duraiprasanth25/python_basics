{
 "cells": [
  {
   "cell_type": "code",
   "execution_count": 10,
   "id": "3d7e8742-0b05-4270-b10b-7cdd29db04d1",
   "metadata": {},
   "outputs": [],
   "source": [
    "1.#friend_list_tuples\n",
    "\n",
    "def list_of_tuples(friends_list):\n",
    "    new_list = []\n",
    "    for friend in friends_list:\n",
    "        friend_tuple = (friend, len(friend))\n",
    "        new_list.append(friend_tuple)\n",
    "\n",
    "    return new_list\n",
    "    "
   ]
  },
  {
   "cell_type": "code",
   "execution_count": 11,
   "id": "9e121215-1a1e-48b5-bed6-11138da60b22",
   "metadata": {},
   "outputs": [
    {
     "data": {
      "text/plain": [
       "[('anupam', 6),\n",
       " ('bindo', 5),\n",
       " ('hari', 4),\n",
       " ('mathesh', 7),\n",
       " ('sivaraj', 7),\n",
       " ('subi', 4),\n",
       " ('nive', 4)]"
      ]
     },
     "execution_count": 11,
     "metadata": {},
     "output_type": "execute_result"
    }
   ],
   "source": [
    "#list of friends\n",
    "friends = ['anupam','bindo','hari','mathesh','sivaraj','subi','nive']\n",
    "list_of_tuples(friends)"
   ]
  },
  {
   "cell_type": "code",
   "execution_count": 15,
   "id": "bafa9428-120c-4558-84d0-3afe2a02cec8",
   "metadata": {},
   "outputs": [
    {
     "data": {
      "text/plain": [
       "[('karthik', 7), ('bibishaa', 8), ('nitish', 6), ('dev', 3)]"
      ]
     },
     "execution_count": 15,
     "metadata": {},
     "output_type": "execute_result"
    }
   ],
   "source": [
    "list_of_tuples(['karthik','bibishaa','nitish','dev'])"
   ]
  },
  {
   "cell_type": "code",
   "execution_count": 17,
   "id": "a4a776d7-7c05-4fbc-8e32-f6cebf97a8e2",
   "metadata": {},
   "outputs": [],
   "source": [
    "# DICTIONARIES OF HUSBAND & WIFE EXPENSES"
   ]
  },
  {
   "cell_type": "raw",
   "id": "e4f57d48-ebd4-4b96-9538-fd23638a5f1a",
   "metadata": {},
   "source": [
    "Your expenses -\n",
    "\n",
    "Clothes - 1100\n",
    "Shoes - 1000\n",
    "Watch - 900\n",
    "Mobile Recharge - 699\n",
    "Petrol - 1980\n",
    "Your Wife’s expenses -\n",
    "\n",
    "Mobile Recharge - 799\n",
    "DTH recharge - 999\n",
    "Clothes - 2310\n",
    "Makeup - 3670\n",
    "Shoes - 999\n",
    "A) Find out total expenses of each of you.\n",
    "B) Find out who spending more\n",
    "C) Find out in which thing you and your wife spending more"
   ]
  },
  {
   "cell_type": "code",
   "execution_count": 10,
   "id": "e2c40541-c0f8-4f65-99ef-ffc5865add5a",
   "metadata": {},
   "outputs": [],
   "source": [
    "my_expenses = dict()\n",
    "wife_expenses = dict()"
   ]
  },
  {
   "cell_type": "code",
   "execution_count": 14,
   "id": "9e8f008d-e3e2-4c11-81cd-ceede21c85bc",
   "metadata": {},
   "outputs": [],
   "source": [
    "my_expenses['Clothes'] = 100\n",
    "my_expenses['Shoes'] = 1000\n",
    "my_expenses['Watch'] = 900\n",
    "my_expenses['Mobile Recharge'] = 699\n",
    "my_expenses['Petrol'] = 1980"
   ]
  },
  {
   "cell_type": "code",
   "execution_count": 15,
   "id": "9acd4605-8d94-440e-bebe-4276a41b60dc",
   "metadata": {},
   "outputs": [],
   "source": [
    "wife_expenses.update({\n",
    "    'Mobile Recharge': 799,\n",
    "    'DTH recharge': 999, \n",
    "    'Clothes': 2310,\n",
    "    'Makeup': 3760,\n",
    "    'Shoes': 999\n",
    "})"
   ]
  },
  {
   "cell_type": "code",
   "execution_count": 18,
   "id": "7181c4cd-d73f-4c5b-8ba6-3b884c2f4dd6",
   "metadata": {},
   "outputs": [
    {
     "data": {
      "text/plain": [
       "{'Clothes': 100,\n",
       " 'Shoes': 1000,\n",
       " 'Watch': 900,\n",
       " 'Mobile Recharge': 699,\n",
       " 'Petrol': 1980}"
      ]
     },
     "execution_count": 18,
     "metadata": {},
     "output_type": "execute_result"
    }
   ],
   "source": [
    "my_expenses"
   ]
  },
  {
   "cell_type": "code",
   "execution_count": 17,
   "id": "a420d1a6-124d-45c3-9da5-2c3dc58eeaee",
   "metadata": {},
   "outputs": [
    {
     "data": {
      "text/plain": [
       "{'Mobile Recharge': 799,\n",
       " 'DTH recharge': 999,\n",
       " 'Clothes': 2310,\n",
       " 'Makeup': 3760,\n",
       " 'Shoes': 999}"
      ]
     },
     "execution_count": 17,
     "metadata": {},
     "output_type": "execute_result"
    }
   ],
   "source": [
    "wife_expenses"
   ]
  },
  {
   "cell_type": "code",
   "execution_count": 35,
   "id": "58e3f850-cfd8-480b-8e46-deb61851cbce",
   "metadata": {},
   "outputs": [],
   "source": [
    "# little Yoda's Analysis\n",
    "\n",
    "# finding total expenses\n",
    "total = 0\n",
    "for key in my_expenses:\n",
    "    total += my_expenses[key]\n",
    "\n",
    "my_expenses['Total'] = total\n",
    "    "
   ]
  },
  {
   "cell_type": "code",
   "execution_count": 36,
   "id": "bbea6f7e-bf83-4d2c-844d-2fffffbbf3c7",
   "metadata": {},
   "outputs": [],
   "source": [
    "total = 0\n",
    "for key in wife_expenses:\n",
    "    total += wife_expenses[key]\n",
    "\n",
    "wife_expenses['Total'] = total"
   ]
  },
  {
   "cell_type": "code",
   "execution_count": 37,
   "id": "d7a83a40-5d4e-4607-b762-14a8cb352d3a",
   "metadata": {},
   "outputs": [
    {
     "name": "stdout",
     "output_type": "stream",
     "text": [
      "your total expenses are : 9358\n"
     ]
    }
   ],
   "source": [
    "print (f\"your total expenses are : {my_expenses['Total']}\")"
   ]
  },
  {
   "cell_type": "code",
   "execution_count": 38,
   "id": "e8cfa204-fa55-419a-84ca-7ab952afec22",
   "metadata": {},
   "outputs": [
    {
     "name": "stdout",
     "output_type": "stream",
     "text": [
      "your wife expenses are : 17734\n"
     ]
    }
   ],
   "source": [
    "print (f\"your wife expenses are : {wife_expenses['Total']}\")"
   ]
  },
  {
   "cell_type": "code",
   "execution_count": 39,
   "id": "ca149ba4-0aec-4d57-b238-6f50e196640e",
   "metadata": {},
   "outputs": [
    {
     "name": "stdout",
     "output_type": "stream",
     "text": [
      "27092\n"
     ]
    }
   ],
   "source": [
    "total = my_expenses['Total'] + wife_expenses['Total']\n",
    "print(total)"
   ]
  },
  {
   "cell_type": "code",
   "execution_count": 43,
   "id": "aebe09d7-927e-45f4-a588-f65dcbf8bcb8",
   "metadata": {},
   "outputs": [
    {
     "name": "stdout",
     "output_type": "stream",
     "text": [
      "Your wife has spent more than you\n"
     ]
    }
   ],
   "source": [
    "# B. Finding who spend more\n",
    "\n",
    "if my_expenses['Total'] > wife_expenses['Total']:\n",
    "    print (\"You have spent more than your wife\")\n",
    "else:\n",
    "    print(\"Your wife has spent more than you\")"
   ]
  },
  {
   "cell_type": "code",
   "execution_count": 45,
   "id": "4a3cb714-68eb-49dd-b308-a21ea33870b5",
   "metadata": {},
   "outputs": [
    {
     "data": {
      "text/plain": [
       "['__class__',\n",
       " '__contains__',\n",
       " '__delattr__',\n",
       " '__delitem__',\n",
       " '__dir__',\n",
       " '__doc__',\n",
       " '__eq__',\n",
       " '__format__',\n",
       " '__ge__',\n",
       " '__getattribute__',\n",
       " '__getitem__',\n",
       " '__gt__',\n",
       " '__hash__',\n",
       " '__init__',\n",
       " '__init_subclass__',\n",
       " '__iter__',\n",
       " '__le__',\n",
       " '__len__',\n",
       " '__lt__',\n",
       " '__ne__',\n",
       " '__new__',\n",
       " '__reduce__',\n",
       " '__reduce_ex__',\n",
       " '__repr__',\n",
       " '__reversed__',\n",
       " '__setattr__',\n",
       " '__setitem__',\n",
       " '__sizeof__',\n",
       " '__str__',\n",
       " '__subclasshook__',\n",
       " 'clear',\n",
       " 'copy',\n",
       " 'fromkeys',\n",
       " 'get',\n",
       " 'items',\n",
       " 'keys',\n",
       " 'pop',\n",
       " 'popitem',\n",
       " 'setdefault',\n",
       " 'update',\n",
       " 'values']"
      ]
     },
     "execution_count": 45,
     "metadata": {},
     "output_type": "execute_result"
    }
   ],
   "source": [
    "# c. finding expensive thing\n",
    "# If we can sort the dictionary in increasing order or decreasing order\n",
    "# we can find it easily\n",
    "\n",
    "dir(my_expenses)"
   ]
  },
  {
   "cell_type": "code",
   "execution_count": 53,
   "id": "a404953c-d78f-4f77-862e-bb44325ead1a",
   "metadata": {},
   "outputs": [],
   "source": [
    "def sort_the_dict(dictionary):\n",
    "    sorted_dict = sorted(dictionary.items(), key=lambda kv:kv[1])\n",
    "\n",
    "    return sorted_dict"
   ]
  },
  {
   "cell_type": "code",
   "execution_count": 54,
   "id": "e45f9f4e-3e2a-423b-bd0b-9cd9e9709f32",
   "metadata": {},
   "outputs": [
    {
     "data": {
      "text/plain": [
       "[('Clothes', 100),\n",
       " ('Mobile Recharge', 699),\n",
       " ('Watch', 900),\n",
       " ('Shoes', 1000),\n",
       " ('Petrol', 1980),\n",
       " ('Total', 9358)]"
      ]
     },
     "execution_count": 54,
     "metadata": {},
     "output_type": "execute_result"
    }
   ],
   "source": [
    "sort_the_dict(my_expenses)"
   ]
  },
  {
   "cell_type": "code",
   "execution_count": 55,
   "id": "34b60c2e-1c4d-4ab8-be0a-a695b9a4898e",
   "metadata": {},
   "outputs": [
    {
     "data": {
      "text/plain": [
       "[('Mobile Recharge', 799),\n",
       " ('DTH recharge', 999),\n",
       " ('Shoes', 999),\n",
       " ('Clothes', 2310),\n",
       " ('Makeup', 3760),\n",
       " ('Total', 17734)]"
      ]
     },
     "execution_count": 55,
     "metadata": {},
     "output_type": "execute_result"
    }
   ],
   "source": [
    "sort_the_dict(wife_expenses)"
   ]
  },
  {
   "cell_type": "code",
   "execution_count": 58,
   "id": "ea795f29-23a6-4386-9c6e-15ff9b116385",
   "metadata": {},
   "outputs": [
    {
     "name": "stdout",
     "output_type": "stream",
     "text": [
      "You have spent more on: \n"
     ]
    },
    {
     "data": {
      "text/plain": [
       "('Petrol', 1980)"
      ]
     },
     "execution_count": 58,
     "metadata": {},
     "output_type": "execute_result"
    }
   ],
   "source": [
    "print (\"You have spent more on: \")\n",
    "sort_the_dict(my_expenses)[-2]"
   ]
  },
  {
   "cell_type": "code",
   "execution_count": 59,
   "id": "75fdccc2-4bb1-4323-acfc-9c4806647317",
   "metadata": {},
   "outputs": [
    {
     "name": "stdout",
     "output_type": "stream",
     "text": [
      "You have spent more on: \n"
     ]
    },
    {
     "data": {
      "text/plain": [
       "('Makeup', 3760)"
      ]
     },
     "execution_count": 59,
     "metadata": {},
     "output_type": "execute_result"
    }
   ],
   "source": [
    "print(\"You have spent more on: \")\n",
    "sort_the_dict(wife_expenses)[-2]"
   ]
  },
  {
   "cell_type": "markdown",
   "id": "22ae80e7-1c8f-46c8-86f9-0519dab61e0e",
   "metadata": {},
   "source": [
    "It looks like you love to travel and your wife loves self beauty, beacuse you both spend on petrol and makeup respectively"
   ]
  }
 ],
 "metadata": {
  "kernelspec": {
   "display_name": "Python 3 (ipykernel)",
   "language": "python",
   "name": "python3"
  },
  "language_info": {
   "codemirror_mode": {
    "name": "ipython",
    "version": 3
   },
   "file_extension": ".py",
   "mimetype": "text/x-python",
   "name": "python",
   "nbconvert_exporter": "python",
   "pygments_lexer": "ipython3",
   "version": "3.8.10"
  }
 },
 "nbformat": 4,
 "nbformat_minor": 5
}

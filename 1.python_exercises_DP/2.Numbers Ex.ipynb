{
 "cells": [
  {
   "cell_type": "markdown",
   "id": "a005b10e-68f7-4c63-8a57-c879e86d9727",
   "metadata": {},
   "source": [
    "__1.format function to formate the number__ "
   ]
  },
  {
   "cell_type": "code",
   "execution_count": 1,
   "id": "26973ad1-1e57-48f4-9787-8b548971b53e",
   "metadata": {},
   "outputs": [
    {
     "data": {
      "text/plain": [
       "'221'"
      ]
     },
     "execution_count": 1,
     "metadata": {},
     "output_type": "execute_result"
    }
   ],
   "source": [
    "format(145, 'o')"
   ]
  },
  {
   "cell_type": "markdown",
   "id": "c93fd9c9-732a-4ac6-aa71-e859841e58a2",
   "metadata": {},
   "source": [
    "__2.Area of the pool__"
   ]
  },
  {
   "cell_type": "markdown",
   "id": "9a203269-9ad6-4474-9ffc-b2954431928a",
   "metadata": {},
   "source": [
    "_Circular area = πr2_\n",
    "\n",
    "\n",
    "\n",
    " "
   ]
  },
  {
   "cell_type": "markdown",
   "id": "7e3b6e94-ec64-4656-8c11-4c8f3bbb3c0a",
   "metadata": {},
   "source": [
    "# circular pond\n",
    "\n",
    "where, Radius = 84"
   ]
  },
  {
   "cell_type": "code",
   "execution_count": 5,
   "id": "528d3c8f-4e12-4975-a55f-f0f13ec97a8f",
   "metadata": {},
   "outputs": [],
   "source": [
    "pond_area = 3.14 * 84 **2"
   ]
  },
  {
   "cell_type": "code",
   "execution_count": 7,
   "id": "a2204fad-341c-4ce6-b53d-22d5c578a89a",
   "metadata": {},
   "outputs": [
    {
     "name": "stdout",
     "output_type": "stream",
     "text": [
      "22155.84\n"
     ]
    }
   ],
   "source": [
    "print(pond_area)"
   ]
  },
  {
   "cell_type": "markdown",
   "id": "e0d503a6-07ff-45f5-9399-bbf425fb6472",
   "metadata": {},
   "source": [
    "__Bonus__"
   ]
  },
  {
   "cell_type": "code",
   "execution_count": 15,
   "id": "827a3dde-f179-43dd-abe6-5b6a8c2e123d",
   "metadata": {},
   "outputs": [],
   "source": [
    "per_sqt_meter_water=1.4"
   ]
  },
  {
   "cell_type": "code",
   "execution_count": 16,
   "id": "6173e4a7-f6ae-4032-adca-f4de06e6ce87",
   "metadata": {},
   "outputs": [],
   "source": [
    "total_water = pond_area * per_sqt_meter_water"
   ]
  },
  {
   "cell_type": "code",
   "execution_count": 17,
   "id": "b48f92aa-6289-47c8-a702-26d5bc45703d",
   "metadata": {},
   "outputs": [
    {
     "name": "stdout",
     "output_type": "stream",
     "text": [
      "31018.176\n"
     ]
    }
   ],
   "source": [
    "print(total_water)"
   ]
  },
  {
   "cell_type": "code",
   "execution_count": null,
   "id": "7b12c6df-060c-45e0-9c35-30f6ec9a9282",
   "metadata": {},
   "outputs": [],
   "source": [
    "#There is total of 31018.176 litres of water in your pond"
   ]
  },
  {
   "cell_type": "markdown",
   "id": "faadd04c-8486-44ca-986a-a812af264e84",
   "metadata": {},
   "source": [
    "__3.Calculating Speed__"
   ]
  },
  {
   "cell_type": "markdown",
   "id": "dc90068c-a987-44e1-9f41-1e1949aacab0",
   "metadata": {},
   "source": [
    "Speed is calculated using the formula\n",
    "\n",
    "_Speed = Distance / Time_"
   ]
  },
  {
   "cell_type": "code",
   "execution_count": 26,
   "id": "f747fee6-d777-48f4-a010-bb45d3c8b427",
   "metadata": {},
   "outputs": [],
   "source": [
    "street_length = 490 \n",
    "time = 7*60"
   ]
  },
  {
   "cell_type": "code",
   "execution_count": 27,
   "id": "24a53ead-40a4-41df-a6fb-2730a4686071",
   "metadata": {},
   "outputs": [
    {
     "data": {
      "text/plain": [
       "420"
      ]
     },
     "execution_count": 27,
     "metadata": {},
     "output_type": "execute_result"
    }
   ],
   "source": [
    "time"
   ]
  },
  {
   "cell_type": "code",
   "execution_count": null,
   "id": "49363f59-da40-4659-bd73-397dcdfd5f66",
   "metadata": {},
   "outputs": [],
   "source": [
    "#time in seconds = 7*60 = 420 secs."
   ]
  },
  {
   "cell_type": "code",
   "execution_count": 31,
   "id": "c6dca91d-bc9e-4280-b6c6-cdeb572c5caf",
   "metadata": {},
   "outputs": [],
   "source": [
    "speed = street_length / time"
   ]
  },
  {
   "cell_type": "code",
   "execution_count": 32,
   "id": "9cc437cc-e18c-4998-bb5d-e811b782ee32",
   "metadata": {},
   "outputs": [
    {
     "name": "stdout",
     "output_type": "stream",
     "text": [
      "1.1666666666666667\n"
     ]
    }
   ],
   "source": [
    "print(speed)"
   ]
  },
  {
   "cell_type": "code",
   "execution_count": 33,
   "id": "c7333957-4ea1-47e3-bd21-0c26b2e472e1",
   "metadata": {},
   "outputs": [
    {
     "name": "stdout",
     "output_type": "stream",
     "text": [
      "1\n"
     ]
    }
   ],
   "source": [
    "print(round(speed))"
   ]
  },
  {
   "cell_type": "code",
   "execution_count": null,
   "id": "70c18491-93e2-49d9-88aa-f684a6bebf2c",
   "metadata": {},
   "outputs": [],
   "source": [
    " "
   ]
  }
 ],
 "metadata": {
  "kernelspec": {
   "display_name": "Python 3 (ipykernel)",
   "language": "python",
   "name": "python3"
  },
  "language_info": {
   "codemirror_mode": {
    "name": "ipython",
    "version": 3
   },
   "file_extension": ".py",
   "mimetype": "text/x-python",
   "name": "python",
   "nbconvert_exporter": "python",
   "pygments_lexer": "ipython3",
   "version": "3.8.10"
  }
 },
 "nbformat": 4,
 "nbformat_minor": 5
}

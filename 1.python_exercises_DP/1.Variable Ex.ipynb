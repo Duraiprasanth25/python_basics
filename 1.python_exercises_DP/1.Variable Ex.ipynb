{
 "cells": [
  {
   "cell_type": "code",
   "execution_count": 1,
   "id": "8fabc321-d645-4969-b9e1-3c5a25baeebd",
   "metadata": {},
   "outputs": [
    {
     "name": "stdout",
     "output_type": "stream",
     "text": [
      "3.142857142857143\n"
     ]
    }
   ],
   "source": [
    "# 1. creating variable named pi\n",
    "pi=22/7\n",
    "print(pi)"
   ]
  },
  {
   "cell_type": "code",
   "execution_count": 2,
   "id": "d877b3bf-99ee-4794-86d4-4467e636144f",
   "metadata": {},
   "outputs": [
    {
     "data": {
      "text/plain": [
       "float"
      ]
     },
     "execution_count": 2,
     "metadata": {},
     "output_type": "execute_result"
    }
   ],
   "source": [
    "type(pi)"
   ]
  },
  {
   "cell_type": "code",
   "execution_count": 3,
   "id": "fc94a5e1-ad50-48f5-baff-d97932dddbf3",
   "metadata": {},
   "outputs": [
    {
     "ename": "SyntaxError",
     "evalue": "invalid syntax (1066317504.py, line 2)",
     "output_type": "error",
     "traceback": [
      "\u001b[1;36m  Cell \u001b[1;32mIn[3], line 2\u001b[1;36m\u001b[0m\n\u001b[1;33m    for = 4\u001b[0m\n\u001b[1;37m        ^\u001b[0m\n\u001b[1;31mSyntaxError\u001b[0m\u001b[1;31m:\u001b[0m invalid syntax\n"
     ]
    }
   ],
   "source": [
    "# 2. creating variable named for\n",
    "for = 4"
   ]
  },
  {
   "cell_type": "code",
   "execution_count": 6,
   "id": "89e26a13-662f-4c8a-b302-1358bd0055b9",
   "metadata": {},
   "outputs": [
    {
     "name": "stdout",
     "output_type": "stream",
     "text": [
      "4\n"
     ]
    }
   ],
   "source": [
    "# Reason for the syntax error - 'for' is an reversed keyword in python\n",
    "\n",
    "#solution\n",
    "\n",
    "for_ = 4\n",
    "print(for_)"
   ]
  },
  {
   "cell_type": "code",
   "execution_count": 7,
   "id": "a39c62b0-f77d-4d2c-a9a8-7d7037ef4800",
   "metadata": {},
   "outputs": [],
   "source": [
    "# 3. calculating Simple Interest\n",
    "principal_amount = 654.00\n",
    "rate_of_interest = 5.6\n",
    "time = 3"
   ]
  },
  {
   "cell_type": "markdown",
   "id": "9e7b9bdc-b812-4330-8870-2a1738050ca3",
   "metadata": {},
   "source": [
    "Now let's calculate the simple interst using simple maths formula\n",
    "\n",
    "simple interest  = P x R x T / 100\n",
    "\n",
    "where,\n",
    "P = pricipal_amount\n",
    "R = rate_of_interest\n",
    "T = time"
   ]
  },
  {
   "cell_type": "code",
   "execution_count": 8,
   "id": "6709a18e-8bd3-4fc6-b94d-3708aa9aa2d2",
   "metadata": {},
   "outputs": [],
   "source": [
    "simple_interest = principal_amount * rate_of_interest * time / 100"
   ]
  },
  {
   "cell_type": "code",
   "execution_count": 9,
   "id": "13da3e5e-c645-4076-87b5-4910776a59f7",
   "metadata": {},
   "outputs": [
    {
     "name": "stdout",
     "output_type": "stream",
     "text": [
      "109.87199999999999\n"
     ]
    }
   ],
   "source": [
    "print(simple_interest)"
   ]
  },
  {
   "cell_type": "code",
   "execution_count": 10,
   "id": "e05802ae-1015-4126-bf19-473851e23908",
   "metadata": {},
   "outputs": [
    {
     "name": "stdout",
     "output_type": "stream",
     "text": [
      "<class 'float'>\n"
     ]
    }
   ],
   "source": [
    "print(type(simple_interest))"
   ]
  },
  {
   "cell_type": "code",
   "execution_count": 11,
   "id": "f7ec8e2e-8aee-4d71-a420-baf0ed51899c",
   "metadata": {},
   "outputs": [],
   "source": [
    "#total amount after including interest\n",
    "\n",
    "total_amount = principal_amount+simple_interest"
   ]
  },
  {
   "cell_type": "code",
   "execution_count": 12,
   "id": "4d91f718-1418-4a7d-adfa-9b247341fa10",
   "metadata": {},
   "outputs": [
    {
     "name": "stdout",
     "output_type": "stream",
     "text": [
      "763.872\n"
     ]
    }
   ],
   "source": [
    "print(total_amount)"
   ]
  },
  {
   "cell_type": "code",
   "execution_count": null,
   "id": "9fe4cda1-497c-44ef-8709-f1d1e76faa9e",
   "metadata": {},
   "outputs": [],
   "source": []
  }
 ],
 "metadata": {
  "kernelspec": {
   "display_name": "Python 3 (ipykernel)",
   "language": "python",
   "name": "python3"
  },
  "language_info": {
   "codemirror_mode": {
    "name": "ipython",
    "version": 3
   },
   "file_extension": ".py",
   "mimetype": "text/x-python",
   "name": "python",
   "nbconvert_exporter": "python",
   "pygments_lexer": "ipython3",
   "version": "3.8.10"
  }
 },
 "nbformat": 4,
 "nbformat_minor": 5
}

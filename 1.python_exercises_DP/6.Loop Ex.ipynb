{
 "cells": [
  {
   "cell_type": "raw",
   "id": "a9b24073-cc0f-46b8-acf6-5de43092118c",
   "metadata": {},
   "source": [
    "Write a Python program to print the following pattern.\n",
    "\n",
    "1 2 3 4 5\n",
    "1 2 3 4 \n",
    "1 2 3\n",
    "1 2\n",
    "1"
   ]
  },
  {
   "cell_type": "code",
   "execution_count": 5,
   "id": "734cc83f-f821-4d94-a4e9-9e2f868bc207",
   "metadata": {},
   "outputs": [],
   "source": [
    "n = 6"
   ]
  },
  {
   "cell_type": "code",
   "execution_count": 31,
   "id": "88609b84-fd39-49cb-8147-01609a2206f8",
   "metadata": {},
   "outputs": [
    {
     "name": "stdout",
     "output_type": "stream",
     "text": [
      "1 2 3 4 5 \n",
      "1 2 3 4 \n",
      "1 2 3 \n",
      "1 2 \n",
      "1 \n"
     ]
    }
   ],
   "source": [
    "#for rows\n",
    "for i in range(n,1, -1):\n",
    "    #for columns\n",
    "    for j in range (1, i):\n",
    "        print (j, end = \" \")\n",
    "\n",
    "#print each line\n",
    "    print()\n",
    "\n",
    "    "
   ]
  },
  {
   "cell_type": "raw",
   "id": "1c79ac79-8829-412e-9a0a-a72254f3434e",
   "metadata": {},
   "source": [
    "Write a Python program to find the sum of all the numbers except odd numbers between 1 and 20 using a loop. Can you also do this using a while loop?"
   ]
  },
  {
   "cell_type": "code",
   "execution_count": 57,
   "id": "69ff795b-3bb0-430a-a337-c2a45b9b113a",
   "metadata": {},
   "outputs": [],
   "source": [
    "sum_ = 0\n",
    "for num in range(1,21):\n",
    "   if num % 2 != 0:\n",
    "     continue\n",
    "   else:\n",
    "    sum_ = sum_ + num\n",
    "       "
   ]
  },
  {
   "cell_type": "code",
   "execution_count": 58,
   "id": "e2920815-2849-48d7-a8cd-afe7ce03b113",
   "metadata": {},
   "outputs": [
    {
     "name": "stdout",
     "output_type": "stream",
     "text": [
      "110\n"
     ]
    }
   ],
   "source": [
    "print(sum_)"
   ]
  },
  {
   "cell_type": "code",
   "execution_count": 74,
   "id": "04927cf9-84b1-4164-b9f5-2347fb393ecd",
   "metadata": {},
   "outputs": [
    {
     "name": "stdout",
     "output_type": "stream",
     "text": [
      "110\n"
     ]
    }
   ],
   "source": [
    "sum_ = 0\n",
    "num = 1\n",
    "while num <= 20:\n",
    "\n",
    "    if num %2 ==0:\n",
    "        sum_ += num\n",
    "    \n",
    "    num = num + 1\n",
    "\n",
    "print(sum_)"
   ]
  },
  {
   "cell_type": "markdown",
   "id": "05b30216-5706-4c41-9770-1f23661b4e83",
   "metadata": {},
   "source": [
    "3.Dice result"
   ]
  },
  {
   "cell_type": "raw",
   "id": "e833b30d-8126-4570-b01e-13718a050ef1",
   "metadata": {},
   "source": [
    "dice_result  = [5,6,4,2,5,4,4,5,3,3,2,6,1,2,1,1,6,5]\n",
    "Using a for loop find out the followings:\n",
    "\n",
    "How many times have you got 6s\n",
    "\n",
    "How many times have you got 1s\n",
    "\n",
    "How many times have you got 6s two times in a row"
   ]
  },
  {
   "cell_type": "code",
   "execution_count": 76,
   "id": "036a2468-6f1d-46c9-b973-73954e8be003",
   "metadata": {},
   "outputs": [
    {
     "data": {
      "text/plain": [
       "[5, 6, 4, 2, 5, 4, 4, 5, 3, 3, 2, 6, 1, 2, 1, 1, 6, 5]"
      ]
     },
     "execution_count": 76,
     "metadata": {},
     "output_type": "execute_result"
    }
   ],
   "source": [
    "dice_result  = [5,6,4,2,5,4,4,5,3,3,2,6,1,2,1,1,6,5]\n",
    "dice_result"
   ]
  },
  {
   "cell_type": "code",
   "execution_count": 81,
   "id": "9d95e309-91e6-417e-b49e-fe501261c924",
   "metadata": {},
   "outputs": [
    {
     "name": "stdout",
     "output_type": "stream",
     "text": [
      "3\n"
     ]
    }
   ],
   "source": [
    "# how many times dice got 6s\n",
    "\n",
    "sixes = 0\n",
    "for n in dice_result:\n",
    "    if n == 6:\n",
    "        sixes += 1\n",
    "print(sixes)\n",
    "    \n"
   ]
  },
  {
   "cell_type": "code",
   "execution_count": 83,
   "id": "a022f186-df0d-46c8-aa15-53acbf493293",
   "metadata": {},
   "outputs": [
    {
     "name": "stdout",
     "output_type": "stream",
     "text": [
      "3\n"
     ]
    }
   ],
   "source": [
    "# how many times dice got 1s\n",
    "\n",
    "ones = 0\n",
    "for n in dice_result:\n",
    "    if n == 1:\n",
    "        ones += 1\n",
    "print(ones)"
   ]
  },
  {
   "cell_type": "code",
   "execution_count": 90,
   "id": "6fb8d4a7-d59b-4e9a-8c78-fa3ba165f025",
   "metadata": {},
   "outputs": [
    {
     "name": "stdout",
     "output_type": "stream",
     "text": [
      "0\n"
     ]
    }
   ],
   "source": [
    "# 6s two times in a row\n",
    "\n",
    "two_6s = 0\n",
    "l = len(dice_result)\n",
    "\n",
    "for i in range(1 -1):\n",
    "    if dice_result [i] == 6 and dice_result [i+1] == 6:\n",
    "        two_6s += 1\n",
    "print(two_6s)\n"
   ]
  },
  {
   "cell_type": "code",
   "execution_count": null,
   "id": "1f916c4a-e9df-4ad7-bfea-56cfd7aac737",
   "metadata": {},
   "outputs": [],
   "source": [
    "#If you complete all 50 push-ups, then it should print the “Congratulations! You made it” and stopped the program"
   ]
  },
  {
   "cell_type": "code",
   "execution_count": 93,
   "id": "eb4f8060-db37-4b19-ba83-5e939ecfb3f0",
   "metadata": {},
   "outputs": [],
   "source": [
    "push_ups = list(range(1,51))"
   ]
  },
  {
   "cell_type": "code",
   "execution_count": 94,
   "id": "906f850a-b72e-45ba-89de-48cf5c64e951",
   "metadata": {},
   "outputs": [
    {
     "data": {
      "text/plain": [
       "[1,\n",
       " 2,\n",
       " 3,\n",
       " 4,\n",
       " 5,\n",
       " 6,\n",
       " 7,\n",
       " 8,\n",
       " 9,\n",
       " 10,\n",
       " 11,\n",
       " 12,\n",
       " 13,\n",
       " 14,\n",
       " 15,\n",
       " 16,\n",
       " 17,\n",
       " 18,\n",
       " 19,\n",
       " 20,\n",
       " 21,\n",
       " 22,\n",
       " 23,\n",
       " 24,\n",
       " 25,\n",
       " 26,\n",
       " 27,\n",
       " 28,\n",
       " 29,\n",
       " 30,\n",
       " 31,\n",
       " 32,\n",
       " 33,\n",
       " 34,\n",
       " 35,\n",
       " 36,\n",
       " 37,\n",
       " 38,\n",
       " 39,\n",
       " 40,\n",
       " 41,\n",
       " 42,\n",
       " 43,\n",
       " 44,\n",
       " 45,\n",
       " 46,\n",
       " 47,\n",
       " 48,\n",
       " 49,\n",
       " 50]"
      ]
     },
     "execution_count": 94,
     "metadata": {},
     "output_type": "execute_result"
    }
   ],
   "source": [
    "push_ups"
   ]
  },
  {
   "cell_type": "code",
   "execution_count": 118,
   "id": "a1cfed7d-052a-46d6-8530-f92ac4a3b6d5",
   "metadata": {},
   "outputs": [
    {
     "name": "stdout",
     "output_type": "stream",
     "text": [
      "<built-in function print>\n"
     ]
    }
   ],
   "source": [
    "end = \"50\"\n",
    "\n",
    "for push_up in push_ups:\n",
    "    if push_up == push_ups:\n",
    "        print(\"Congratulations! you made it\")\n",
    "        break\n",
    "print()"
   ]
  },
  {
   "cell_type": "code",
   "execution_count": null,
   "id": "07546906-d5c1-44cf-8b19-bf04a3da3ee3",
   "metadata": {},
   "outputs": [],
   "source": []
  }
 ],
 "metadata": {
  "kernelspec": {
   "display_name": "Python 3 (ipykernel)",
   "language": "python",
   "name": "python3"
  },
  "language_info": {
   "codemirror_mode": {
    "name": "ipython",
    "version": 3
   },
   "file_extension": ".py",
   "mimetype": "text/x-python",
   "name": "python",
   "nbconvert_exporter": "python",
   "pygments_lexer": "ipython3",
   "version": "3.8.10"
  }
 },
 "nbformat": 4,
 "nbformat_minor": 5
}

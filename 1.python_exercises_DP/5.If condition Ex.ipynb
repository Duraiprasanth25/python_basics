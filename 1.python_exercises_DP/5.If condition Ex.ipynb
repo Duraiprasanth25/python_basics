{
 "cells": [
  {
   "cell_type": "markdown",
   "id": "aabb4a0a-f4ac-4bc2-be4d-b96df927a795",
   "metadata": {},
   "source": [
    "__IF CONDITION__"
   ]
  },
  {
   "cell_type": "markdown",
   "id": "3e166c38-372d-48de-9e92-dbcf39b87232",
   "metadata": {},
   "source": [
    "_1. BMI CATEGORY_"
   ]
  },
  {
   "cell_type": "raw",
   "id": "83aa9d72-2c71-4b73-9c28-6c09001e64e2",
   "metadata": {},
   "source": [
    "height = input(\"enter your height\")\n",
    "height = float(height)"
   ]
  },
  {
   "cell_type": "code",
   "execution_count": 3,
   "id": "2504333b-3725-4618-9d51-6cc2a0ff5c99",
   "metadata": {},
   "outputs": [
    {
     "name": "stdin",
     "output_type": "stream",
     "text": [
      "enter your weight 76\n"
     ]
    }
   ],
   "source": [
    "weight = input(\"enter your weight\")\n",
    "weight = int(weight)\n"
   ]
  },
  {
   "cell_type": "markdown",
   "id": "fdac888e-84e0-455d-b6ea-ad73e9abf16d",
   "metadata": {},
   "source": [
    "__BMI = weight / height**2__"
   ]
  },
  {
   "cell_type": "code",
   "execution_count": 4,
   "id": "49909bee-9741-4ed2-abd7-a49b1df2921c",
   "metadata": {},
   "outputs": [],
   "source": [
    "bmi = weight / (height**2)"
   ]
  },
  {
   "cell_type": "code",
   "execution_count": 5,
   "id": "665d9fde-5641-40ba-9aea-80967d5de765",
   "metadata": {},
   "outputs": [
    {
     "data": {
      "text/plain": [
       "24.816326530612244"
      ]
     },
     "execution_count": 5,
     "metadata": {},
     "output_type": "execute_result"
    }
   ],
   "source": [
    "bmi"
   ]
  },
  {
   "cell_type": "code",
   "execution_count": 6,
   "id": "a36cd3aa-4ddb-404e-851a-b9216e5240ef",
   "metadata": {},
   "outputs": [
    {
     "name": "stdout",
     "output_type": "stream",
     "text": [
      "normal\n"
     ]
    }
   ],
   "source": [
    "if bmi > 30:\n",
    "    print(\"obesity\")\n",
    "\n",
    "elif bmi > 25 and bmi <29:\n",
    "    print(\"overweight\")\n",
    "\n",
    "elif bmi > 18.5 and bmi < 25:\n",
    "    print(\"normal\")\n",
    "\n",
    "elif bmi < 18.5:\n",
    "    print(\"underweight\")"
   ]
  },
  {
   "cell_type": "markdown",
   "id": "b57f71fc-f05c-4120-9f3d-346329fe4405",
   "metadata": {},
   "source": [
    "_2.List of cities per country_"
   ]
  },
  {
   "cell_type": "code",
   "execution_count": 9,
   "id": "782dbf27-05e0-4285-b67e-2f6af49264f9",
   "metadata": {},
   "outputs": [],
   "source": [
    " india = [\"Mumbai\", \"Bangalore\", \"Chennai\", \"Delhi\"]\n",
    " usa = [\"New York\",\"Chicago\",\"Las Vegas\", \"San Francisco\"]\n",
    " uk = [\"London\", \"Manchester\", \"Liverpool\", \"Nottingham\"]"
   ]
  },
  {
   "cell_type": "code",
   "execution_count": 16,
   "id": "51f7b131-04ba-424b-a27d-a9fda31fb038",
   "metadata": {},
   "outputs": [
    {
     "name": "stdin",
     "output_type": "stream",
     "text": [
      "enter city name: trichy\n"
     ]
    },
    {
     "name": "stdout",
     "output_type": "stream",
     "text": [
      "unknown city\n"
     ]
    }
   ],
   "source": [
    "city = input(\"enter city name:\")\n",
    "if city in india:\n",
    "   print(f\"{city} belongs to india\")\n",
    "    \n",
    "elif city in usa:\n",
    "   print (f\"{city} belongs to usa\")\n",
    "    \n",
    "elif city in uk:\n",
    "   print (f\"{city} belongs to uk\")\n",
    "\n",
    "else:\n",
    "   print (\"unknown city\")"
   ]
  },
  {
   "cell_type": "code",
   "execution_count": 23,
   "id": "47c5563e-124a-4291-bd52-53659e7e65aa",
   "metadata": {},
   "outputs": [
    {
     "name": "stdin",
     "output_type": "stream",
     "text": [
      "enter city name New York\n",
      "enter another city Las Vegas\n"
     ]
    },
    {
     "name": "stdout",
     "output_type": "stream",
     "text": [
      "both cities belongs to usa\n"
     ]
    }
   ],
   "source": [
    "city1 = input(\"enter city name\")\n",
    "city2 = input(\"enter another city\")\n",
    "\n",
    "if city1 in india and city2 in india:\n",
    "    print(\"both cities belongs to india\")\n",
    "\n",
    "elif city1 in usa and city2 in usa:\n",
    "    print(\"both cities belongs to usa\")\n",
    "\n",
    "elif city1 in uk and city2 in uk:\n",
    "    print(\"both cities belongs to uk\")\n",
    "\n",
    "else:\n",
    "    print(\"They don't belong to the same country\")"
   ]
  },
  {
   "cell_type": "code",
   "execution_count": null,
   "id": "3bc12612-dd28-40aa-95b9-e11b8a2868f3",
   "metadata": {},
   "outputs": [],
   "source": []
  }
 ],
 "metadata": {
  "kernelspec": {
   "display_name": "Python 3 (ipykernel)",
   "language": "python",
   "name": "python3"
  },
  "language_info": {
   "codemirror_mode": {
    "name": "ipython",
    "version": 3
   },
   "file_extension": ".py",
   "mimetype": "text/x-python",
   "name": "python",
   "nbconvert_exporter": "python",
   "pygments_lexer": "ipython3",
   "version": "3.8.10"
  }
 },
 "nbformat": 4,
 "nbformat_minor": 5
}

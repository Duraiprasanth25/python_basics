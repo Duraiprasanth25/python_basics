{
 "cells": [
  {
   "cell_type": "code",
   "execution_count": 42,
   "id": "317a0aaa-b0e2-40a8-8588-18a64b43111c",
   "metadata": {},
   "outputs": [],
   "source": [
    "import pandas as pd"
   ]
  },
  {
   "cell_type": "code",
   "execution_count": 43,
   "id": "47ce79a8-3170-416f-bfac-849d3d8be1db",
   "metadata": {},
   "outputs": [
    {
     "data": {
      "text/html": [
       "<div>\n",
       "<style scoped>\n",
       "    .dataframe tbody tr th:only-of-type {\n",
       "        vertical-align: middle;\n",
       "    }\n",
       "\n",
       "    .dataframe tbody tr th {\n",
       "        vertical-align: top;\n",
       "    }\n",
       "\n",
       "    .dataframe thead th {\n",
       "        text-align: right;\n",
       "    }\n",
       "</style>\n",
       "<table border=\"1\" class=\"dataframe\">\n",
       "  <thead>\n",
       "    <tr style=\"text-align: right;\">\n",
       "      <th></th>\n",
       "      <th>players</th>\n",
       "      <th>scores</th>\n",
       "    </tr>\n",
       "  </thead>\n",
       "  <tbody>\n",
       "    <tr>\n",
       "      <th>0</th>\n",
       "      <td>rohit</td>\n",
       "      <td>9</td>\n",
       "    </tr>\n",
       "    <tr>\n",
       "      <th>1</th>\n",
       "      <td>shakib</td>\n",
       "      <td>56</td>\n",
       "    </tr>\n",
       "    <tr>\n",
       "      <th>2</th>\n",
       "      <td>babar</td>\n",
       "      <td>56</td>\n",
       "    </tr>\n",
       "    <tr>\n",
       "      <th>3</th>\n",
       "      <td>rohit</td>\n",
       "      <td>120</td>\n",
       "    </tr>\n",
       "    <tr>\n",
       "      <th>4</th>\n",
       "      <td>rohit</td>\n",
       "      <td>105</td>\n",
       "    </tr>\n",
       "  </tbody>\n",
       "</table>\n",
       "</div>"
      ],
      "text/plain": [
       "  players  scores\n",
       "0   rohit       9\n",
       "1  shakib      56\n",
       "2   babar      56\n",
       "3   rohit     120\n",
       "4   rohit     105"
      ]
     },
     "execution_count": 43,
     "metadata": {},
     "output_type": "execute_result"
    }
   ],
   "source": [
    "df = pd.read_csv('scores.csv', names= ['players', 'scores'])\n",
    "df.head(5)"
   ]
  },
  {
   "cell_type": "code",
   "execution_count": 44,
   "id": "4e9b71d7-6333-4739-81b4-c6c40f705b99",
   "metadata": {},
   "outputs": [
    {
     "data": {
      "text/plain": [
       "<pandas.core.groupby.generic.DataFrameGroupBy object at 0x000001EEC75EA4C0>"
      ]
     },
     "execution_count": 44,
     "metadata": {},
     "output_type": "execute_result"
    }
   ],
   "source": [
    "g = df.groupby('players')\n",
    "g"
   ]
  },
  {
   "cell_type": "code",
   "execution_count": 45,
   "id": "f5b6015b-f564-4c61-8ab9-040f43f6207b",
   "metadata": {},
   "outputs": [
    {
     "name": "stdout",
     "output_type": "stream",
     "text": [
      "babar ==> Min: 5 Max: 120 Avg: 58.6\n",
      "rohit ==> Min: 9 Max: 140 Avg: 100.8\n",
      "shakib ==> Min: 56 Max: 102 Avg: 77.0\n"
     ]
    }
   ],
   "source": [
    "for player, df_player in g:\n",
    "    print (player, \"==>\", \"Min:\",df_player.scores.min(),\n",
    "                          \"Max:\",df_player.scores.max(),\n",
    "                          \"Avg:\",df_player.scores.mean())"
   ]
  },
  {
   "cell_type": "code",
   "execution_count": 46,
   "id": "cf5b6917-9f2c-4b2b-823c-ea73735a4bdc",
   "metadata": {},
   "outputs": [
    {
     "data": {
      "text/plain": [
       "['_DataFrameGroupBy__examples_dataframe_doc',\n",
       " '__annotations__',\n",
       " '__class__',\n",
       " '__class_getitem__',\n",
       " '__delattr__',\n",
       " '__dict__',\n",
       " '__dir__',\n",
       " '__doc__',\n",
       " '__eq__',\n",
       " '__format__',\n",
       " '__ge__',\n",
       " '__getattr__',\n",
       " '__getattribute__',\n",
       " '__getitem__',\n",
       " '__gt__',\n",
       " '__hash__',\n",
       " '__init__',\n",
       " '__init_subclass__',\n",
       " '__iter__',\n",
       " '__le__',\n",
       " '__len__',\n",
       " '__lt__',\n",
       " '__module__',\n",
       " '__ne__',\n",
       " '__new__',\n",
       " '__orig_bases__',\n",
       " '__parameters__',\n",
       " '__reduce__',\n",
       " '__reduce_ex__',\n",
       " '__repr__',\n",
       " '__setattr__',\n",
       " '__sizeof__',\n",
       " '__slots__',\n",
       " '__str__',\n",
       " '__subclasshook__',\n",
       " '__weakref__',\n",
       " '_accessors',\n",
       " '_agg_examples_doc',\n",
       " '_agg_general',\n",
       " '_agg_py_fallback',\n",
       " '_aggregate_frame',\n",
       " '_aggregate_with_numba',\n",
       " '_apply_filter',\n",
       " '_apply_to_column_groupbys',\n",
       " '_ascending_count',\n",
       " '_bool_agg',\n",
       " '_cache',\n",
       " '_choose_path',\n",
       " '_concat_objects',\n",
       " '_constructor',\n",
       " '_cumcount_array',\n",
       " '_cython_agg_general',\n",
       " '_cython_transform',\n",
       " '_define_paths',\n",
       " '_descending_count',\n",
       " '_dir_additions',\n",
       " '_dir_deletions',\n",
       " '_fill',\n",
       " '_get_cythonized_result',\n",
       " '_get_data_to_aggregate',\n",
       " '_get_index',\n",
       " '_get_indices',\n",
       " '_gotitem',\n",
       " '_hidden_attrs',\n",
       " '_indexed_output_to_ndframe',\n",
       " '_insert_inaxis_grouper',\n",
       " '_internal_names',\n",
       " '_internal_names_set',\n",
       " '_is_protocol',\n",
       " '_iterate_column_groupbys',\n",
       " '_iterate_slices',\n",
       " '_make_mask_from_int',\n",
       " '_make_mask_from_list',\n",
       " '_make_mask_from_positional_indexer',\n",
       " '_make_mask_from_slice',\n",
       " '_make_mask_from_tuple',\n",
       " '_mask_selected_obj',\n",
       " '_maybe_transpose_result',\n",
       " '_nth',\n",
       " '_numba_agg_general',\n",
       " '_numba_prep',\n",
       " '_obj_1d_constructor',\n",
       " '_obj_with_exclusions',\n",
       " '_op_via_apply',\n",
       " '_positional_selector',\n",
       " '_python_agg_general',\n",
       " '_python_apply_general',\n",
       " '_reindex_output',\n",
       " '_reset_cache',\n",
       " '_selected_obj',\n",
       " '_selection',\n",
       " '_selection_list',\n",
       " '_set_result_index_ordered',\n",
       " '_transform',\n",
       " '_transform_general',\n",
       " '_transform_with_numba',\n",
       " '_value_counts',\n",
       " '_wrap_agged_manager',\n",
       " '_wrap_aggregated_output',\n",
       " '_wrap_applied_output',\n",
       " '_wrap_applied_output_series',\n",
       " '_wrap_transform_fast_result',\n",
       " 'agg',\n",
       " 'aggregate',\n",
       " 'all',\n",
       " 'any',\n",
       " 'apply',\n",
       " 'bfill',\n",
       " 'boxplot',\n",
       " 'corr',\n",
       " 'corrwith',\n",
       " 'count',\n",
       " 'cov',\n",
       " 'cumcount',\n",
       " 'cummax',\n",
       " 'cummin',\n",
       " 'cumprod',\n",
       " 'cumsum',\n",
       " 'describe',\n",
       " 'diff',\n",
       " 'dtypes',\n",
       " 'ewm',\n",
       " 'expanding',\n",
       " 'ffill',\n",
       " 'fillna',\n",
       " 'filter',\n",
       " 'first',\n",
       " 'get_group',\n",
       " 'groups',\n",
       " 'head',\n",
       " 'hist',\n",
       " 'idxmax',\n",
       " 'idxmin',\n",
       " 'indices',\n",
       " 'last',\n",
       " 'max',\n",
       " 'mean',\n",
       " 'median',\n",
       " 'min',\n",
       " 'ndim',\n",
       " 'ngroup',\n",
       " 'ngroups',\n",
       " 'nth',\n",
       " 'nunique',\n",
       " 'ohlc',\n",
       " 'pct_change',\n",
       " 'pipe',\n",
       " 'players',\n",
       " 'plot',\n",
       " 'prod',\n",
       " 'quantile',\n",
       " 'rank',\n",
       " 'resample',\n",
       " 'rolling',\n",
       " 'sample',\n",
       " 'scores',\n",
       " 'sem',\n",
       " 'shift',\n",
       " 'size',\n",
       " 'skew',\n",
       " 'std',\n",
       " 'sum',\n",
       " 'tail',\n",
       " 'take',\n",
       " 'transform',\n",
       " 'value_counts',\n",
       " 'var']"
      ]
     },
     "execution_count": 46,
     "metadata": {},
     "output_type": "execute_result"
    }
   ],
   "source": [
    "dir(g)"
   ]
  },
  {
   "cell_type": "code",
   "execution_count": 47,
   "id": "d35e13de-3669-4644-b21b-cb25ec6941fc",
   "metadata": {},
   "outputs": [
    {
     "data": {
      "text/plain": [
       "players\n",
       "babar     5\n",
       "rohit     5\n",
       "shakib    4\n",
       "dtype: int64"
      ]
     },
     "execution_count": 47,
     "metadata": {},
     "output_type": "execute_result"
    }
   ],
   "source": [
    "g.size()"
   ]
  },
  {
   "cell_type": "code",
   "execution_count": 48,
   "id": "913e5a17-e13f-4e10-aa02-b9b3d54daa85",
   "metadata": {},
   "outputs": [
    {
     "data": {
      "text/html": [
       "<div>\n",
       "<style scoped>\n",
       "    .dataframe tbody tr th:only-of-type {\n",
       "        vertical-align: middle;\n",
       "    }\n",
       "\n",
       "    .dataframe tbody tr th {\n",
       "        vertical-align: top;\n",
       "    }\n",
       "\n",
       "    .dataframe thead th {\n",
       "        text-align: right;\n",
       "    }\n",
       "</style>\n",
       "<table border=\"1\" class=\"dataframe\">\n",
       "  <thead>\n",
       "    <tr style=\"text-align: right;\">\n",
       "      <th></th>\n",
       "      <th>players</th>\n",
       "      <th>scores</th>\n",
       "    </tr>\n",
       "  </thead>\n",
       "  <tbody>\n",
       "    <tr>\n",
       "      <th>7</th>\n",
       "      <td>babar</td>\n",
       "      <td>45</td>\n",
       "    </tr>\n",
       "    <tr>\n",
       "      <th>0</th>\n",
       "      <td>rohit</td>\n",
       "      <td>9</td>\n",
       "    </tr>\n",
       "    <tr>\n",
       "      <th>1</th>\n",
       "      <td>shakib</td>\n",
       "      <td>56</td>\n",
       "    </tr>\n",
       "  </tbody>\n",
       "</table>\n",
       "</div>"
      ],
      "text/plain": [
       "  players  scores\n",
       "7   babar      45\n",
       "0   rohit       9\n",
       "1  shakib      56"
      ]
     },
     "execution_count": 48,
     "metadata": {},
     "output_type": "execute_result"
    }
   ],
   "source": [
    "g.sample()"
   ]
  },
  {
   "cell_type": "code",
   "execution_count": 49,
   "id": "8bf84d58-395c-4028-bfc3-3b34741e7a96",
   "metadata": {},
   "outputs": [
    {
     "data": {
      "text/plain": [
       "players  scores\n",
       "babar    5         1\n",
       "         45        1\n",
       "         56        1\n",
       "         67        1\n",
       "         120       1\n",
       "rohit    9         1\n",
       "         105       1\n",
       "         120       1\n",
       "         130       1\n",
       "         140       1\n",
       "shakib   56        1\n",
       "         72        1\n",
       "         78        1\n",
       "         102       1\n",
       "Name: count, dtype: int64"
      ]
     },
     "execution_count": 49,
     "metadata": {},
     "output_type": "execute_result"
    }
   ],
   "source": [
    "g.value_counts()"
   ]
  },
  {
   "cell_type": "code",
   "execution_count": 50,
   "id": "d39b3a50-8d2e-439d-ab42-a858505c51c6",
   "metadata": {},
   "outputs": [
    {
     "data": {
      "text/html": [
       "<div>\n",
       "<style scoped>\n",
       "    .dataframe tbody tr th:only-of-type {\n",
       "        vertical-align: middle;\n",
       "    }\n",
       "\n",
       "    .dataframe tbody tr th {\n",
       "        vertical-align: top;\n",
       "    }\n",
       "\n",
       "    .dataframe thead th {\n",
       "        text-align: right;\n",
       "    }\n",
       "</style>\n",
       "<table border=\"1\" class=\"dataframe\">\n",
       "  <thead>\n",
       "    <tr style=\"text-align: right;\">\n",
       "      <th></th>\n",
       "      <th>scores</th>\n",
       "    </tr>\n",
       "    <tr>\n",
       "      <th>players</th>\n",
       "      <th></th>\n",
       "    </tr>\n",
       "  </thead>\n",
       "  <tbody>\n",
       "    <tr>\n",
       "      <th>babar</th>\n",
       "      <td>True</td>\n",
       "    </tr>\n",
       "    <tr>\n",
       "      <th>rohit</th>\n",
       "      <td>True</td>\n",
       "    </tr>\n",
       "    <tr>\n",
       "      <th>shakib</th>\n",
       "      <td>True</td>\n",
       "    </tr>\n",
       "  </tbody>\n",
       "</table>\n",
       "</div>"
      ],
      "text/plain": [
       "         scores\n",
       "players        \n",
       "babar      True\n",
       "rohit      True\n",
       "shakib     True"
      ]
     },
     "execution_count": 50,
     "metadata": {},
     "output_type": "execute_result"
    }
   ],
   "source": [
    "g.any()"
   ]
  },
  {
   "cell_type": "code",
   "execution_count": 51,
   "id": "2243256c-74c4-4daf-abd2-6ac3a899c1b3",
   "metadata": {},
   "outputs": [
    {
     "data": {
      "text/html": [
       "<div>\n",
       "<style scoped>\n",
       "    .dataframe tbody tr th:only-of-type {\n",
       "        vertical-align: middle;\n",
       "    }\n",
       "\n",
       "    .dataframe tbody tr th {\n",
       "        vertical-align: top;\n",
       "    }\n",
       "\n",
       "    .dataframe thead tr th {\n",
       "        text-align: left;\n",
       "    }\n",
       "\n",
       "    .dataframe thead tr:last-of-type th {\n",
       "        text-align: right;\n",
       "    }\n",
       "</style>\n",
       "<table border=\"1\" class=\"dataframe\">\n",
       "  <thead>\n",
       "    <tr>\n",
       "      <th></th>\n",
       "      <th colspan=\"8\" halign=\"left\">scores</th>\n",
       "    </tr>\n",
       "    <tr>\n",
       "      <th></th>\n",
       "      <th>count</th>\n",
       "      <th>mean</th>\n",
       "      <th>std</th>\n",
       "      <th>min</th>\n",
       "      <th>25%</th>\n",
       "      <th>50%</th>\n",
       "      <th>75%</th>\n",
       "      <th>max</th>\n",
       "    </tr>\n",
       "    <tr>\n",
       "      <th>players</th>\n",
       "      <th></th>\n",
       "      <th></th>\n",
       "      <th></th>\n",
       "      <th></th>\n",
       "      <th></th>\n",
       "      <th></th>\n",
       "      <th></th>\n",
       "      <th></th>\n",
       "    </tr>\n",
       "  </thead>\n",
       "  <tbody>\n",
       "    <tr>\n",
       "      <th>babar</th>\n",
       "      <td>5.0</td>\n",
       "      <td>58.6</td>\n",
       "      <td>41.548767</td>\n",
       "      <td>5.0</td>\n",
       "      <td>45.0</td>\n",
       "      <td>56.0</td>\n",
       "      <td>67.0</td>\n",
       "      <td>120.0</td>\n",
       "    </tr>\n",
       "    <tr>\n",
       "      <th>rohit</th>\n",
       "      <td>5.0</td>\n",
       "      <td>100.8</td>\n",
       "      <td>52.921640</td>\n",
       "      <td>9.0</td>\n",
       "      <td>105.0</td>\n",
       "      <td>120.0</td>\n",
       "      <td>130.0</td>\n",
       "      <td>140.0</td>\n",
       "    </tr>\n",
       "    <tr>\n",
       "      <th>shakib</th>\n",
       "      <td>4.0</td>\n",
       "      <td>77.0</td>\n",
       "      <td>19.078784</td>\n",
       "      <td>56.0</td>\n",
       "      <td>68.0</td>\n",
       "      <td>75.0</td>\n",
       "      <td>84.0</td>\n",
       "      <td>102.0</td>\n",
       "    </tr>\n",
       "  </tbody>\n",
       "</table>\n",
       "</div>"
      ],
      "text/plain": [
       "        scores                                                    \n",
       "         count   mean        std   min    25%    50%    75%    max\n",
       "players                                                           \n",
       "babar      5.0   58.6  41.548767   5.0   45.0   56.0   67.0  120.0\n",
       "rohit      5.0  100.8  52.921640   9.0  105.0  120.0  130.0  140.0\n",
       "shakib     4.0   77.0  19.078784  56.0   68.0   75.0   84.0  102.0"
      ]
     },
     "execution_count": 51,
     "metadata": {},
     "output_type": "execute_result"
    }
   ],
   "source": [
    "g.describe()"
   ]
  },
  {
   "cell_type": "code",
   "execution_count": 52,
   "id": "cc598660-033a-4eb8-835b-0fb7732676f1",
   "metadata": {},
   "outputs": [
    {
     "data": {
      "text/html": [
       "<div>\n",
       "<style scoped>\n",
       "    .dataframe tbody tr th:only-of-type {\n",
       "        vertical-align: middle;\n",
       "    }\n",
       "\n",
       "    .dataframe tbody tr th {\n",
       "        vertical-align: top;\n",
       "    }\n",
       "\n",
       "    .dataframe thead th {\n",
       "        text-align: right;\n",
       "    }\n",
       "</style>\n",
       "<table border=\"1\" class=\"dataframe\">\n",
       "  <thead>\n",
       "    <tr style=\"text-align: right;\">\n",
       "      <th></th>\n",
       "      <th>scores</th>\n",
       "    </tr>\n",
       "    <tr>\n",
       "      <th>players</th>\n",
       "      <th></th>\n",
       "    </tr>\n",
       "  </thead>\n",
       "  <tbody>\n",
       "    <tr>\n",
       "      <th>babar</th>\n",
       "      <td>0.438851</td>\n",
       "    </tr>\n",
       "    <tr>\n",
       "      <th>rohit</th>\n",
       "      <td>-1.915357</td>\n",
       "    </tr>\n",
       "    <tr>\n",
       "      <th>shakib</th>\n",
       "      <td>0.599020</td>\n",
       "    </tr>\n",
       "  </tbody>\n",
       "</table>\n",
       "</div>"
      ],
      "text/plain": [
       "           scores\n",
       "players          \n",
       "babar    0.438851\n",
       "rohit   -1.915357\n",
       "shakib   0.599020"
      ]
     },
     "execution_count": 52,
     "metadata": {},
     "output_type": "execute_result"
    }
   ],
   "source": [
    "g.skew()"
   ]
  },
  {
   "cell_type": "code",
   "execution_count": 53,
   "id": "9ac83b23-d034-4a75-bd1b-bcad44f8a036",
   "metadata": {},
   "outputs": [],
   "source": [
    "g= df.head(4)"
   ]
  },
  {
   "cell_type": "code",
   "execution_count": null,
   "id": "ffcdc487-e701-48c8-9829-d1ea5263b70d",
   "metadata": {},
   "outputs": [],
   "source": []
  }
 ],
 "metadata": {
  "kernelspec": {
   "display_name": "Python 3 (ipykernel)",
   "language": "python",
   "name": "python3"
  },
  "language_info": {
   "codemirror_mode": {
    "name": "ipython",
    "version": 3
   },
   "file_extension": ".py",
   "mimetype": "text/x-python",
   "name": "python",
   "nbconvert_exporter": "python",
   "pygments_lexer": "ipython3",
   "version": "3.8.10"
  }
 },
 "nbformat": 4,
 "nbformat_minor": 5
}

{
 "cells": [
  {
   "cell_type": "code",
   "execution_count": 23,
   "id": "28729190-8e25-41de-9207-ddd1d065ccfa",
   "metadata": {},
   "outputs": [],
   "source": [
    "from collections import deque\n",
    "stk = deque()"
   ]
  },
  {
   "cell_type": "code",
   "execution_count": 40,
   "id": "89f24c8b-789d-465b-ae8e-1d15ac206a6e",
   "metadata": {},
   "outputs": [],
   "source": [
    "class Stack:\n",
    "    def __init__(self):\n",
    "        self.stack = deque()\n",
    "\n",
    "    def push (self,val):\n",
    "        self.stack.append(val)\n",
    "\n",
    "    def pop(self):\n",
    "        return self.stack.pop()\n",
    "\n",
    "    def peek(self):\n",
    "        return self.stack[-1]\n",
    "\n",
    "    def is_empty(self):\n",
    "        return len(self.stack) == 0\n",
    "\n",
    "    def size(self):\n",
    "        return len(self.stack)\n",
    "\n",
    "    def reverse_string(s):\n",
    "        stack = Stack()\n",
    "\n",
    "        for ch in s:\n",
    "            stack.push(ch)\n",
    "\n",
    "        rstr = \"\"\n",
    "        while stack.size()!=0:\n",
    "            rstr += stack.pop()\n",
    "        return rstr\n",
    "\n",
    "    def is_balanced(s):\n",
    "        stack = Stack()\n",
    "        mapping = {')': '(', '}': '{', ']': '['}\n",
    "        \n",
    "        for ch in s:\n",
    "            if ch == '(' or ch == '{' or ch == '[':\n",
    "                stack.push(ch)\n",
    "            if ch == ')' or ch == '}' or ch == ']':\n",
    "                if stack.size() == 0:\n",
    "                    return False\n",
    "                if not is_balanced(ch, stack.pop()):\n",
    "                    return False\n",
    "                \n",
    "        return stack.size() == 0"
   ]
  },
  {
   "cell_type": "code",
   "execution_count": 41,
   "id": "bc45d7ba-8d13-4f05-a695-d04cd32ddbe9",
   "metadata": {},
   "outputs": [],
   "source": [
    "s = Stack()\n",
    "s.push(5)\n",
    "s.push(4)\n",
    "s.push('sk')"
   ]
  },
  {
   "cell_type": "code",
   "execution_count": 42,
   "id": "7d753e8a-e547-4760-a706-ae77ec391966",
   "metadata": {},
   "outputs": [
    {
     "data": {
      "text/plain": [
       "'sk'"
      ]
     },
     "execution_count": 42,
     "metadata": {},
     "output_type": "execute_result"
    }
   ],
   "source": [
    "s.peek()"
   ]
  },
  {
   "cell_type": "code",
   "execution_count": 43,
   "id": "08f33388-9e17-4346-a9a7-19158fdd4301",
   "metadata": {},
   "outputs": [
    {
     "data": {
      "text/plain": [
       "'sk'"
      ]
     },
     "execution_count": 43,
     "metadata": {},
     "output_type": "execute_result"
    }
   ],
   "source": [
    "s.peek()"
   ]
  },
  {
   "cell_type": "code",
   "execution_count": 44,
   "id": "cc55a7ca-799f-40b9-93b5-54a2355b9e00",
   "metadata": {},
   "outputs": [
    {
     "data": {
      "text/plain": [
       "'sk'"
      ]
     },
     "execution_count": 44,
     "metadata": {},
     "output_type": "execute_result"
    }
   ],
   "source": [
    "s.pop()"
   ]
  },
  {
   "cell_type": "code",
   "execution_count": 45,
   "id": "f598c283-70eb-4776-afd2-ae9cb7f757e8",
   "metadata": {},
   "outputs": [
    {
     "data": {
      "text/plain": [
       "4"
      ]
     },
     "execution_count": 45,
     "metadata": {},
     "output_type": "execute_result"
    }
   ],
   "source": [
    "s.peek()"
   ]
  },
  {
   "cell_type": "code",
   "execution_count": 46,
   "id": "d1f61342-b4ca-490b-8783-e0d7bded80a6",
   "metadata": {},
   "outputs": [
    {
     "data": {
      "text/plain": [
       "4"
      ]
     },
     "execution_count": 46,
     "metadata": {},
     "output_type": "execute_result"
    }
   ],
   "source": [
    "s.pop()"
   ]
  },
  {
   "cell_type": "code",
   "execution_count": 47,
   "id": "c3afe081-0ca1-432c-99e1-88c15a77f1c8",
   "metadata": {},
   "outputs": [
    {
     "data": {
      "text/plain": [
       "5"
      ]
     },
     "execution_count": 47,
     "metadata": {},
     "output_type": "execute_result"
    }
   ],
   "source": [
    "s.pop()"
   ]
  },
  {
   "cell_type": "code",
   "execution_count": 48,
   "id": "3804ff35-7231-4cb5-ab27-797aff583a84",
   "metadata": {},
   "outputs": [
    {
     "ename": "IndexError",
     "evalue": "pop from an empty deque",
     "output_type": "error",
     "traceback": [
      "\u001b[1;31m---------------------------------------------------------------------------\u001b[0m",
      "\u001b[1;31mIndexError\u001b[0m                                Traceback (most recent call last)",
      "Cell \u001b[1;32mIn[48], line 1\u001b[0m\n\u001b[1;32m----> 1\u001b[0m \u001b[43ms\u001b[49m\u001b[38;5;241;43m.\u001b[39;49m\u001b[43mpop\u001b[49m\u001b[43m(\u001b[49m\u001b[43m)\u001b[49m\n",
      "Cell \u001b[1;32mIn[40], line 9\u001b[0m, in \u001b[0;36mStack.pop\u001b[1;34m(self)\u001b[0m\n\u001b[0;32m      8\u001b[0m \u001b[38;5;28;01mdef\u001b[39;00m \u001b[38;5;21mpop\u001b[39m(\u001b[38;5;28mself\u001b[39m):\n\u001b[1;32m----> 9\u001b[0m     \u001b[38;5;28;01mreturn\u001b[39;00m \u001b[38;5;28;43mself\u001b[39;49m\u001b[38;5;241;43m.\u001b[39;49m\u001b[43mstack\u001b[49m\u001b[38;5;241;43m.\u001b[39;49m\u001b[43mpop\u001b[49m\u001b[43m(\u001b[49m\u001b[43m)\u001b[49m\n",
      "\u001b[1;31mIndexError\u001b[0m: pop from an empty deque"
     ]
    }
   ],
   "source": [
    "s.pop()"
   ]
  },
  {
   "cell_type": "code",
   "execution_count": 49,
   "id": "2cd8b54c-d835-4daf-87b3-25e1d2f6baff",
   "metadata": {},
   "outputs": [
    {
     "data": {
      "text/plain": [
       "True"
      ]
     },
     "execution_count": 49,
     "metadata": {},
     "output_type": "execute_result"
    }
   ],
   "source": [
    "s.is_empty()"
   ]
  },
  {
   "cell_type": "code",
   "execution_count": 50,
   "id": "2be20069-3c9b-407e-bd92-6782859aa5b9",
   "metadata": {},
   "outputs": [],
   "source": [
    "s.push(1)\n",
    "s.push(10)\n",
    "s.push(100)\n",
    "s.push(1000)"
   ]
  },
  {
   "cell_type": "code",
   "execution_count": 51,
   "id": "571576db-81e9-444c-b043-1ccc2049a5b3",
   "metadata": {},
   "outputs": [
    {
     "data": {
      "text/plain": [
       "4"
      ]
     },
     "execution_count": 51,
     "metadata": {},
     "output_type": "execute_result"
    }
   ],
   "source": [
    "s.size()"
   ]
  },
  {
   "cell_type": "code",
   "execution_count": 52,
   "id": "85fae54f-28a7-4466-9962-d26d93bf7992",
   "metadata": {},
   "outputs": [
    {
     "data": {
      "text/plain": [
       "1000"
      ]
     },
     "execution_count": 52,
     "metadata": {},
     "output_type": "execute_result"
    }
   ],
   "source": [
    "s.pop()"
   ]
  },
  {
   "cell_type": "code",
   "execution_count": 53,
   "id": "b09575fc-3318-4d5c-b212-3ca6a66c3b07",
   "metadata": {},
   "outputs": [
    {
     "data": {
      "text/plain": [
       "100"
      ]
     },
     "execution_count": 53,
     "metadata": {},
     "output_type": "execute_result"
    }
   ],
   "source": [
    "s.pop()"
   ]
  },
  {
   "cell_type": "code",
   "execution_count": 54,
   "id": "f9246aec-78bc-419b-8dd6-c10204d6c96e",
   "metadata": {},
   "outputs": [
    {
     "name": "stdout",
     "output_type": "stream",
     "text": [
      "91-IVOC ereuqnoc lliw eW\n"
     ]
    }
   ],
   "source": [
    "if __name__ ==\"__main__\":\n",
    "    string = \"We will conquere COVI-19\"\n",
    "    reversed_string = string[::-1]\n",
    "    print(reversed_string)\n",
    "    "
   ]
  },
  {
   "cell_type": "raw",
   "id": "bb03c072-e85d-492f-aba3-634a58030fea",
   "metadata": {},
   "source": [
    "string = {\n",
    "is_balanced(\"({a+b})\")     --> True\n",
    "is_balanced(\"))((a+b}{\")   --> False\n",
    "is_balanced(\"((a+b))\")     --> True\n",
    "is_balanced(\"))\")          --> False\n",
    "is_balanced(\"[a+b]*(x+2y)*{gg+kk}\") --> True}"
   ]
  },
  {
   "cell_type": "code",
   "execution_count": 55,
   "id": "ee472a82-12b9-4e25-81ce-a19127d4dd4b",
   "metadata": {},
   "outputs": [
    {
     "ename": "NameError",
     "evalue": "name 'is_balanced' is not defined",
     "output_type": "error",
     "traceback": [
      "\u001b[1;31m---------------------------------------------------------------------------\u001b[0m",
      "\u001b[1;31mNameError\u001b[0m                                 Traceback (most recent call last)",
      "Cell \u001b[1;32mIn[55], line 2\u001b[0m\n\u001b[0;32m      1\u001b[0m \u001b[38;5;28;01mif\u001b[39;00m \u001b[38;5;18m__name__\u001b[39m \u001b[38;5;241m==\u001b[39m \u001b[38;5;124m'\u001b[39m\u001b[38;5;124m__main__\u001b[39m\u001b[38;5;124m'\u001b[39m:\n\u001b[1;32m----> 2\u001b[0m     \u001b[38;5;28mprint\u001b[39m(\u001b[43mis_balanced\u001b[49m(\u001b[38;5;124m\"\u001b[39m\u001b[38;5;124m(\u001b[39m\u001b[38;5;124m{\u001b[39m\u001b[38;5;124ma+b})\u001b[39m\u001b[38;5;124m\"\u001b[39m))\n\u001b[0;32m      3\u001b[0m     \u001b[38;5;28mprint\u001b[39m(is_balanced(\u001b[38;5;124m\"\u001b[39m\u001b[38;5;124m))((a+b}\u001b[39m\u001b[38;5;124m{\u001b[39m\u001b[38;5;124m\"\u001b[39m))\n\u001b[0;32m      4\u001b[0m     \u001b[38;5;28mprint\u001b[39m(is_balanced(\u001b[38;5;124m\"\u001b[39m\u001b[38;5;124m((a+b))\u001b[39m\u001b[38;5;124m\"\u001b[39m))\n",
      "\u001b[1;31mNameError\u001b[0m: name 'is_balanced' is not defined"
     ]
    }
   ],
   "source": [
    "if __name__ == '__main__':\n",
    "    print(is_balanced(\"({a+b})\"))\n",
    "    print(is_balanced(\"))((a+b}{\"))\n",
    "    print(is_balanced(\"((a+b))\"))\n",
    "    print(is_balanced(\"((a+g))\"))\n",
    "    print(is_balanced(\"))\"))\n",
    "    print(is_balanced(\"[a+b]*(x+2y)*{gg+kk}\"))"
   ]
  },
  {
   "cell_type": "code",
   "execution_count": null,
   "id": "a9cf4944-2702-4516-a207-402441026eef",
   "metadata": {},
   "outputs": [],
   "source": []
  }
 ],
 "metadata": {
  "kernelspec": {
   "display_name": "Python 3 (ipykernel)",
   "language": "python",
   "name": "python3"
  },
  "language_info": {
   "codemirror_mode": {
    "name": "ipython",
    "version": 3
   },
   "file_extension": ".py",
   "mimetype": "text/x-python",
   "name": "python",
   "nbconvert_exporter": "python",
   "pygments_lexer": "ipython3",
   "version": "3.8.10"
  }
 },
 "nbformat": 4,
 "nbformat_minor": 5
}

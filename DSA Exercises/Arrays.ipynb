{
 "cells": [
  {
   "cell_type": "raw",
   "id": "a02c141b-8071-4274-91fb-c5355924969a",
   "metadata": {},
   "source": [
    "Let us say your expense for every month are listed below,\n",
    "January - 2200\n",
    "February - 2350\n",
    "March - 2600\n",
    "April - 2130\n",
    "May - 2190\n",
    "Create a list to store these monthly expenses and using that find out,\n",
    "\n",
    "1. In Feb, how many dollars you spent extra compare to January?\n",
    "2. Find out your total expense in first quarter (first three months) of the year.\n",
    "3. Find out if you spent exactly 2000 dollars in any month\n",
    "4. June month just finished and your expense is 1980 dollar. Add this item to our monthly expense list\n",
    "5. You returned an item that you bought in a month of April and\n",
    "got a refund of 200$. Make a correction to your monthly expense list\n",
    "based on this"
   ]
  },
  {
   "cell_type": "code",
   "execution_count": 38,
   "id": "deeb5c1f-de4b-4c94-a2b4-137988da7368",
   "metadata": {},
   "outputs": [],
   "source": [
    "exp = [2200,2350, 2600,2130,2190]"
   ]
  },
  {
   "cell_type": "code",
   "execution_count": 39,
   "id": "9b051353-12aa-4bb1-acc5-4a4885171d04",
   "metadata": {},
   "outputs": [
    {
     "name": "stdout",
     "output_type": "stream",
     "text": [
      "Dollars spent in February more than january: 150\n"
     ]
    }
   ],
   "source": [
    "#1\n",
    "print (\"Dollars spent in February more than january:\", exp[1]-exp[0])\n",
    "\n"
   ]
  },
  {
   "cell_type": "code",
   "execution_count": 41,
   "id": "2a307980-f8b7-4918-baed-90b1c620dce5",
   "metadata": {},
   "outputs": [
    {
     "name": "stdout",
     "output_type": "stream",
     "text": [
      "Expense for the first quarter of 2024 is 7150\n"
     ]
    }
   ],
   "source": [
    "#2\n",
    "print (\"Expense for the first quarter of 2024 is\", exp[0]+exp[1]+exp[2])"
   ]
  },
  {
   "cell_type": "code",
   "execution_count": 49,
   "id": "2e902c12-df5e-4988-95f6-5d6ee025c0da",
   "metadata": {},
   "outputs": [
    {
     "name": "stdout",
     "output_type": "stream",
     "text": [
      "Did I spent exactly 2000 dollars any month ? False\n"
     ]
    }
   ],
   "source": [
    "#3\n",
    "print ( \"Did I spent exactly 2000 dollars any month ?\", 2000 in exp )\n"
   ]
  },
  {
   "cell_type": "code",
   "execution_count": 57,
   "id": "d1318c11-e1f8-4944-bdbb-3ad9ad9cd5bb",
   "metadata": {},
   "outputs": [
    {
     "name": "stdout",
     "output_type": "stream",
     "text": [
      "Expenses at the month of june [2200, 2350, 2600, 2130, 2190, 1980]\n"
     ]
    }
   ],
   "source": [
    "#4\n",
    "exp = [2200,2350,2600,2130,2190]\n",
    "exp.append(1980)\n",
    "print (\"Expenses at the month of june\", exp)"
   ]
  },
  {
   "cell_type": "code",
   "execution_count": 58,
   "id": "e5f3f1ff-4f92-4049-bf61-e8ef8588e2da",
   "metadata": {},
   "outputs": [
    {
     "name": "stdout",
     "output_type": "stream",
     "text": [
      "Expenses after 200$ return in April [2200, 2350, 2600, 1930, 2190, 1980]\n"
     ]
    }
   ],
   "source": [
    "#5\n",
    "exp[3] = exp[3] - 200\n",
    "print (\"Expenses after 200$ return in April\", exp)"
   ]
  },
  {
   "cell_type": "raw",
   "id": "9ddc5211-15f4-4743-8ca6-36611bc3d696",
   "metadata": {},
   "source": [
    "You have a list of your favourite marvel super heros.\n",
    "heros=['spider man','thor','hulk','iron man','captain america']\n",
    "\n",
    "Using this find out,\n",
    "\n",
    "1. Length of the list\n",
    "2. Add 'black panther' at the end of this list\n",
    "3. You realize that you need to add 'black panther' after 'hulk',\n",
    "   so remove it from the list first and then add it after 'hulk'\n",
    "4. Now you don't like thor and hulk because they get angry easily :)\n",
    "   So you want to remove thor and hulk from list and replace them with doctor strange (because he is cool).\n",
    "   Do that with one line of code.\n",
    "5. Sort the heros list in alphabetical order (Hint. Use dir() functions to list down all functions available in list)\n"
   ]
  },
  {
   "cell_type": "code",
   "execution_count": 59,
   "id": "eb73894c-3413-44ef-996d-de9313c23f16",
   "metadata": {},
   "outputs": [],
   "source": [
    "heros=['spider man','thor','hulk','iron man','captain america']"
   ]
  },
  {
   "cell_type": "code",
   "execution_count": 61,
   "id": "cbbcc4da-581e-4c6d-a17f-55aa81bfec73",
   "metadata": {},
   "outputs": [
    {
     "data": {
      "text/plain": [
       "5"
      ]
     },
     "execution_count": 61,
     "metadata": {},
     "output_type": "execute_result"
    }
   ],
   "source": [
    "#1\n",
    "len(heros)"
   ]
  },
  {
   "cell_type": "code",
   "execution_count": 63,
   "id": "421cbd8d-71b7-4631-bd5f-6642d8f4bc25",
   "metadata": {},
   "outputs": [
    {
     "data": {
      "text/plain": [
       "['spider man',\n",
       " 'thor',\n",
       " 'hulk',\n",
       " 'iron man',\n",
       " 'captain america',\n",
       " 'black panther',\n",
       " 'black panther']"
      ]
     },
     "execution_count": 63,
     "metadata": {},
     "output_type": "execute_result"
    }
   ],
   "source": [
    "#2\n",
    "heros.append('black panther')\n",
    "heros"
   ]
  },
  {
   "cell_type": "code",
   "execution_count": 66,
   "id": "ba7ecb91-3cf9-4e67-9818-6b46e7220286",
   "metadata": {},
   "outputs": [
    {
     "data": {
      "text/plain": [
       "['spider man', 'thor', 'hulk', 'iron man', 'captain america', 'black panther']"
      ]
     },
     "execution_count": 66,
     "metadata": {},
     "output_type": "execute_result"
    }
   ],
   "source": [
    "heros.append('black panther')\n",
    "heros"
   ]
  },
  {
   "cell_type": "code",
   "execution_count": 67,
   "id": "6d1efc36-65ea-40c7-ae68-e5d6693b31a4",
   "metadata": {},
   "outputs": [
    {
     "data": {
      "text/plain": [
       "['spider man', 'thor', 'hulk', 'iron man', 'captain america']"
      ]
     },
     "execution_count": 67,
     "metadata": {},
     "output_type": "execute_result"
    }
   ],
   "source": [
    "heros.remove('black panther')\n",
    "heros"
   ]
  },
  {
   "cell_type": "code",
   "execution_count": 69,
   "id": "83170efe-3cea-4226-814a-c7eb9c4ca7f5",
   "metadata": {},
   "outputs": [
    {
     "data": {
      "text/plain": [
       "['spider man', 'thor', 'hulk', 'black panther', 'iron man', 'captain america']"
      ]
     },
     "execution_count": 69,
     "metadata": {},
     "output_type": "execute_result"
    }
   ],
   "source": [
    "heros.insert(3, 'black panther')\n",
    "heros"
   ]
  },
  {
   "cell_type": "code",
   "execution_count": 71,
   "id": "19264ef7-c3d6-409b-b8bc-5a77a54e9f6e",
   "metadata": {},
   "outputs": [
    {
     "ename": "AttributeError",
     "evalue": "'list' object has no attribute 'replace'",
     "output_type": "error",
     "traceback": [
      "\u001b[1;31m---------------------------------------------------------------------------\u001b[0m",
      "\u001b[1;31mAttributeError\u001b[0m                            Traceback (most recent call last)",
      "Cell \u001b[1;32mIn[71], line 1\u001b[0m\n\u001b[1;32m----> 1\u001b[0m \u001b[43mheros\u001b[49m\u001b[38;5;241;43m.\u001b[39;49m\u001b[43mreplace\u001b[49m([\u001b[38;5;241m1\u001b[39m],[\u001b[38;5;241m2\u001b[39m], \u001b[38;5;124m'\u001b[39m\u001b[38;5;124mdoctor strange\u001b[39m\u001b[38;5;124m'\u001b[39m)\n",
      "\u001b[1;31mAttributeError\u001b[0m: 'list' object has no attribute 'replace'"
     ]
    }
   ],
   "source": [
    "heros.replace([1],[2], 'doctor strange')"
   ]
  },
  {
   "cell_type": "code",
   "execution_count": 74,
   "id": "3635cedd-a544-43c5-be31-795f165aaecb",
   "metadata": {},
   "outputs": [
    {
     "name": "stdout",
     "output_type": "stream",
     "text": [
      "['spider man', 'doctor strange', 'iron man', 'captain america']\n"
     ]
    }
   ],
   "source": [
    "heros[1:3] = ['doctor strange']\n",
    "print (heros)"
   ]
  },
  {
   "cell_type": "code",
   "execution_count": 75,
   "id": "bdbd403e-1124-42f4-9cfa-5748bdcbc4b3",
   "metadata": {},
   "outputs": [
    {
     "name": "stdout",
     "output_type": "stream",
     "text": [
      "['captain america', 'doctor strange', 'iron man', 'spider man']\n"
     ]
    }
   ],
   "source": [
    "heros.sort()\n",
    "print(heros)"
   ]
  },
  {
   "cell_type": "raw",
   "id": "85a2e79d-294f-4ec6-8d2a-fcad10d2974e",
   "metadata": {},
   "source": [
    "Create a list of all odd numbers between 1 and a max number. Max number is something you need to take from a user using input() function"
   ]
  },
  {
   "cell_type": "code",
   "execution_count": 81,
   "id": "6145dcc6-8232-41ab-ac76-2e485069e3f5",
   "metadata": {},
   "outputs": [
    {
     "name": "stdin",
     "output_type": "stream",
     "text": [
      "Enter Max Number:  100\n"
     ]
    },
    {
     "name": "stdout",
     "output_type": "stream",
     "text": [
      "dd_numbers:  [1, 3, 5, 7, 9, 11, 13, 15, 17, 19, 21, 23, 25, 27, 29, 31, 33, 35, 37, 39, 41, 43, 45, 47, 49, 51, 53, 55, 57, 59, 61, 63, 65, 67, 69, 71, 73, 75, 77, 79, 81, 83, 85, 87, 89, 91, 93, 95, 97, 99]\n"
     ]
    }
   ],
   "source": [
    "max = int(input(\"Enter Max Number: \"))\n",
    "odd_numbers = []\n",
    "\n",
    "for i in range(1, max):\n",
    "    if i % 2 == 1:\n",
    "        odd_numbers.append(i)\n",
    "\n",
    "print(\"dd_numbers: \", odd_numbers)\n",
    "        "
   ]
  }
 ],
 "metadata": {
  "kernelspec": {
   "display_name": "Python 3 (ipykernel)",
   "language": "python",
   "name": "python3"
  },
  "language_info": {
   "codemirror_mode": {
    "name": "ipython",
    "version": 3
   },
   "file_extension": ".py",
   "mimetype": "text/x-python",
   "name": "python",
   "nbconvert_exporter": "python",
   "pygments_lexer": "ipython3",
   "version": "3.8.10"
  }
 },
 "nbformat": 4,
 "nbformat_minor": 5
}

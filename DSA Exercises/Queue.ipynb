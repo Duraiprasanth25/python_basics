{
 "cells": [
  {
   "cell_type": "code",
   "execution_count": 5,
   "id": "06612b6b-9694-4c07-9dd9-3bc65bf43f4d",
   "metadata": {},
   "outputs": [],
   "source": [
    "wmt_stock_price_queue = []\n",
    "\n",
    "wmt_stock_price_queue.insert(0,131.10)\n",
    "wmt_stock_price_queue.insert(0,132.12)\n",
    "wmt_stock_price_queue.insert(0,135)"
   ]
  },
  {
   "cell_type": "code",
   "execution_count": 6,
   "id": "01abe0c1-5cb3-4541-aeb3-a3292ab908eb",
   "metadata": {},
   "outputs": [
    {
     "data": {
      "text/plain": [
       "[135, 132.12, 131.1]"
      ]
     },
     "execution_count": 6,
     "metadata": {},
     "output_type": "execute_result"
    }
   ],
   "source": [
    "wmt_stock_price_queue"
   ]
  },
  {
   "cell_type": "code",
   "execution_count": 7,
   "id": "7e7bb43a-16af-456a-a89a-3b636c62169a",
   "metadata": {},
   "outputs": [
    {
     "data": {
      "text/plain": [
       "131.1"
      ]
     },
     "execution_count": 7,
     "metadata": {},
     "output_type": "execute_result"
    }
   ],
   "source": [
    "wmt_stock_price_queue.pop()"
   ]
  },
  {
   "cell_type": "code",
   "execution_count": 8,
   "id": "1842a5af-b01d-497a-93db-76cbe97b0d1a",
   "metadata": {},
   "outputs": [
    {
     "data": {
      "text/plain": [
       "132.12"
      ]
     },
     "execution_count": 8,
     "metadata": {},
     "output_type": "execute_result"
    }
   ],
   "source": [
    "wmt_stock_price_queue.pop()"
   ]
  },
  {
   "cell_type": "code",
   "execution_count": 9,
   "id": "e0aa15f4-ad3c-4fbb-b622-8ae08ee2c387",
   "metadata": {},
   "outputs": [
    {
     "data": {
      "text/plain": [
       "135"
      ]
     },
     "execution_count": 9,
     "metadata": {},
     "output_type": "execute_result"
    }
   ],
   "source": [
    "wmt_stock_price_queue.pop()"
   ]
  },
  {
   "cell_type": "code",
   "execution_count": 10,
   "id": "87a6447c-bc88-49a8-b53e-e60dee7c4639",
   "metadata": {},
   "outputs": [
    {
     "ename": "IndexError",
     "evalue": "pop from empty list",
     "output_type": "error",
     "traceback": [
      "\u001b[1;31m---------------------------------------------------------------------------\u001b[0m",
      "\u001b[1;31mIndexError\u001b[0m                                Traceback (most recent call last)",
      "Cell \u001b[1;32mIn[10], line 1\u001b[0m\n\u001b[1;32m----> 1\u001b[0m \u001b[43mwmt_stock_price_queue\u001b[49m\u001b[38;5;241;43m.\u001b[39;49m\u001b[43mpop\u001b[49m\u001b[43m(\u001b[49m\u001b[43m)\u001b[49m\n",
      "\u001b[1;31mIndexError\u001b[0m: pop from empty list"
     ]
    }
   ],
   "source": [
    "wmt_stock_price_queue.pop()"
   ]
  },
  {
   "cell_type": "code",
   "execution_count": 11,
   "id": "43a87dc2-4829-49a5-bfe0-01eed0a10abf",
   "metadata": {},
   "outputs": [],
   "source": [
    "from collections import deque\n",
    "q = deque()"
   ]
  },
  {
   "cell_type": "code",
   "execution_count": 12,
   "id": "147b4c70-695f-46c6-baa1-33d6ac65bcf7",
   "metadata": {},
   "outputs": [],
   "source": [
    "q.appendleft(5)\n",
    "q.appendleft(7)\n",
    "q.appendleft(28)"
   ]
  },
  {
   "cell_type": "code",
   "execution_count": 14,
   "id": "54c73fc3-b6fd-4425-8480-64cf50b1572f",
   "metadata": {},
   "outputs": [
    {
     "data": {
      "text/plain": [
       "5"
      ]
     },
     "execution_count": 14,
     "metadata": {},
     "output_type": "execute_result"
    }
   ],
   "source": [
    "q.pop()"
   ]
  },
  {
   "cell_type": "code",
   "execution_count": 15,
   "id": "b8335beb-cf04-4ab9-91b7-7577a972ce56",
   "metadata": {},
   "outputs": [
    {
     "data": {
      "text/plain": [
       "7"
      ]
     },
     "execution_count": 15,
     "metadata": {},
     "output_type": "execute_result"
    }
   ],
   "source": [
    "q.pop()"
   ]
  },
  {
   "cell_type": "code",
   "execution_count": 16,
   "id": "0594c14c-756d-4d6f-8ba5-518580beef26",
   "metadata": {},
   "outputs": [
    {
     "data": {
      "text/plain": [
       "28"
      ]
     },
     "execution_count": 16,
     "metadata": {},
     "output_type": "execute_result"
    }
   ],
   "source": [
    "q.pop()"
   ]
  },
  {
   "cell_type": "code",
   "execution_count": 17,
   "id": "e769ce2e-ee44-414e-a947-316ccacbe63b",
   "metadata": {},
   "outputs": [
    {
     "ename": "IndexError",
     "evalue": "pop from an empty deque",
     "output_type": "error",
     "traceback": [
      "\u001b[1;31m---------------------------------------------------------------------------\u001b[0m",
      "\u001b[1;31mIndexError\u001b[0m                                Traceback (most recent call last)",
      "Cell \u001b[1;32mIn[17], line 1\u001b[0m\n\u001b[1;32m----> 1\u001b[0m \u001b[43mq\u001b[49m\u001b[38;5;241;43m.\u001b[39;49m\u001b[43mpop\u001b[49m\u001b[43m(\u001b[49m\u001b[43m)\u001b[49m\n",
      "\u001b[1;31mIndexError\u001b[0m: pop from an empty deque"
     ]
    }
   ],
   "source": [
    "q.pop()"
   ]
  },
  {
   "cell_type": "code",
   "execution_count": 22,
   "id": "59f59b43-89bd-4868-83bf-b5b279d85c66",
   "metadata": {},
   "outputs": [],
   "source": [
    "from collections import deque\n",
    "\n",
    "class Queue:\n",
    "    def __init__(self):\n",
    "        self.buffer = deque()\n",
    "\n",
    "    def enqueue(self, val):\n",
    "        self.buffer.appendleft(val)\n",
    "\n",
    "    def dequeue(self):\n",
    "        if self.is_empty():\n",
    "            raise IndexError(\"dequeue from an empty queue\")\n",
    "        return self.buffer.pop()\n",
    "\n",
    "    # def front(self):\n",
    "    #     if self.is_empty():\n",
    "    #         raise IndexError(\"front from an empty queue\")\n",
    "    #     return self.queue[0]\n",
    "\n",
    "    def is_empty(self):\n",
    "        return len(self.buffer) == 0\n",
    "\n",
    "    def size(self):\n",
    "        return len(self.buffer)\n"
   ]
  },
  {
   "cell_type": "code",
   "execution_count": 31,
   "id": "4eaa7e51-1ff0-44ab-ba9f-f198876ce7fb",
   "metadata": {},
   "outputs": [],
   "source": [
    "pq = Queue()\n",
    "\n",
    "pq.enqueue({\n",
    "    'company': \"Wall Mart\",\n",
    "    'timestamp': \"15 apr, 11.01 AM\",\n",
    "    'price': 131.10\n",
    "})\n",
    "pq.enqueue({\n",
    "    'company': \"Wall Mart\",\n",
    "    'timestamp': \"15 apr, 11.02 AM\",\n",
    "    'price': 132\n",
    "})\n",
    "pq.enqueue({\n",
    "    'company': \"Wall Mart\",\n",
    "    'timestamp': \"15 apr, 11.03 AM\",\n",
    "    'price': 135\n",
    "})\n",
    "\n"
   ]
  },
  {
   "cell_type": "code",
   "execution_count": 32,
   "id": "f4dc3627-3723-427f-81ba-e47a8047ed41",
   "metadata": {},
   "outputs": [
    {
     "data": {
      "text/plain": [
       "3"
      ]
     },
     "execution_count": 32,
     "metadata": {},
     "output_type": "execute_result"
    }
   ],
   "source": [
    "pq.size()"
   ]
  },
  {
   "cell_type": "code",
   "execution_count": 33,
   "id": "fd3b61a9-aa05-4b85-a5b2-b368f977c1bb",
   "metadata": {},
   "outputs": [
    {
     "data": {
      "text/plain": [
       "deque([{'company': 'Wall Mart', 'timestamp': '15 apr, 11.03 AM', 'price': 135},\n",
       "       {'company': 'Wall Mart', 'timestamp': '15 apr, 11.02 AM', 'price': 132},\n",
       "       {'company': 'Wall Mart',\n",
       "        'timestamp': '15 apr, 11.01 AM',\n",
       "        'price': 131.1}])"
      ]
     },
     "execution_count": 33,
     "metadata": {},
     "output_type": "execute_result"
    }
   ],
   "source": [
    "pq.buffer"
   ]
  },
  {
   "cell_type": "code",
   "execution_count": 34,
   "id": "2fe078bc-3a5c-4f6b-90c4-0f16c46e9378",
   "metadata": {},
   "outputs": [
    {
     "data": {
      "text/plain": [
       "{'company': 'Wall Mart', 'timestamp': '15 apr, 11.01 AM', 'price': 131.1}"
      ]
     },
     "execution_count": 34,
     "metadata": {},
     "output_type": "execute_result"
    }
   ],
   "source": [
    "pq.dequeue()"
   ]
  },
  {
   "cell_type": "code",
   "execution_count": 50,
   "id": "04a7795b-0123-417b-9cb5-d60c884dd47b",
   "metadata": {},
   "outputs": [
    {
     "name": "stdout",
     "output_type": "stream",
     "text": [
      "Placing order for: pizza\n",
      "Placing order for: samosa\n",
      "Placing order for:Now serving: pizza\n",
      " pasta\n",
      "Placing order for: biryani\n",
      "Placing order for: burger\n",
      "Now serving: samosa\n",
      "Now serving: pasta\n",
      "Now serving: biryani\n",
      "Now serving: burger\n"
     ]
    }
   ],
   "source": [
    "from collections import deque\n",
    "import time\n",
    "import threading\n",
    "\n",
    "class Queue:\n",
    "    def __init__(self):\n",
    "        self.buffer = deque()\n",
    "\n",
    "    def enqueue(self, val):\n",
    "        self.buffer.appendleft(val)\n",
    "\n",
    "    def dequeue(self):\n",
    "        if len(self.buffer)==0:\n",
    "            print(\"dequeue from an empty queue\")\n",
    "            return\n",
    "            \n",
    "        return self.buffer.pop()\n",
    "\n",
    "    def front(self):\n",
    "        if self.is_empty():\n",
    "            raise IndexError(\"front from an empty queue\")\n",
    "        return self.buffer[0]\n",
    "\n",
    "    def is_empty(self):\n",
    "        return len(self.buffer) == 0\n",
    "\n",
    "    def size(self):\n",
    "        return len(self.buffer)\n",
    "\n",
    "\n",
    "def place_orders(queue, orders):\n",
    "    for order in orders:\n",
    "        print(\"Placing order for:\",order)\n",
    "        queue.enqueue(order)\n",
    "        time.sleep(0.5)\n",
    "\n",
    "def serve_orders(queue):\n",
    "    time.sleep(1)\n",
    "    while True:\n",
    "        if queue.is_empty():\n",
    "            break\n",
    "        order = queue.dequeue()\n",
    "        print(\"Now serving:\",order)\n",
    "        time.sleep(2)\n",
    "\n",
    "if __name__ == \"__main__\":\n",
    "    orders = ['pizza','samosa','pasta','biryani','burger']\n",
    "    food_order_queue = Queue()\n",
    "    \n",
    "    t1 = threading.Thread(target=place_orders, args=(food_order_queue, orders,))\n",
    "    t2 = threading.Thread(target=serve_orders, args=(food_order_queue,))\n",
    "\n",
    "t1.start()\n",
    "t2.start()"
   ]
  },
  {
   "cell_type": "code",
   "execution_count": 61,
   "id": "41be0f82-1089-4338-9102-735617fd9258",
   "metadata": {},
   "outputs": [
    {
     "name": "stdout",
     "output_type": "stream",
     "text": [
      "  1\n",
      "  10\n",
      "  11\n",
      "  100\n",
      "  101\n",
      "  110\n",
      "  111\n",
      "  1000\n",
      "  1001\n",
      "  1010\n"
     ]
    }
   ],
   "source": [
    "from collections import deque\n",
    "\n",
    "class Queue:\n",
    "    def __init__(self):\n",
    "        self.buffer = deque()\n",
    "\n",
    "    def enqueue(self, val):\n",
    "        self.buffer.appendleft(val)\n",
    "\n",
    "    def dequeue(self):\n",
    "        if len(self.buffer)==0:\n",
    "            print(\"dequeue from an empty queue\")\n",
    "            return\n",
    "            \n",
    "        return self.buffer.pop()\n",
    "\n",
    "    def front(self):\n",
    "        if self.is_empty():\n",
    "            raise IndexError(\"front from an empty queue\")\n",
    "        return self.buffer[-1]\n",
    "\n",
    "    def is_empty(self):\n",
    "        return len(self.buffer) == 0\n",
    "\n",
    "    def size(self):\n",
    "        return len(self.buffer)\n",
    "\n",
    "def produce_binary_numbers(n):\n",
    "    numbers_queue = Queue()\n",
    "    numbers_queue.enqueue('1')\n",
    "    \n",
    "    for i in range(n):\n",
    "        front = numbers_queue.front()\n",
    "        print(\" \",front)\n",
    "        numbers_queue.enqueue(front + \"0\")\n",
    "        numbers_queue.enqueue(front + \"1\")\n",
    "\n",
    "        numbers_queue.dequeue()\n",
    "    \n",
    "\n",
    "if __name__ == '__main__':\n",
    "    produce_binary_numbers(10)"
   ]
  },
  {
   "cell_type": "code",
   "execution_count": null,
   "id": "594e17b5-bbf4-476c-bd83-c4f3555bebed",
   "metadata": {},
   "outputs": [],
   "source": []
  }
 ],
 "metadata": {
  "kernelspec": {
   "display_name": "Python 3 (ipykernel)",
   "language": "python",
   "name": "python3"
  },
  "language_info": {
   "codemirror_mode": {
    "name": "ipython",
    "version": 3
   },
   "file_extension": ".py",
   "mimetype": "text/x-python",
   "name": "python",
   "nbconvert_exporter": "python",
   "pygments_lexer": "ipython3",
   "version": "3.8.10"
  }
 },
 "nbformat": 4,
 "nbformat_minor": 5
}
